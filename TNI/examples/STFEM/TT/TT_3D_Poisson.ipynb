{
 "cells": [
  {
   "cell_type": "code",
   "execution_count": 1,
   "id": "1517fb85-a9e7-4533-8ebf-cba825fb8db7",
   "metadata": {},
   "outputs": [],
   "source": [
    "addpath(genpath('../../../matlab/STFEM/src/'))\n",
    "addpath(genpath('../../../matlab/utils/chebfun/'))\n",
    "addpath(genpath('../../../matlab/utils/tt-toolbox/'))\n",
    "addpath(genpath('../../../matlab/utils/ttfunc/'))"
   ]
  },
  {
   "cell_type": "code",
   "execution_count": 2,
   "id": "626805de-e026-46fb-924d-4347b532a761",
   "metadata": {},
   "outputs": [
    {
     "name": "stderr",
     "output_type": "stream",
     "text": [
      "Warning: MEX local solver is not found, disabled"
     ]
    },
    {
     "name": "stdout",
     "output_type": "stream",
     "text": [
      "******************************\n",
      "Ex = 17, qtt error = 3.94e-03 \n",
      "hx = 5.88e-02 - tt tol = 3.46e-05 \n",
      "Elapsed time = 0.60 s \n",
      "Ag compress = 5.19e-04 \n",
      "u compress = 5.94e-01 \n",
      "truncated u compress = 1.17e-02 \n",
      "Result is saved for Nx = 18 \n"
     ]
    },
    {
     "name": "stderr",
     "output_type": "stream",
     "text": [
      "Warning: MEX local solver is not found, disabled"
     ]
    },
    {
     "name": "stdout",
     "output_type": "stream",
     "text": [
      "******************************\n",
      "Ex = 17, qtt error = 3.94e-03 \n",
      "hx = 5.88e-02 - tt tol = 3.46e-05 \n",
      "Elapsed time = 0.24 s \n",
      "Ag compress = 5.19e-04 \n",
      "u compress = 5.94e-01 \n",
      "truncated u compress = 1.17e-02 \n",
      "Result is saved for Nx = 18 \n"
     ]
    },
    {
     "name": "stderr",
     "output_type": "stream",
     "text": [
      "Warning: MEX local solver is not found, disabled"
     ]
    },
    {
     "name": "stdout",
     "output_type": "stream",
     "text": [
      "******************************\n",
      "Ex = 17, qtt error = 3.94e-03 \n",
      "hx = 5.88e-02 - tt tol = 3.46e-05 \n",
      "Elapsed time = 0.23 s \n",
      "Ag compress = 5.19e-04 \n",
      "u compress = 5.94e-01 \n",
      "truncated u compress = 1.17e-02 \n",
      "Result is saved for Nx = 18 \n"
     ]
    },
    {
     "name": "stderr",
     "output_type": "stream",
     "text": [
      "Warning: MEX local solver is not found, disabled"
     ]
    },
    {
     "name": "stdout",
     "output_type": "stream",
     "text": [
      "******************************\n",
      "Ex = 33, qtt Err = 1.07769e-03 , convrate = 1.86943\n",
      "hx = 3.03e-02 - tt tol = 9.18e-06 \n",
      "Elapsed time = 0.93 s \n",
      "Ag compress = 3.24e-05 \n",
      "u compress = 3.62e-01 \n",
      "truncated u compress = 2.93e-03 \n",
      "Result is saved for Nx = 34 \n"
     ]
    },
    {
     "name": "stderr",
     "output_type": "stream",
     "text": [
      "Warning: MEX local solver is not found, disabled"
     ]
    },
    {
     "name": "stdout",
     "output_type": "stream",
     "text": [
      "******************************\n",
      "Ex = 65, qtt Err = 2.80726e-04 , convrate = 1.94071\n",
      "hx = 1.54e-02 - tt tol = 2.37e-06 \n",
      "Elapsed time = 5.58 s \n",
      "Ag compress = 2.03e-06 \n",
      "u compress = 1.64e-01 \n",
      "truncated u compress = 7.32e-04 \n",
      "Result is saved for Nx = 66 \n"
     ]
    },
    {
     "name": "stderr",
     "output_type": "stream",
     "text": [
      "Warning: MEX local solver is not found, disabled"
     ]
    },
    {
     "name": "stdout",
     "output_type": "stream",
     "text": [
      "******************************\n",
      "Ex = 129, qtt Err = 7.14974e-05 , convrate = 1.97320\n",
      "hx = 7.75e-03 - tt tol = 6.01e-07 \n",
      "Elapsed time = 52.22 s \n",
      "Ag compress = 1.27e-07 \n",
      "u compress = 6.63e-02 \n",
      "truncated u compress = 1.83e-04 \n",
      "Result is saved for Nx = 130 \n"
     ]
    },
    {
     "name": "stderr",
     "output_type": "stream",
     "text": [
      "Warning: MEX local solver is not found, disabled"
     ]
    },
    {
     "name": "stdout",
     "output_type": "stream",
     "text": [
      "--warn-- the residual damp was smaller than in the truncation\n",
      "--warn-- the residual damp was smaller than in the truncation\n",
      "--warn-- the residual damp was smaller than in the truncation\n",
      "--warn-- the residual damp was smaller than in the truncation\n",
      "--warn-- the residual damp was smaller than in the truncation\n",
      "--warn-- the residual damp was smaller than in the truncation\n",
      "--warn-- the residual damp was smaller than in the truncation\n",
      "--warn-- the residual damp was smaller than in the truncation\n",
      "******************************\n",
      "Ex = 257, qtt Err = 1.80068e-05 , convrate = 1.98935\n",
      "hx = 3.89e-03 - tt tol = 1.51e-07 \n",
      "Elapsed time = 298.89 s \n",
      "Ag compress = 7.92e-09 \n",
      "u compress = 2.93e-02 \n",
      "truncated u compress = 4.58e-05 \n",
      "Result is saved for Nx = 258 \n"
     ]
    }
   ],
   "source": [
    "%% problem definitions\n",
    "uexactfn = @(x,y,z) sin(pi*x).*sin(pi*y).*sin(pi*z);\n",
    "afn = @(x,y,z) 1 + cos(pi*(x+y)).*cos(pi*z);\n",
    "f = compute_3D_rhs_fn(uexactfn,afn);\n",
    "d = 3;\n",
    "NEs = 1 + 2.^[4:8];%full run\n",
    "\n",
    "amen_cross = @amen_cross_zero;\n",
    "%%\n",
    "R = cell(numel(NEs),1);\n",
    "fname='../plot_data/TT_3D_Poisson.mat';\n",
    "\n",
    "for jjns = [1,1,1:numel(NEs)]\n",
    "  %% parameters\n",
    "  tic;\n",
    "\n",
    "  Lx = 1; % Length of the domain in x-direction\n",
    "  Ly = 1; % Length of the domain in y-direction\n",
    "  Lz = 1;\n",
    "  Ex = NEs(jjns); % Number of elements in x-direction\n",
    "  hx = Lx / Ex; % Element size in x-direction\n",
    "  Nx = Ex + 1; % Number of nodes in x-direction\n",
    "\n",
    "  tt_tol = 0.01*hx^2;\n",
    "  %% Create mesh\n",
    "  X=0:hx:1;\n",
    "\n",
    "  %% create grid in tt\n",
    "  Itt = repmat({ones(1, Nx)}, 1, d);\n",
    "  Ctt = cell(1, d);\n",
    "  for ic = 1:d\n",
    "    temp = Itt;\n",
    "    temp{ic} = X;\n",
    "    Ctt{ic} = cell2core(tt_tensor,temp);\n",
    "  end\n",
    "\n",
    "  %% %%%%%%%%%%% Construction of the left hand side matrix\n",
    "  % Initialize NNL with zeros\n",
    "  NNL = sparse(Ex, 2*Ex);  % Using sparse matrix for efficiency\n",
    "\n",
    "  % Populate NNL matrix\n",
    "  for ii=2:Ex\n",
    "    NNL(ii,ii+(ii-2))=1; NNL(ii,ii+(ii-2)+1)=1;\n",
    "  end\n",
    "  NNL(1,1)=1; NNL(Nx, 2*Ex)=1;\n",
    "\n",
    "  NNR=NNL';\n",
    "\n",
    "\n",
    "  % Assemble stiffness matrix and load vector\n",
    "  [A1,A2,M1,M2] = nonlinear_Mat(X(1:2));\n",
    "  AA{1} = kron(eye(Ex),A1);\n",
    "  AA{2} = kron(eye(Ex),A2);\n",
    "  MM{1} = kron(eye(Ex),M1);\n",
    "  MM{2} = kron(eye(Ex),M2);\n",
    "\n",
    "  % Element stiffness matrix for a Q1 element in 2D\n",
    "  Bs=(hx)*(1/6)*[2 1;1 2];\n",
    "  ML = NNL*kron(eye(Ex),Bs)*NNR;\n",
    "  %%  FG Tensor Global Assemble\n",
    "  % nterm = 2; %number of rank-1 term in the decomposition of funciton a\n",
    "  att= amen_cross(Ctt, @(x) cross_fun_nD(x,afn),tt_tol,'verb',0);\n",
    "  %%\n",
    "  G = core2cell(att);\n",
    "  nt1 = att.r(2);\n",
    "  nt2 = att.r(3);\n",
    "\n",
    "  c.build1Dtime = toc;\n",
    "  %% Build the global operator for only interior nodes\n",
    "  tic;\n",
    "  Agtt = [];\n",
    "  Ix = [2:Ex]; % interior system\n",
    "\n",
    "  for j1 = 1:nt1\n",
    "    for j2 = 1:nt2\n",
    "\n",
    "      %% Build 1D matrix operator\n",
    "      CC = {kron(G{1}(1,:,j1)', [1;1]), kron(G{2}(j1,:,j2)', [1;1]), kron(G{3}(j2,:,1)', [1;1])};\n",
    "\n",
    "      % Calculate diagonal matrices only once\n",
    "      diag_CC = cell(d,2);\n",
    "      for idim = 1:d\n",
    "        diag_CC{idim,1} = diag(CC{idim}(1:end-2));\n",
    "        diag_CC{idim,2} = diag(CC{idim}(3:end));\n",
    "      end\n",
    "\n",
    "      % Compute AG and MG matrices with diag multiplications\n",
    "      for idim = 1:d\n",
    "        for ipt = 1:2\n",
    "          AG{idim,ipt} = NNL * (AA{ipt} * diag_CC{idim,ipt}) * NNR;\n",
    "          MG{idim,ipt} = NNL * (MM{ipt} * diag_CC{idim,ipt}) * NNR;\n",
    "        end\n",
    "      end\n",
    "\n",
    "      % Calculate the current TT matrix\n",
    "      Agttcur =[];\n",
    "      for ipt = 1:2\n",
    "        for ipt2 = 1:2\n",
    "          for ipt3 = 1:2\n",
    "            curterm = round(...\n",
    "              matrices_to_tt_matrix_fn({AG{1,ipt}(Ix, Ix), ...\n",
    "              MG{2,ipt2}(Ix, Ix), MG{3,ipt3}(Ix, Ix)}) ...\n",
    "              + matrices_to_tt_matrix_fn({MG{1,ipt}(Ix, Ix), ...\n",
    "              AG{2,ipt2}(Ix, Ix),MG{3,ipt3}(Ix, Ix)}) ...\n",
    "              + matrices_to_tt_matrix_fn({MG{1,ipt}(Ix, Ix), ...\n",
    "              MG{2,ipt2}(Ix, Ix),AG{3,ipt3}(Ix, Ix)}),tt_tol);\n",
    "            if isempty(Agttcur)\n",
    "              Agttcur=curterm;\n",
    "            else\n",
    "              Agttcur = round(Agttcur + curterm, tt_tol);\n",
    "            end\n",
    "          end\n",
    "        end\n",
    "      end\n",
    "\n",
    "      % Add the current TT matrix to the total\n",
    "      if isempty(Agtt)\n",
    "        Agtt = round(Agttcur, tt_tol);\n",
    "      else\n",
    "        Agtt = round(Agtt + Agttcur, tt_tol);\n",
    "      end\n",
    "    end\n",
    "  end\n",
    "  c.buildTTopstime = toc;\n",
    "  %% Get the rhs term\n",
    "  tic;\n",
    "  LLtt= amen_cross_zero(Ctt, @(x) cross_fun_nD(x,f),tt_tol,'verb',0);\n",
    "  MMtt = matrices_to_tt_matrix_fn(repmat({ML(Ix,:)}, 1, d));\n",
    "  F_newtt = amen_mv(MMtt,LLtt,tt_tol,'verb',0);\n",
    "\n",
    "  c.rhsbuildtime = toc;\n",
    "\n",
    "  %% linear solve\n",
    "  tic;\n",
    "  opts = {'verb',0,'resid_damp',2};\n",
    "  uqtt = amen_solve2(Agtt,F_newtt,tt_tol,opts);\n",
    "  \n",
    "  Agcomp = compress_ratio_tt(Agtt);\n",
    "  ucomp = compress_ratio_tt(uqtt);\n",
    "\n",
    "  tqTTsolve = toc;\n",
    "  %% compute error\n",
    "  uexacttt= amen_cross_zero(Ctt, @(x) cross_fun_nD(x,uexactfn),tt_tol,'verb',0);\n",
    "  uexacttt = tt_get_inner(uexacttt,repmat({2:Nx-1},1,d));\n",
    "  uexacttt = tt_reshape(uexacttt, size(uqtt),tt_tol);\n",
    "\n",
    "  Errtt(jjns)=norm(uqtt-uexacttt)/norm(uexacttt);\n",
    "  utrunccomp = compress_ratio_tt(round(uqtt,Errtt(jjns)));\n",
    "\n",
    "  %% store the results\n",
    "  c.hx = hx;\n",
    "  c.tt_tol = tt_tol;\n",
    "  c.Agttcomp = Agcomp;\n",
    "  c.Agttrank = Agtt.r;\n",
    "  c.error = Errtt(jjns);\n",
    "  c.buildtime = c.build1Dtime + c.buildTTopstime + c.rhsbuildtime;\n",
    "  c.TTsolvetime = tqTTsolve;\n",
    "  c.time = c.buildtime+c.TTsolvetime;\n",
    "\n",
    "  R{jjns,1} = c;\n",
    "  \n",
    "  %% print out errors\n",
    "  fprintf('%s\\n',repmat('*',30,1));\n",
    "  if jjns==1\n",
    "    fprintf('Ex = %d, ',Ex);\n",
    "    fprintf('qtt error = %.2e \\n',Errtt(jjns));\n",
    "  else\n",
    "    fprintf('Ex = %d, qtt Err = %.5e , convrate = %.5f\\n',Ex,Errtt(jjns),...\n",
    "      ( log(Errtt(jjns)) - log(Errtt(jjns-1)) )...\n",
    "      /log((NEs(jjns-1)-1)/(NEs(jjns)-1)));\n",
    "  end\n",
    "  fprintf('hx = %.2e - tt tol = %.2e \\n', hx, tt_tol);\n",
    "  fprintf('Elapsed time = %.2f s \\n',c.time);\n",
    "  % fprintf(['Build Time = %.5f seconds, TTsolve time = %.5f seconds, ' ...\n",
    "  %   'qTTsolve time = %.5f \\n'],c.buildtime, c.TTsolvetime, c.qTTsolvetime)\n",
    "  fprintf('Ag compress = %.2e \\n', Agcomp);\n",
    "  fprintf('u compress = %.2e \\n', ucomp);\n",
    "  fprintf('truncated u compress = %.2e \\n', utrunccomp);\n",
    "\n",
    "  %% save\n",
    "  save(fname,'NEs','uexactfn','afn','f','R');\n",
    "  fprintf('Result is saved for Nx = %d \\n', Nx);\n",
    "end"
   ]
  },
  {
   "cell_type": "code",
   "execution_count": null,
   "id": "f96fb267-85af-4e4f-80bb-469579f85bee",
   "metadata": {},
   "outputs": [],
   "source": []
  }
 ],
 "metadata": {
  "kernelspec": {
   "display_name": "MATLAB Kernel",
   "language": "matlab",
   "name": "jupyter_matlab_kernel"
  },
  "language_info": {
   "file_extension": ".m",
   "mimetype": "text/x-matlab",
   "name": "matlab"
  }
 },
 "nbformat": 4,
 "nbformat_minor": 5
}
