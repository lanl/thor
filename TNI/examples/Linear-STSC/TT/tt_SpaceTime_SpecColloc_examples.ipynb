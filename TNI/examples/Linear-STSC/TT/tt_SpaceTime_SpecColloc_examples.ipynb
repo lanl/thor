{
 "cells": [
  {
   "cell_type": "code",
   "execution_count": 4,
   "id": "2ef6e1ef-b0db-4595-899f-01be589060cd",
   "metadata": {},
   "outputs": [],
   "source": [
    "addpath(genpath('../../../matlab/Linear-STSC/src/'))\n",
    "addpath(genpath('../../../matlab/utils/chebfun/'))\n",
    "addpath(genpath('../../../matlab/utils/tt-toolbox/'))\n",
    "addpath(genpath('../../../matlab/utils/ttfunc/'))\n",
    "close all; clear;"
   ]
  },
  {
   "cell_type": "code",
   "execution_count": 5,
   "id": "caedaa85-d31d-4469-88d0-086e5df9f672",
   "metadata": {},
   "outputs": [
    {
     "name": "stdout",
     "output_type": "stream",
     "text": [
      "Working on testcase ConstantCoeff \n",
      "amen-mv: swp=1{1}, max_dx=1.137e+00, max_r=5\n",
      "amen-mv: swp=1{0}, max_dx=7.873e-16, max_r=3\n"
     ]
    },
    {
     "name": "stderr",
     "output_type": "stream",
     "text": [
      "Warning: MEX local solver is not found, disabled"
     ]
    },
    {
     "name": "stdout",
     "output_type": "stream",
     "text": [
      "=amen_solve= sweep 1, max_dx: 1.499e+00, max_res: 1.598e+00, max_rank: 6\n",
      "=amen_solve= sweep 2, max_dx: 7.334e-16, max_res: 6.488e-16, max_rank: 6\n",
      "=amen_solve= sweep 3, max_dx: 7.618e-16, max_res: 8.176e-16, max_rank: 3\n",
      "=amen_cross= swp=1, max_dx=4.137e+00, max_rank=4, #ifun_evals=0, #ffun_evals=456\n",
      "=amen_cross= swp=2, max_dx=2.985e-02, max_rank=6, #ifun_evals=0, #ffun_evals=1144\n",
      "=amen_cross= swp=3, max_dx=4.471e-15, max_rank=7, #ifun_evals=0, #ffun_evals=1936\n",
      "=amen_cross= swp=4, max_dx=5.091e-15, max_rank=5, #ifun_evals=0, #ffun_evals=2168\n",
      "=amen_cross= swp=5, max_dx=3.672e-15, max_rank=5, #ifun_evals=0, #ffun_evals=2360\n",
      "Solution Error between TT and matrix= 5.83e-04 \n",
      "Elapsed time of tt = 0.71 seconds \n",
      "Compression Ratio of ttsol = 1.79e+00 \n",
      "amen-mv: swp=1{1}, max_dx=9.794e-01, max_r=6\n",
      "amen-mv: swp=1{0}, max_dx=5.613e-04, max_r=6\n",
      "amen-mv: swp=2{1}, max_dx=1.531e-04, max_r=10\n",
      "amen-mv: swp=2{0}, max_dx=1.216e-13, max_r=10\n"
     ]
    },
    {
     "name": "stderr",
     "output_type": "stream",
     "text": [
      "Warning: MEX local solver is not found, disabled"
     ]
    },
    {
     "name": "stdout",
     "output_type": "stream",
     "text": [
      "=amen_solve= sweep 1, max_dx: 1.938e+00, max_res: 2.004e+00, max_rank: 6\n",
      "=amen_solve= sweep 2, max_dx: 5.607e-03, max_res: 6.394e-03, max_rank: 10\n",
      "=amen_solve= sweep 3, max_dx: 1.202e-05, max_res: 1.420e-05, max_rank: 14\n",
      "=amen_solve= sweep 4, max_dx: 8.591e-14, max_res: 1.048e-13, max_rank: 14\n",
      "=amen_solve= sweep 5, max_dx: 1.646e-14, max_res: 6.430e-14, max_rank: 10\n",
      "=amen_cross= swp=1, max_dx=1.157e+01, max_rank=4, #ifun_evals=0, #ffun_evals=852\n",
      "=amen_cross= swp=2, max_dx=2.785e-02, max_rank=6, #ifun_evals=0, #ffun_evals=2376\n",
      "=amen_cross= swp=3, max_dx=9.415e-15, max_rank=7, #ifun_evals=0, #ffun_evals=4134\n",
      "=amen_cross= swp=4, max_dx=3.970e-15, max_rank=5, #ifun_evals=0, #ffun_evals=4596\n",
      "=amen_cross= swp=5, max_dx=4.092e-15, max_rank=5, #ifun_evals=0, #ffun_evals=4956\n",
      "Solution Error between TT and matrix= 8.98e-07 \n",
      "Elapsed time of tt = 0.44 seconds \n",
      "Compression Ratio of ttsol = 1.25e+00 \n",
      "amen-mv: swp=1{1}, max_dx=1.218e+00, max_r=6\n",
      "amen-mv: swp=1{0}, max_dx=1.844e-03, max_r=6\n",
      "amen-mv: swp=2{1}, max_dx=2.279e-04, max_r=10\n",
      "amen-mv: swp=2{0}, max_dx=4.360e-15, max_r=10\n"
     ]
    },
    {
     "name": "stderr",
     "output_type": "stream",
     "text": [
      "Warning: MEX local solver is not found, disabled"
     ]
    },
    {
     "name": "stdout",
     "output_type": "stream",
     "text": [
      "=amen_solve= sweep 1, max_dx: 3.380e+00, max_res: 3.314e+00, max_rank: 6\n",
      "=amen_solve= sweep 2, max_dx: 2.119e-02, max_res: 1.876e-02, max_rank: 10\n",
      "=amen_solve= sweep 3, max_dx: 4.428e-05, max_res: 4.266e-05, max_rank: 14\n",
      "=amen_solve= sweep 4, max_dx: 1.755e-10, max_res: 1.220e-10, max_rank: 17\n",
      "=amen_solve= sweep 5, max_dx: 3.864e-13, max_res: 3.692e-13, max_rank: 18\n",
      "=amen_solve= sweep 6, max_dx: 1.348e-13, max_res: 2.300e-13, max_rank: 14\n",
      "=amen_cross= swp=1, max_dx=6.655e+00, max_rank=4, #ifun_evals=0, #ffun_evals=1216\n",
      "=amen_cross= swp=2, max_dx=1.413e-04, max_rank=6, #ifun_evals=0, #ffun_evals=3600\n",
      "=amen_cross= swp=3, max_dx=1.297e-14, max_rank=7, #ifun_evals=0, #ffun_evals=6424\n",
      "=amen_cross= swp=4, max_dx=8.260e-15, max_rank=5, #ifun_evals=0, #ffun_evals=7080\n",
      "=amen_cross= swp=5, max_dx=5.817e-15, max_rank=5, #ifun_evals=0, #ffun_evals=7560\n",
      "Solution Error between TT and matrix= 9.19e-10 \n",
      "Elapsed time of tt = 0.47 seconds \n",
      "Compression Ratio of ttsol = 7.78e-01 \n"
     ]
    }
   ],
   "source": [
    "%% load test cases\n",
    "testname = 'ConstantCoeff'; %example 1 - constant coefficient\n",
    "% testname = 'VariableCoeff'; %example 2 - variable coefficient\n",
    "% testname = 'NonSmooth'; %example 3 - variable coefficient\n",
    "\n",
    "fprintf('Working on testcase %s \\n',testname);\n",
    "load(sprintf('../testcases/%s.mat',testname));\n",
    "\n",
    "%%\n",
    "%domain\n",
    "a = -1;\n",
    "b = 1;\n",
    "%\n",
    "tol = 1e-12;\n",
    "type='Chebyshev';\n",
    "savefilename = sprintf('../plot_data/tt_ST_SP_%s.mat',testname);\n",
    "%% now the time step is the same as space step\n",
    "Ns = [4,6,8];\n",
    "\n",
    "R = cell(numel(Ns),1);\n",
    "for i = [1:numel(Ns)]\n",
    "  tic\n",
    "  n = Ns(i);\n",
    "  TN = n;\n",
    "  SN = n-1;\n",
    "  N1 = SN+1;\n",
    "\n",
    "  %%\n",
    "  [ttsol,Ctt] = tt_ST_Spectral_3D_Solver(testcase,SN,type,tol,a,b);\n",
    "  tt_time = toc;\n",
    "\n",
    "  %% check the error\n",
    "  exacttt = amen_cross(Ctt, @(x) cross_fun_nD(x,testcase.exactfn),tol);\n",
    "  exacttt = tt_get_inner(exacttt,{2:N1,2:N1-1,2:N1-1,2:N1-1});\n",
    "\n",
    "  Err = norm(ttsol-exacttt)/norm(exacttt);\n",
    "  fprintf('Solution Error between TT and matrix= %.2e \\n',...\n",
    "    Err);\n",
    "\n",
    "  fprintf('Elapsed time of tt = %.2f seconds \\n', tt_time)\n",
    "  fprintf('Compression Ratio of ttsol = %.2e \\n', compress_ratio_tt(ttsol));\n",
    "\n",
    "\n",
    "  %% collect results\n",
    "  c.sol = ttsol;\n",
    "  c.err = Err;\n",
    "  c.time = tt_time;\n",
    "  R{i} = c;\n",
    "\n",
    "  save(savefilename,'Ns','R','tol','testcase','type');\n",
    "end\n",
    "\n",
    "\n",
    "\n"
   ]
  },
  {
   "cell_type": "code",
   "execution_count": null,
   "id": "1ca5c349-049d-4f31-81a7-68878458f281",
   "metadata": {},
   "outputs": [],
   "source": []
  }
 ],
 "metadata": {
  "kernelspec": {
   "display_name": "MATLAB Kernel",
   "language": "matlab",
   "name": "jupyter_matlab_kernel"
  },
  "language_info": {
   "file_extension": ".m",
   "mimetype": "text/x-matlab",
   "name": "matlab"
  }
 },
 "nbformat": 4,
 "nbformat_minor": 5
}
