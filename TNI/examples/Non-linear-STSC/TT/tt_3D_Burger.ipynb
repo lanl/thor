{
 "cells": [
  {
   "cell_type": "markdown",
   "id": "931d9e2f-6d54-43e6-8b9a-8f1dcf041ce5",
   "metadata": {},
   "source": [
    "<h1>Tensor Network Space-Time Spectral Collocation Method for Solving the Nonlinear Convection Diffusion Equation</h1>"
   ]
  },
  {
   "cell_type": "markdown",
   "id": "f172df3d-d1b5-4232-8bdb-3e937c2f46e2",
   "metadata": {},
   "source": [
    "Dibyendu Adak, M. Engin Danis, Duc P. Truong, Kim Ø. Rasmussen & Boian S. Alexandrov "
   ]
  },
  {
   "cell_type": "markdown",
   "id": "6d399d24-efef-4558-a22d-986c7bb3bdaa",
   "metadata": {},
   "source": [
    "http://link.springer.com/article/10.1007/s10915-025-02860-x"
   ]
  },
  {
   "cell_type": "markdown",
   "id": "e11945f2-0849-443d-8573-52a5601752e1",
   "metadata": {},
   "source": [
    "This notebook corresponds to the Tensor-Train implementation of example 3 in the above paper: 3D Viscous Burgers’ Equation"
   ]
  },
  {
   "cell_type": "markdown",
   "id": "9c58099b-450a-4ef5-b938-5c3d90702be6",
   "metadata": {},
   "source": [
    "<h3>\n",
    "$$ \\dfrac{\\partial u}{\\partial t} + u(u_x + u_y + u_z) = {\\nu }\\Delta u $$\n",
    "</h3>"
   ]
  },
  {
   "cell_type": "code",
   "execution_count": 1,
   "id": "98181822-bd92-41a7-9424-3a5e0be3353e",
   "metadata": {},
   "outputs": [],
   "source": [
    "addpath(genpath('../../../matlab/Linear-STSC/src/'))\n",
    "addpath(genpath('../../../matlab/Non-linear-STSC/src/'))\n",
    "addpath(genpath('../../../matlab/utils/chebfun/'))\n",
    "addpath(genpath('../../../matlab/utils/tt-toolbox/'))\n",
    "addpath(genpath('../../../matlab/utils/ttfunc/'))\n",
    "\n",
    "close all; clear;"
   ]
  },
  {
   "cell_type": "code",
   "execution_count": 2,
   "id": "a9a56f2c-5b65-4316-b312-f265c1727493",
   "metadata": {},
   "outputs": [
    {
     "name": "stdout",
     "output_type": "stream",
     "text": [
      "Working on testcase ../testcases/Burger3D \n"
     ]
    },
    {
     "name": "stderr",
     "output_type": "stream",
     "text": [
      "Warning: Could not find appropriate function on path loading function handle /Users/dptruong/project/tt_space_time/nonlinear_spec_colloc/Burger_testcase.m>@(u)uWarning: Could not find appropriate function on path loading function handle /Users/dptruong/project/tt_space_time/nonlinear_spec_colloc/Burger_testcase.m>@(u)uWarning: Could not find appropriate function on path loading function handle /Users/dptruong/project/tt_space_time/nonlinear_spec_colloc/Burger_testcase.m>@(u)uWarning: Could not find appropriate function on path loading function handle /Users/dptruong/project/tt_space_time/nonlinear_spec_colloc/Burger_testcase.m>@(u)1Warning: Could not find appropriate function on path loading function handle /Users/dptruong/project/tt_space_time/nonlinear_spec_colloc/Burger_testcase.m>@(u)1Warning: Could not find appropriate function on path loading function handle /Users/dptruong/project/tt_space_time/nonlinear_spec_colloc/Burger_testcase.m>@(u)1"
     ]
    },
    {
     "name": "stdout",
     "output_type": "stream",
     "text": [
      "************************************\n",
      "n = 4 \n",
      "\n",
      "******** Newton iter = 1 ************\n",
      "\n",
      "epsk = 1.00000e-01 \n"
     ]
    },
    {
     "name": "stderr",
     "output_type": "stream",
     "text": [
      "Warning: MEX local solver is not found, disabled"
     ]
    },
    {
     "name": "stdout",
     "output_type": "stream",
     "text": [
      "=amen_solve= sweep 1, max_dx: 2.731e+00, max_res: 5.066e+00, max_rank: 6\n",
      "=amen_solve= sweep 2, max_dx: 4.883e-16, max_res: 4.084e-16, max_rank: 6\n",
      "=amen_solve= sweep 3, max_dx: 5.324e-16, max_res: 6.477e-16, max_rank: 2\n",
      "Linear Solve Time = 0.39\n",
      "apha = 1.00e+00 \n",
      "u_err = Inf,  Fu_ratio = 1.98080e-02 \n",
      "iter time = 0.60 \n",
      "\n",
      "******** Newton iter = 2 ************\n",
      "\n",
      "epsk = 1.98080e-02 \n"
     ]
    },
    {
     "name": "stderr",
     "output_type": "stream",
     "text": [
      "Warning: MEX local solver is not found, disabled"
     ]
    },
    {
     "name": "stdout",
     "output_type": "stream",
     "text": [
      "=amen_solve= sweep 1, max_dx: 8.249e+01, max_res: 2.333e+02, max_rank: 6\n",
      "=amen_solve= sweep 2, max_dx: 1.303e-03, max_res: 4.276e-03, max_rank: 6\n",
      "=amen_solve= sweep 3, max_dx: 1.503e-03, max_res: 2.542e-03, max_rank: 2\n",
      "Linear Solve Time = 0.17\n",
      "apha = 1.00e+00 \n",
      "u_err = 3.46297e-02,  Fu_ratio = 2.09028e-03 \n",
      "iter time = 0.27 \n",
      "\n",
      "******** Newton iter = 3 ************\n",
      "\n",
      "epsk = 2.09028e-03 \n"
     ]
    },
    {
     "name": "stderr",
     "output_type": "stream",
     "text": [
      "Warning: MEX local solver is not found, disabled"
     ]
    },
    {
     "name": "stdout",
     "output_type": "stream",
     "text": [
      "=amen_solve= sweep 1, max_dx: 3.320e+03, max_res: 7.437e+03, max_rank: 6\n",
      "=amen_solve= sweep 2, max_dx: 2.372e-04, max_res: 8.872e-04, max_rank: 6\n",
      "=amen_solve= sweep 3, max_dx: 6.455e-04, max_res: 7.605e-04, max_rank: 3\n",
      "Linear Solve Time = 0.10\n",
      "apha = 1.00e+00 \n",
      "u_err = 2.88379e-03,  Fu_ratio = 1.91961e-04 \n",
      "iter time = 0.13 \n",
      "\n",
      "******** Newton iter = 4 ************\n",
      "\n",
      "epsk = 1.91961e-04 \n"
     ]
    },
    {
     "name": "stderr",
     "output_type": "stream",
     "text": [
      "Warning: MEX local solver is not found, disabled"
     ]
    },
    {
     "name": "stdout",
     "output_type": "stream",
     "text": [
      "=amen_solve= sweep 1, max_dx: 1.502e+04, max_res: 3.937e+04, max_rank: 6\n",
      "=amen_solve= sweep 2, max_dx: 1.391e-12, max_res: 2.322e-12, max_rank: 6\n",
      "=amen_solve= sweep 3, max_dx: 1.267e-12, max_res: 2.840e-12, max_rank: 3\n",
      "Linear Solve Time = 0.13\n",
      "apha = 1.00e+00 \n",
      "u_err = 3.29963e-04,  Fu_ratio = 1.98312e-05 \n",
      "iter time = 0.16 \n",
      "\n",
      "******** Newton iter = 5 ************\n",
      "\n",
      "epsk = 1.98312e-05 \n"
     ]
    },
    {
     "name": "stderr",
     "output_type": "stream",
     "text": [
      "Warning: MEX local solver is not found, disabled"
     ]
    },
    {
     "name": "stdout",
     "output_type": "stream",
     "text": [
      "=amen_solve= sweep 1, max_dx: 9.561e+04, max_res: 3.000e+05, max_rank: 6\n",
      "=amen_solve= sweep 2, max_dx: 2.621e-11, max_res: 3.347e-11, max_rank: 6\n",
      "=amen_solve= sweep 3, max_dx: 3.114e-11, max_res: 4.163e-11, max_rank: 3\n",
      "Linear Solve Time = 0.11\n",
      "apha = 1.00e+00 \n",
      "u_err = 2.86801e-05,  Fu_ratio = 1.14747e-06 \n",
      "iter time = 0.14 \n",
      "=amen_cross= swp=1, max_dx=1.361e+00, max_rank=4, #ifun_evals=0, #ffun_evals=428\n",
      "=amen_cross= swp=2, max_dx=3.815e-15, max_rank=4, #ifun_evals=0, #ffun_evals=1056\n",
      "=amen_cross= swp=3, max_dx=2.867e-16, max_rank=2, #ifun_evals=0, #ffun_evals=1124\n",
      "Solution Error between TT and Exact= 2.54e-01 \n",
      "Newton Iter = 5 \n",
      "Elapsed time of tt = 1.57 seconds \n",
      "************************************\n",
      "n = 6 \n",
      "\n",
      "******** Newton iter = 1 ************\n",
      "\n",
      "epsk = 1.00000e-01 \n"
     ]
    },
    {
     "name": "stderr",
     "output_type": "stream",
     "text": [
      "Warning: MEX local solver is not found, disabled"
     ]
    },
    {
     "name": "stdout",
     "output_type": "stream",
     "text": [
      "=amen_solve= sweep 1, max_dx: 6.191e+00, max_res: 1.606e+01, max_rank: 6\n",
      "=amen_solve= sweep 2, max_dx: 4.578e-02, max_res: 9.388e-02, max_rank: 7\n",
      "=amen_solve= sweep 3, max_dx: 7.510e-03, max_res: 1.356e-02, max_rank: 3\n",
      "Linear Solve Time = 0.08\n",
      "apha = 1.00e+00 \n",
      "u_err = Inf,  Fu_ratio = 1.34262e-01 \n",
      "iter time = 0.13 \n",
      "\n",
      "******** Newton iter = 2 ************\n",
      "\n",
      "epsk = 1.00000e-01 \n"
     ]
    },
    {
     "name": "stderr",
     "output_type": "stream",
     "text": [
      "Warning: MEX local solver is not found, disabled"
     ]
    },
    {
     "name": "stdout",
     "output_type": "stream",
     "text": [
      "=amen_solve= sweep 1, max_dx: 1.174e+01, max_res: 9.634e+00, max_rank: 6\n",
      "=amen_solve= sweep 2, max_dx: 1.110e-01, max_res: 1.026e-01, max_rank: 7\n",
      "=amen_solve= sweep 3, max_dx: 7.858e-02, max_res: 5.170e-02, max_rank: 8\n",
      "=amen_solve= sweep 4, max_dx: 4.695e-02, max_res: 5.465e-02, max_rank: 4\n",
      "Linear Solve Time = 0.08\n",
      "apha = 1.00e+00 \n",
      "u_err = 8.33105e-02,  Fu_ratio = 3.34204e-02 \n",
      "iter time = 0.12 \n",
      "\n",
      "******** Newton iter = 3 ************\n",
      "\n",
      "epsk = 3.34204e-02 \n"
     ]
    },
    {
     "name": "stderr",
     "output_type": "stream",
     "text": [
      "Warning: MEX local solver is not found, disabled"
     ]
    },
    {
     "name": "stdout",
     "output_type": "stream",
     "text": [
      "=amen_solve= sweep 1, max_dx: 4.221e+01, max_res: 9.571e+01, max_rank: 6\n",
      "=amen_solve= sweep 2, max_dx: 4.044e-01, max_res: 4.547e-01, max_rank: 10\n",
      "=amen_solve= sweep 3, max_dx: 9.385e-02, max_res: 1.214e-01, max_rank: 14\n",
      "=amen_solve= sweep 4, max_dx: 4.023e-02, max_res: 4.835e-02, max_rank: 15\n",
      "=amen_solve= sweep 5, max_dx: 1.357e-01, max_res: 1.577e-02, max_rank: 15\n",
      "=amen_solve= sweep 6, max_dx: 1.008e-01, max_res: 1.042e-01, max_rank: 11\n",
      "Linear Solve Time = 0.13\n",
      "apha = 1.00e+00 \n",
      "u_err = 2.58986e-02,  Fu_ratio = 1.42872e-02 \n",
      "iter time = 0.17 \n",
      "\n",
      "******** Newton iter = 4 ************\n",
      "\n",
      "epsk = 1.42872e-02 \n"
     ]
    },
    {
     "name": "stderr",
     "output_type": "stream",
     "text": [
      "Warning: MEX local solver is not found, disabled"
     ]
    },
    {
     "name": "stdout",
     "output_type": "stream",
     "text": [
      "=amen_solve= sweep 1, max_dx: 3.459e+02, max_res: 4.077e+02, max_rank: 6\n",
      "=amen_solve= sweep 2, max_dx: 4.497e-01, max_res: 9.316e-01, max_rank: 10\n",
      "=amen_solve= sweep 3, max_dx: 9.584e-02, max_res: 1.642e-01, max_rank: 14\n",
      "=amen_solve= sweep 4, max_dx: 3.365e-02, max_res: 7.218e-02, max_rank: 16\n",
      "=amen_solve= sweep 5, max_dx: 5.129e-03, max_res: 6.914e-03, max_rank: 16\n",
      "=amen_solve= sweep 6, max_dx: 1.359e-03, max_res: 4.970e-03, max_rank: 12\n",
      "Linear Solve Time = 0.10\n",
      "apha = 1.00e+00 \n",
      "u_err = 1.87403e-02,  Fu_ratio = 9.35314e-03 \n",
      "iter time = 0.13 \n",
      "\n",
      "******** Newton iter = 5 ************\n",
      "\n",
      "epsk = 9.35314e-03 \n"
     ]
    },
    {
     "name": "stderr",
     "output_type": "stream",
     "text": [
      "Warning: MEX local solver is not found, disabled"
     ]
    },
    {
     "name": "stdout",
     "output_type": "stream",
     "text": [
      "=amen_solve= sweep 1, max_dx: 3.029e+02, max_res: 9.804e+02, max_rank: 6\n",
      "=amen_solve= sweep 2, max_dx: 5.668e-01, max_res: 4.959e-01, max_rank: 10\n",
      "=amen_solve= sweep 3, max_dx: 4.932e-01, max_res: 4.334e-01, max_rank: 14\n",
      "=amen_solve= sweep 4, max_dx: 1.388e-02, max_res: 1.179e-02, max_rank: 16\n",
      "=amen_solve= sweep 5, max_dx: 1.027e-02, max_res: 4.529e-03, max_rank: 16\n",
      "=amen_solve= sweep 6, max_dx: 8.779e-03, max_res: 6.570e-03, max_rank: 12\n",
      "Linear Solve Time = 0.12\n",
      "apha = 1.00e+00 \n",
      "u_err = 3.83921e-03,  Fu_ratio = 8.01845e-03 \n",
      "iter time = 0.17 \n",
      "\n",
      "******** Newton iter = 6 ************\n",
      "\n",
      "epsk = 3.83921e-03 \n"
     ]
    },
    {
     "name": "stderr",
     "output_type": "stream",
     "text": [
      "Warning: MEX local solver is not found, disabled"
     ]
    },
    {
     "name": "stdout",
     "output_type": "stream",
     "text": [
      "=amen_solve= sweep 1, max_dx: 6.859e+02, max_res: 1.156e+03, max_rank: 6\n",
      "=amen_solve= sweep 2, max_dx: 4.911e-01, max_res: 5.988e-01, max_rank: 10\n",
      "=amen_solve= sweep 3, max_dx: 3.487e-01, max_res: 3.108e-01, max_rank: 14\n",
      "=amen_solve= sweep 4, max_dx: 3.575e-03, max_res: 2.909e-03, max_rank: 16\n",
      "=amen_solve= sweep 5, max_dx: 1.734e-04, max_res: 9.054e-04, max_rank: 12\n",
      "Linear Solve Time = 0.14\n",
      "apha = 1.00e+00 \n",
      "u_err = 6.52990e-03,  Fu_ratio = 2.53321e-03 \n",
      "iter time = 0.25 \n",
      "\n",
      "******** Newton iter = 7 ************\n",
      "\n",
      "epsk = 2.53321e-03 \n"
     ]
    },
    {
     "name": "stderr",
     "output_type": "stream",
     "text": [
      "Warning: MEX local solver is not found, disabled"
     ]
    },
    {
     "name": "stdout",
     "output_type": "stream",
     "text": [
      "=amen_solve= sweep 1, max_dx: 1.152e+03, max_res: 2.156e+03, max_rank: 6\n",
      "=amen_solve= sweep 2, max_dx: 5.980e-01, max_res: 9.756e-01, max_rank: 10\n",
      "=amen_solve= sweep 3, max_dx: 2.747e-01, max_res: 2.792e-01, max_rank: 14\n",
      "=amen_solve= sweep 4, max_dx: 3.375e-03, max_res: 2.870e-03, max_rank: 17\n",
      "=amen_solve= sweep 5, max_dx: 1.025e-03, max_res: 1.139e-03, max_rank: 17\n",
      "=amen_solve= sweep 6, max_dx: 2.362e-04, max_res: 6.994e-04, max_rank: 13\n",
      "Linear Solve Time = 0.12\n",
      "apha = 1.00e+00 \n",
      "u_err = 1.64521e-03,  Fu_ratio = 1.91840e-03 \n",
      "iter time = 0.26 \n",
      "\n",
      "******** Newton iter = 8 ************\n",
      "\n",
      "epsk = 1.64521e-03 \n"
     ]
    },
    {
     "name": "stderr",
     "output_type": "stream",
     "text": [
      "Warning: MEX local solver is not found, disabled"
     ]
    },
    {
     "name": "stdout",
     "output_type": "stream",
     "text": [
      "=amen_solve= sweep 1, max_dx: 1.654e+03, max_res: 2.610e+03, max_rank: 6\n",
      "=amen_solve= sweep 2, max_dx: 8.127e-01, max_res: 1.350e+00, max_rank: 10\n",
      "=amen_solve= sweep 3, max_dx: 9.598e-02, max_res: 8.593e-02, max_rank: 14\n",
      "=amen_solve= sweep 4, max_dx: 1.218e-03, max_res: 1.398e-03, max_rank: 16\n",
      "=amen_solve= sweep 5, max_dx: 8.211e-04, max_res: 7.567e-04, max_rank: 13\n",
      "Linear Solve Time = 0.15\n",
      "apha = 1.00e+00 \n",
      "u_err = 1.74938e-03,  Fu_ratio = 6.05999e-04 \n",
      "iter time = 0.20 \n",
      "\n",
      "******** Newton iter = 9 ************\n",
      "\n",
      "epsk = 6.05999e-04 \n"
     ]
    },
    {
     "name": "stderr",
     "output_type": "stream",
     "text": [
      "Warning: MEX local solver is not found, disabled"
     ]
    },
    {
     "name": "stdout",
     "output_type": "stream",
     "text": [
      "=amen_solve= sweep 1, max_dx: 1.062e+04, max_res: 2.110e+04, max_rank: 6\n",
      "=amen_solve= sweep 2, max_dx: 6.681e-01, max_res: 3.395e-01, max_rank: 10\n",
      "=amen_solve= sweep 3, max_dx: 1.367e-01, max_res: 5.724e-02, max_rank: 14\n",
      "=amen_solve= sweep 4, max_dx: 1.245e-03, max_res: 5.854e-04, max_rank: 17\n",
      "=amen_solve= sweep 5, max_dx: 8.379e-04, max_res: 3.935e-04, max_rank: 14\n",
      "Linear Solve Time = 0.12\n",
      "apha = 5.00e-01 \n",
      "u_err = 5.03443e-05,  Fu_ratio = 6.05439e-04 \n",
      "iter time = 0.29 \n",
      "\n",
      "******** Newton iter = 10 ************\n",
      "\n",
      "epsk = 5.03443e-05 \n"
     ]
    },
    {
     "name": "stderr",
     "output_type": "stream",
     "text": [
      "Warning: MEX local solver is not found, disabled"
     ]
    },
    {
     "name": "stdout",
     "output_type": "stream",
     "text": [
      "=amen_solve= sweep 1, max_dx: 4.233e+03, max_res: 4.960e+03, max_rank: 6\n",
      "=amen_solve= sweep 2, max_dx: 6.368e-01, max_res: 2.887e-01, max_rank: 10\n",
      "=amen_solve= sweep 3, max_dx: 7.266e-02, max_res: 3.245e-02, max_rank: 14\n",
      "=amen_solve= sweep 4, max_dx: 9.143e-04, max_res: 4.363e-04, max_rank: 18\n",
      "=amen_solve= sweep 5, max_dx: 2.111e-04, max_res: 8.077e-05, max_rank: 20\n",
      "=amen_solve= sweep 6, max_dx: 2.853e-05, max_res: 1.581e-05, max_rank: 20\n",
      "=amen_solve= sweep 7, max_dx: 1.848e-06, max_res: 9.463e-06, max_rank: 16\n",
      "Linear Solve Time = 0.08\n",
      "apha = 1.00e+00 \n",
      "u_err = 2.90268e-04,  Fu_ratio = 8.14184e-06 \n",
      "iter time = 0.17 \n",
      "=amen_cross= swp=1, max_dx=2.284e+00, max_rank=4, #ifun_evals=0, #ffun_evals=768\n",
      "=amen_cross= swp=2, max_dx=2.570e-01, max_rank=6, #ifun_evals=0, #ffun_evals=2160\n",
      "=amen_cross= swp=3, max_dx=8.422e-03, max_rank=7, #ifun_evals=0, #ffun_evals=3876\n",
      "=amen_cross= swp=4, max_dx=5.518e-04, max_rank=9, #ifun_evals=0, #ffun_evals=5814\n",
      "=amen_cross= swp=5, max_dx=2.253e-05, max_rank=11, #ifun_evals=0, #ffun_evals=7968\n",
      "=amen_cross= swp=6, max_dx=1.826e-06, max_rank=12, #ifun_evals=0, #ffun_evals=10266\n",
      "=amen_cross= swp=7, max_dx=2.607e-15, max_rank=10, #ifun_evals=0, #ffun_evals=10980\n",
      "Solution Error between TT and Exact= 3.91e-02 \n",
      "Newton Iter = 10 \n",
      "Elapsed time of tt = 2.05 seconds \n",
      "************************************\n",
      "n = 8 \n",
      "\n",
      "******** Newton iter = 1 ************\n",
      "\n",
      "epsk = 1.00000e-01 \n"
     ]
    },
    {
     "name": "stderr",
     "output_type": "stream",
     "text": [
      "Warning: MEX local solver is not found, disabled"
     ]
    },
    {
     "name": "stdout",
     "output_type": "stream",
     "text": [
      "=amen_solve= sweep 1, max_dx: 2.198e+00, max_res: 2.624e+00, max_rank: 6\n",
      "=amen_solve= sweep 2, max_dx: 8.953e-02, max_res: 9.929e-02, max_rank: 8\n",
      "=amen_solve= sweep 3, max_dx: 1.489e-02, max_res: 2.485e-02, max_rank: 4\n",
      "Linear Solve Time = 0.04\n",
      "apha = 1.00e+00 \n",
      "u_err = Inf,  Fu_ratio = 1.15097e-01 \n",
      "iter time = 0.07 \n",
      "\n",
      "******** Newton iter = 2 ************\n",
      "\n",
      "epsk = 1.00000e-01 \n"
     ]
    },
    {
     "name": "stderr",
     "output_type": "stream",
     "text": [
      "Warning: MEX local solver is not found, disabled"
     ]
    },
    {
     "name": "stdout",
     "output_type": "stream",
     "text": [
      "=amen_solve= sweep 1, max_dx: 2.573e+01, max_res: 2.766e+01, max_rank: 6\n",
      "=amen_solve= sweep 2, max_dx: 7.901e-02, max_res: 9.385e-02, max_rank: 7\n",
      "=amen_solve= sweep 3, max_dx: 2.488e-02, max_res: 2.865e-02, max_rank: 3\n",
      "Linear Solve Time = 0.06\n",
      "apha = 1.00e+00 \n",
      "u_err = 5.18487e-02,  Fu_ratio = 9.76114e-02 \n",
      "iter time = 0.10 \n",
      "\n",
      "******** Newton iter = 3 ************\n",
      "\n",
      "epsk = 5.18487e-02 \n"
     ]
    },
    {
     "name": "stderr",
     "output_type": "stream",
     "text": [
      "Warning: MEX local solver is not found, disabled"
     ]
    },
    {
     "name": "stdout",
     "output_type": "stream",
     "text": [
      "=amen_solve= sweep 1, max_dx: 2.422e+01, max_res: 2.750e+01, max_rank: 6\n",
      "=amen_solve= sweep 2, max_dx: 1.491e-01, max_res: 1.015e-01, max_rank: 9\n",
      "=amen_solve= sweep 3, max_dx: 3.515e-02, max_res: 3.644e-02, max_rank: 10\n",
      "=amen_solve= sweep 4, max_dx: 1.941e-02, max_res: 1.653e-02, max_rank: 6\n",
      "Linear Solve Time = 0.07\n",
      "apha = 1.00e+00 \n",
      "u_err = 5.04697e-02,  Fu_ratio = 3.23023e-02 \n",
      "iter time = 0.11 \n",
      "\n",
      "******** Newton iter = 4 ************\n",
      "\n",
      "epsk = 3.23023e-02 \n"
     ]
    },
    {
     "name": "stderr",
     "output_type": "stream",
     "text": [
      "Warning: MEX local solver is not found, disabled"
     ]
    },
    {
     "name": "stdout",
     "output_type": "stream",
     "text": [
      "=amen_solve= sweep 1, max_dx: 1.720e+02, max_res: 1.756e+02, max_rank: 6\n",
      "=amen_solve= sweep 2, max_dx: 1.916e-01, max_res: 1.571e-01, max_rank: 10\n",
      "=amen_solve= sweep 3, max_dx: 4.879e-02, max_res: 4.508e-02, max_rank: 13\n",
      "=amen_solve= sweep 4, max_dx: 1.692e-02, max_res: 1.602e-02, max_rank: 15\n",
      "=amen_solve= sweep 5, max_dx: 9.517e-03, max_res: 9.945e-03, max_rank: 11\n",
      "Linear Solve Time = 0.13\n",
      "apha = 1.00e+00 \n",
      "u_err = 2.08612e-02,  Fu_ratio = 9.76777e-03 \n",
      "iter time = 0.17 \n",
      "\n",
      "******** Newton iter = 5 ************\n",
      "\n",
      "epsk = 9.76777e-03 \n"
     ]
    },
    {
     "name": "stderr",
     "output_type": "stream",
     "text": [
      "Warning: MEX local solver is not found, disabled"
     ]
    },
    {
     "name": "stdout",
     "output_type": "stream",
     "text": [
      "=amen_solve= sweep 1, max_dx: 2.743e+02, max_res: 4.358e+02, max_rank: 6\n",
      "=amen_solve= sweep 2, max_dx: 3.383e-01, max_res: 3.196e-01, max_rank: 10\n",
      "=amen_solve= sweep 3, max_dx: 1.119e-01, max_res: 5.957e-02, max_rank: 14\n",
      "=amen_solve= sweep 4, max_dx: 6.648e-02, max_res: 3.391e-02, max_rank: 18\n",
      "=amen_solve= sweep 5, max_dx: 2.791e-02, max_res: 1.108e-02, max_rank: 21\n",
      "=amen_solve= sweep 6, max_dx: 1.372e-02, max_res: 6.104e-03, max_rank: 23\n",
      "=amen_solve= sweep 7, max_dx: 4.613e-03, max_res: 2.751e-03, max_rank: 18\n",
      "Linear Solve Time = 0.18\n",
      "apha = 1.00e+00 \n",
      "u_err = 1.44061e-03,  Fu_ratio = 9.42737e-03 \n",
      "iter time = 0.21 \n",
      "\n",
      "******** Newton iter = 6 ************\n",
      "\n",
      "epsk = 1.44061e-03 \n"
     ]
    },
    {
     "name": "stderr",
     "output_type": "stream",
     "text": [
      "Warning: MEX local solver is not found, disabled"
     ]
    },
    {
     "name": "stdout",
     "output_type": "stream",
     "text": [
      "=amen_solve= sweep 1, max_dx: 1.956e+02, max_res: 2.616e+02, max_rank: 6\n",
      "=amen_solve= sweep 2, max_dx: 3.010e-01, max_res: 2.341e-01, max_rank: 10\n",
      "=amen_solve= sweep 3, max_dx: 1.034e-01, max_res: 5.683e-02, max_rank: 14\n",
      "=amen_solve= sweep 4, max_dx: 5.296e-02, max_res: 2.621e-02, max_rank: 18\n",
      "=amen_solve= sweep 5, max_dx: 2.778e-02, max_res: 1.155e-02, max_rank: 22\n",
      "=amen_solve= sweep 6, max_dx: 1.285e-02, max_res: 5.259e-03, max_rank: 26\n",
      "=amen_solve= sweep 7, max_dx: 1.358e-03, max_res: 9.926e-04, max_rank: 27\n",
      "=amen_solve= sweep 8, max_dx: 3.280e-04, max_res: 4.558e-04, max_rank: 23\n",
      "Linear Solve Time = 0.23\n",
      "apha = 1.00e+00 \n",
      "u_err = 4.73794e-03,  Fu_ratio = 1.06346e-03 \n",
      "iter time = 0.30 \n",
      "\n",
      "******** Newton iter = 7 ************\n",
      "\n",
      "epsk = 1.06346e-03 \n"
     ]
    },
    {
     "name": "stderr",
     "output_type": "stream",
     "text": [
      "Warning: MEX local solver is not found, disabled"
     ]
    },
    {
     "name": "stdout",
     "output_type": "stream",
     "text": [
      "=amen_solve= sweep 1, max_dx: 5.921e+03, max_res: 7.909e+03, max_rank: 6\n",
      "=amen_solve= sweep 2, max_dx: 4.402e-01, max_res: 4.242e-01, max_rank: 10\n",
      "=amen_solve= sweep 3, max_dx: 3.441e-01, max_res: 2.566e-01, max_rank: 14\n",
      "=amen_solve= sweep 4, max_dx: 1.765e-01, max_res: 1.332e-01, max_rank: 18\n",
      "=amen_solve= sweep 5, max_dx: 8.107e-02, max_res: 6.506e-02, max_rank: 22\n",
      "=amen_solve= sweep 6, max_dx: 5.730e-02, max_res: 4.499e-02, max_rank: 26\n",
      "=amen_solve= sweep 7, max_dx: 1.273e-02, max_res: 9.698e-03, max_rank: 30\n",
      "=amen_solve= sweep 8, max_dx: 1.429e-03, max_res: 1.134e-03, max_rank: 32\n",
      "=amen_solve= sweep 9, max_dx: 1.952e-04, max_res: 5.115e-04, max_rank: 32\n",
      "=amen_solve= sweep 10, max_dx: 1.230e-04, max_res: 3.102e-04, max_rank: 28\n",
      "Linear Solve Time = 0.21\n",
      "apha = 1.00e+00 \n",
      "u_err = 5.13410e-04,  Fu_ratio = 8.51501e-04 \n",
      "iter time = 0.32 \n",
      "\n",
      "******** Newton iter = 8 ************\n",
      "\n",
      "epsk = 5.13410e-04 \n"
     ]
    },
    {
     "name": "stderr",
     "output_type": "stream",
     "text": [
      "Warning: MEX local solver is not found, disabled"
     ]
    },
    {
     "name": "stdout",
     "output_type": "stream",
     "text": [
      "=amen_solve= sweep 1, max_dx: 2.608e+03, max_res: 2.979e+03, max_rank: 6\n",
      "=amen_solve= sweep 2, max_dx: 5.211e-01, max_res: 3.751e-01, max_rank: 10\n",
      "=amen_solve= sweep 3, max_dx: 3.015e-01, max_res: 3.098e-01, max_rank: 14\n",
      "=amen_solve= sweep 4, max_dx: 1.361e-01, max_res: 1.178e-01, max_rank: 18\n",
      "=amen_solve= sweep 5, max_dx: 8.893e-02, max_res: 8.087e-02, max_rank: 22\n",
      "=amen_solve= sweep 6, max_dx: 5.268e-02, max_res: 3.863e-02, max_rank: 26\n",
      "=amen_solve= sweep 7, max_dx: 2.315e-02, max_res: 1.446e-02, max_rank: 30\n",
      "=amen_solve= sweep 8, max_dx: 3.371e-03, max_res: 3.002e-03, max_rank: 34\n",
      "=amen_solve= sweep 9, max_dx: 1.347e-04, max_res: 2.162e-04, max_rank: 35\n",
      "=amen_solve= sweep 10, max_dx: 5.338e-05, max_res: 1.483e-04, max_rank: 31\n",
      "Linear Solve Time = 0.45\n",
      "apha = 1.00e+00 \n",
      "u_err = 7.00956e-04,  Fu_ratio = 3.25229e-04 \n",
      "iter time = 0.54 \n",
      "\n",
      "******** Newton iter = 9 ************\n",
      "\n",
      "epsk = 3.25229e-04 \n"
     ]
    },
    {
     "name": "stderr",
     "output_type": "stream",
     "text": [
      "Warning: MEX local solver is not found, disabled"
     ]
    },
    {
     "name": "stdout",
     "output_type": "stream",
     "text": [
      "=amen_solve= sweep 1, max_dx: 5.367e+03, max_res: 5.561e+03, max_rank: 6\n",
      "=amen_solve= sweep 2, max_dx: 5.541e-01, max_res: 7.274e-01, max_rank: 10\n",
      "=amen_solve= sweep 3, max_dx: 3.577e-01, max_res: 4.366e-01, max_rank: 14\n",
      "=amen_solve= sweep 4, max_dx: 2.340e-01, max_res: 1.782e-01, max_rank: 18\n",
      "=amen_solve= sweep 5, max_dx: 6.489e-02, max_res: 7.420e-02, max_rank: 22\n",
      "=amen_solve= sweep 6, max_dx: 3.042e-02, max_res: 3.030e-02, max_rank: 26\n",
      "=amen_solve= sweep 7, max_dx: 9.391e-03, max_res: 8.633e-03, max_rank: 30\n",
      "=amen_solve= sweep 8, max_dx: 2.633e-03, max_res: 2.536e-03, max_rank: 34\n",
      "=amen_solve= sweep 9, max_dx: 1.724e-04, max_res: 1.667e-04, max_rank: 35\n",
      "=amen_solve= sweep 10, max_dx: 3.146e-05, max_res: 8.845e-05, max_rank: 31\n",
      "Linear Solve Time = 0.26\n",
      "apha = 1.00e+00 \n",
      "u_err = 2.55530e-04,  Fu_ratio = 2.45064e-04 \n",
      "iter time = 0.45 \n",
      "\n",
      "******** Newton iter = 10 ************\n",
      "\n",
      "epsk = 2.45064e-04 \n"
     ]
    },
    {
     "name": "stderr",
     "output_type": "stream",
     "text": [
      "Warning: MEX local solver is not found, disabled"
     ]
    },
    {
     "name": "stdout",
     "output_type": "stream",
     "text": [
      "=amen_solve= sweep 1, max_dx: 1.067e+04, max_res: 1.918e+04, max_rank: 6\n",
      "=amen_solve= sweep 2, max_dx: 5.634e-01, max_res: 9.201e-01, max_rank: 10\n",
      "=amen_solve= sweep 3, max_dx: 3.702e-01, max_res: 4.134e-01, max_rank: 14\n",
      "=amen_solve= sweep 4, max_dx: 1.521e-01, max_res: 1.144e-01, max_rank: 18\n",
      "=amen_solve= sweep 5, max_dx: 4.329e-02, max_res: 3.385e-02, max_rank: 22\n",
      "=amen_solve= sweep 6, max_dx: 2.689e-02, max_res: 1.643e-02, max_rank: 26\n",
      "=amen_solve= sweep 7, max_dx: 6.590e-03, max_res: 3.695e-03, max_rank: 30\n",
      "=amen_solve= sweep 8, max_dx: 7.708e-04, max_res: 6.636e-04, max_rank: 34\n",
      "=amen_solve= sweep 9, max_dx: 2.456e-04, max_res: 2.193e-04, max_rank: 36\n",
      "=amen_solve= sweep 10, max_dx: 7.905e-05, max_res: 1.134e-04, max_rank: 33\n",
      "Linear Solve Time = 0.42\n",
      "apha = 1.00e+00 \n",
      "u_err = 1.61557e-04,  Fu_ratio = 1.54254e-04 \n",
      "iter time = 0.55 \n",
      "\n",
      "******** Newton iter = 11 ************\n",
      "\n",
      "epsk = 1.54254e-04 \n"
     ]
    },
    {
     "name": "stderr",
     "output_type": "stream",
     "text": [
      "Warning: MEX local solver is not found, disabled"
     ]
    },
    {
     "name": "stdout",
     "output_type": "stream",
     "text": [
      "=amen_solve= sweep 1, max_dx: 2.083e+04, max_res: 2.333e+04, max_rank: 6\n",
      "=amen_solve= sweep 2, max_dx: 4.814e-01, max_res: 6.228e-01, max_rank: 10\n",
      "=amen_solve= sweep 3, max_dx: 2.376e-01, max_res: 2.491e-01, max_rank: 14\n",
      "=amen_solve= sweep 4, max_dx: 1.279e-01, max_res: 9.594e-02, max_rank: 18\n",
      "=amen_solve= sweep 5, max_dx: 9.696e-02, max_res: 5.121e-02, max_rank: 22\n",
      "=amen_solve= sweep 6, max_dx: 9.807e-02, max_res: 6.438e-02, max_rank: 26\n",
      "=amen_solve= sweep 7, max_dx: 2.911e-03, max_res: 2.026e-03, max_rank: 30\n",
      "=amen_solve= sweep 8, max_dx: 6.239e-04, max_res: 4.390e-04, max_rank: 34\n",
      "=amen_solve= sweep 9, max_dx: 2.130e-04, max_res: 1.684e-04, max_rank: 37\n",
      "=amen_solve= sweep 10, max_dx: 2.342e-05, max_res: 6.108e-05, max_rank: 38\n",
      "=amen_solve= sweep 11, max_dx: 1.017e-05, max_res: 3.488e-05, max_rank: 34\n",
      "Linear Solve Time = 0.56\n",
      "apha = 1.00e+00 \n",
      "u_err = 9.33644e-05,  Fu_ratio = 1.26314e-04 \n",
      "iter time = 0.68 \n",
      "\n",
      "******** Newton iter = 12 ************\n",
      "\n",
      "epsk = 9.33644e-05 \n"
     ]
    },
    {
     "name": "stderr",
     "output_type": "stream",
     "text": [
      "Warning: MEX local solver is not found, disabled"
     ]
    },
    {
     "name": "stdout",
     "output_type": "stream",
     "text": [
      "=amen_solve= sweep 1, max_dx: 2.508e+04, max_res: 5.375e+04, max_rank: 6\n",
      "=amen_solve= sweep 2, max_dx: 5.854e-01, max_res: 5.077e-01, max_rank: 10\n",
      "=amen_solve= sweep 3, max_dx: 3.882e-01, max_res: 2.698e-01, max_rank: 14\n",
      "=amen_solve= sweep 4, max_dx: 4.913e-01, max_res: 7.843e-02, max_rank: 18\n",
      "=amen_solve= sweep 5, max_dx: 5.968e-01, max_res: 2.540e-01, max_rank: 22\n",
      "=amen_solve= sweep 6, max_dx: 8.845e-01, max_res: 5.086e-01, max_rank: 26\n",
      "=amen_solve= sweep 7, max_dx: 1.349e-02, max_res: 7.155e-03, max_rank: 30\n",
      "=amen_solve= sweep 8, max_dx: 4.465e-04, max_res: 3.084e-04, max_rank: 34\n",
      "=amen_solve= sweep 9, max_dx: 3.423e-04, max_res: 2.024e-04, max_rank: 37\n",
      "=amen_solve= sweep 10, max_dx: 3.632e-05, max_res: 3.647e-05, max_rank: 38\n",
      "=amen_solve= sweep 11, max_dx: 1.384e-05, max_res: 2.598e-05, max_rank: 34\n",
      "Linear Solve Time = 0.68\n",
      "apha = 1.00e+00 \n",
      "u_err = 5.32390e-05,  Fu_ratio = 9.78836e-05 \n",
      "iter time = 0.80 \n",
      "\n",
      "******** Newton iter = 13 ************\n",
      "\n",
      "epsk = 5.32390e-05 \n"
     ]
    },
    {
     "name": "stderr",
     "output_type": "stream",
     "text": [
      "Warning: MEX local solver is not found, disabled"
     ]
    },
    {
     "name": "stdout",
     "output_type": "stream",
     "text": [
      "=amen_solve= sweep 1, max_dx: 2.733e+04, max_res: 2.833e+04, max_rank: 6\n",
      "=amen_solve= sweep 2, max_dx: 5.753e-01, max_res: 5.257e-01, max_rank: 10\n",
      "=amen_solve= sweep 3, max_dx: 3.265e-01, max_res: 2.765e-01, max_rank: 14\n",
      "=amen_solve= sweep 4, max_dx: 1.395e-01, max_res: 9.752e-02, max_rank: 18\n",
      "=amen_solve= sweep 5, max_dx: 8.357e-02, max_res: 5.831e-02, max_rank: 22\n",
      "=amen_solve= sweep 6, max_dx: 4.173e-02, max_res: 2.811e-02, max_rank: 26\n",
      "=amen_solve= sweep 7, max_dx: 3.185e-03, max_res: 2.060e-03, max_rank: 30\n",
      "=amen_solve= sweep 8, max_dx: 6.574e-04, max_res: 4.223e-04, max_rank: 34\n",
      "=amen_solve= sweep 9, max_dx: 3.646e-04, max_res: 2.362e-04, max_rank: 38\n",
      "=amen_solve= sweep 10, max_dx: 6.250e-05, max_res: 4.114e-05, max_rank: 39\n",
      "=amen_solve= sweep 11, max_dx: 2.842e-06, max_res: 8.916e-06, max_rank: 35\n",
      "Linear Solve Time = 0.55\n",
      "apha = 1.00e+00 \n",
      "u_err = 6.73685e-05,  Fu_ratio = 3.61033e-05 \n",
      "iter time = 0.70 \n",
      "\n",
      "******** Newton iter = 14 ************\n",
      "\n",
      "epsk = 3.61033e-05 \n"
     ]
    },
    {
     "name": "stderr",
     "output_type": "stream",
     "text": [
      "Warning: MEX local solver is not found, disabled"
     ]
    },
    {
     "name": "stdout",
     "output_type": "stream",
     "text": [
      "=amen_solve= sweep 1, max_dx: 9.786e+04, max_res: 1.140e+05, max_rank: 6\n",
      "=amen_solve= sweep 2, max_dx: 3.931e-01, max_res: 6.186e-01, max_rank: 10\n",
      "=amen_solve= sweep 3, max_dx: 2.591e-01, max_res: 1.712e-01, max_rank: 14\n",
      "=amen_solve= sweep 4, max_dx: 3.690e-01, max_res: 1.534e-01, max_rank: 18\n",
      "=amen_solve= sweep 5, max_dx: 2.667e-01, max_res: 1.996e-01, max_rank: 22\n",
      "=amen_solve= sweep 6, max_dx: 3.359e-02, max_res: 2.836e-02, max_rank: 26\n",
      "=amen_solve= sweep 7, max_dx: 6.327e-03, max_res: 4.185e-03, max_rank: 30\n",
      "=amen_solve= sweep 8, max_dx: 1.606e-03, max_res: 1.377e-03, max_rank: 34\n",
      "=amen_solve= sweep 9, max_dx: 6.929e-04, max_res: 4.726e-04, max_rank: 38\n",
      "=amen_solve= sweep 10, max_dx: 9.568e-05, max_res: 8.046e-05, max_rank: 40\n",
      "=amen_solve= sweep 11, max_dx: 2.103e-07, max_res: 8.585e-06, max_rank: 40\n",
      "=amen_solve= sweep 12, max_dx: 4.846e-06, max_res: 7.454e-06, max_rank: 36\n",
      "Linear Solve Time = 0.50\n",
      "apha = 1.00e+00 \n",
      "u_err = 1.81173e-05,  Fu_ratio = 3.00959e-05 \n",
      "iter time = 0.65 \n",
      "\n",
      "******** Newton iter = 15 ************\n",
      "\n",
      "epsk = 1.81173e-05 \n"
     ]
    },
    {
     "name": "stderr",
     "output_type": "stream",
     "text": [
      "Warning: MEX local solver is not found, disabled"
     ]
    },
    {
     "name": "stdout",
     "output_type": "stream",
     "text": [
      "=amen_solve= sweep 1, max_dx: 6.307e+04, max_res: 8.302e+04, max_rank: 6\n",
      "=amen_solve= sweep 2, max_dx: 8.494e-01, max_res: 6.829e-01, max_rank: 10\n",
      "=amen_solve= sweep 3, max_dx: 1.756e+00, max_res: 1.952e+00, max_rank: 14\n",
      "=amen_solve= sweep 4, max_dx: 4.869e-01, max_res: 3.757e-01, max_rank: 18\n",
      "=amen_solve= sweep 5, max_dx: 8.846e-02, max_res: 7.682e-02, max_rank: 22\n",
      "=amen_solve= sweep 6, max_dx: 2.406e-02, max_res: 2.210e-02, max_rank: 26\n",
      "=amen_solve= sweep 7, max_dx: 1.364e-03, max_res: 1.284e-03, max_rank: 30\n",
      "=amen_solve= sweep 8, max_dx: 5.766e-04, max_res: 4.786e-04, max_rank: 34\n",
      "=amen_solve= sweep 9, max_dx: 2.523e-04, max_res: 2.120e-04, max_rank: 38\n",
      "=amen_solve= sweep 10, max_dx: 5.053e-05, max_res: 3.266e-05, max_rank: 40\n",
      "=amen_solve= sweep 11, max_dx: 5.888e-05, max_res: 5.666e-06, max_rank: 40\n",
      "=amen_solve= sweep 12, max_dx: 4.462e-05, max_res: 3.105e-05, max_rank: 36\n",
      "Linear Solve Time = 0.54\n",
      "apha = 1.00e+00 \n",
      "u_err = 2.58418e-05,  Fu_ratio = 2.84659e-05 \n",
      "iter time = 0.70 \n",
      "\n",
      "******** Newton iter = 16 ************\n",
      "\n",
      "epsk = 1.81173e-05 \n"
     ]
    },
    {
     "name": "stderr",
     "output_type": "stream",
     "text": [
      "Warning: MEX local solver is not found, disabled"
     ]
    },
    {
     "name": "stdout",
     "output_type": "stream",
     "text": [
      "=amen_solve= sweep 1, max_dx: 8.028e+04, max_res: 7.958e+04, max_rank: 6\n",
      "=amen_solve= sweep 2, max_dx: 7.213e-01, max_res: 1.040e+00, max_rank: 10\n",
      "=amen_solve= sweep 3, max_dx: 1.627e-01, max_res: 2.547e-01, max_rank: 14\n",
      "=amen_solve= sweep 4, max_dx: 1.317e-01, max_res: 1.517e-01, max_rank: 18\n",
      "=amen_solve= sweep 5, max_dx: 9.967e-02, max_res: 1.380e-01, max_rank: 22\n",
      "=amen_solve= sweep 6, max_dx: 1.949e-02, max_res: 2.330e-02, max_rank: 26\n",
      "=amen_solve= sweep 7, max_dx: 1.024e-03, max_res: 1.586e-03, max_rank: 30\n",
      "=amen_solve= sweep 8, max_dx: 2.830e-04, max_res: 4.496e-04, max_rank: 34\n",
      "=amen_solve= sweep 9, max_dx: 1.064e-04, max_res: 1.566e-04, max_rank: 38\n",
      "=amen_solve= sweep 10, max_dx: 2.528e-05, max_res: 3.432e-05, max_rank: 40\n",
      "=amen_solve= sweep 11, max_dx: 7.979e-06, max_res: 6.062e-06, max_rank: 40\n",
      "=amen_solve= sweep 12, max_dx: 4.243e-06, max_res: 8.139e-06, max_rank: 36\n",
      "Linear Solve Time = 0.60\n",
      "apha = 5.00e-01 \n",
      "u_err = 1.90833e-05,  Fu_ratio = 2.23528e-05 \n",
      "iter time = 0.84 \n",
      "\n",
      "******** Newton iter = 17 ************\n",
      "\n",
      "epsk = 1.81173e-05 \n"
     ]
    },
    {
     "name": "stderr",
     "output_type": "stream",
     "text": [
      "Warning: MEX local solver is not found, disabled"
     ]
    },
    {
     "name": "stdout",
     "output_type": "stream",
     "text": [
      "=amen_solve= sweep 1, max_dx: 9.041e+04, max_res: 1.702e+05, max_rank: 6\n",
      "=amen_solve= sweep 2, max_dx: 6.355e-01, max_res: 1.360e+00, max_rank: 10\n",
      "=amen_solve= sweep 3, max_dx: 1.794e-01, max_res: 2.776e-01, max_rank: 14\n",
      "=amen_solve= sweep 4, max_dx: 1.305e-01, max_res: 1.860e-01, max_rank: 18\n",
      "=amen_solve= sweep 5, max_dx: 1.031e-01, max_res: 1.597e-01, max_rank: 22\n",
      "=amen_solve= sweep 6, max_dx: 1.797e-02, max_res: 2.608e-02, max_rank: 26\n",
      "=amen_solve= sweep 7, max_dx: 1.475e-03, max_res: 1.826e-03, max_rank: 30\n",
      "=amen_solve= sweep 8, max_dx: 5.064e-04, max_res: 5.214e-04, max_rank: 34\n",
      "=amen_solve= sweep 9, max_dx: 1.559e-04, max_res: 1.711e-04, max_rank: 38\n",
      "=amen_solve= sweep 10, max_dx: 8.461e-06, max_res: 1.814e-05, max_rank: 40\n",
      "=amen_solve= sweep 11, max_dx: 1.704e-07, max_res: 3.792e-06, max_rank: 40\n",
      "=amen_solve= sweep 12, max_dx: 7.118e-07, max_res: 2.881e-06, max_rank: 36\n",
      "Linear Solve Time = 0.55\n",
      "apha = 2.50e-01 \n",
      "u_err = 8.18920e-06,  Fu_ratio = 2.37200e-05 \n",
      "iter time = 0.89 \n",
      "=amen_cross= swp=1, max_dx=2.225e+00, max_rank=4, #ifun_evals=0, #ffun_evals=1216\n",
      "=amen_cross= swp=2, max_dx=3.059e-01, max_rank=6, #ifun_evals=0, #ffun_evals=3600\n",
      "=amen_cross= swp=3, max_dx=5.842e-03, max_rank=8, #ifun_evals=0, #ffun_evals=6432\n",
      "=amen_cross= swp=4, max_dx=2.250e-03, max_rank=10, #ifun_evals=0, #ffun_evals=9840\n",
      "=amen_cross= swp=5, max_dx=8.651e-05, max_rank=12, #ifun_evals=0, #ffun_evals=13512\n",
      "=amen_cross= swp=6, max_dx=1.269e-06, max_rank=14, #ifun_evals=0, #ffun_evals=17632\n",
      "=amen_cross= swp=7, max_dx=2.437e-06, max_rank=12, #ifun_evals=0, #ffun_evals=18952\n",
      "Solution Error between TT and Exact= 6.31e-03 \n",
      "Newton Iter = 17 \n",
      "Elapsed time of tt = 8.26 seconds \n"
     ]
    }
   ],
   "source": [
    "testname = \"../testcases/Burger3D\";\n",
    "\n",
    "fprintf('Working on testcase %s \\n',testname);\n",
    "load(sprintf('./%s.mat',testname));\n",
    "%%\n",
    "a = 0;\n",
    "b = 6;\n",
    "tol = 1e-5;\n",
    "Newtoneps = 1e-5;\n",
    "tempname = split(testname,'/');\n",
    "savefilename = sprintf('../plot_data/tt_%s.mat', tempname(end));\n",
    "%% now the time step is the same as space step\n",
    "Ns = [4:2:8];\n",
    "niter=1;\n",
    "R = cell(numel(Ns),niter);\n",
    "for j = 1:niter\n",
    "  for i = [1:numel(Ns)]\n",
    "    tic\n",
    "    n = Ns(i);\n",
    "    SN = n-1;\n",
    "    N1 = SN+1;\n",
    "    %%\n",
    "    fprintf('************************************\\n')\n",
    "    fprintf('n = %d \\n',n);\n",
    "    %%\n",
    "    [fgsol, NewtonIter, Ctt] = ...\n",
    "      tt_3D_Burger_Solver(testcase,SN,tol,Newtoneps,a,b);\n",
    "    tt_time = toc;\n",
    "    %% check the error\n",
    "    exacttt = amen_cross(Ctt, @(x) cross_fun_nD(x,testcase.exactfn),tol);\n",
    "    exacttt = tt_get_inner(exacttt,{2:N1,2:N1-1,2:N1-1,2:N1-1});\n",
    "    \n",
    "    Err = norm(fgsol-exacttt)/norm(exacttt);\n",
    "    fprintf('Solution Error between TT and Exact= %.2e \\n',...\n",
    "      Err);\n",
    "    fprintf('Newton Iter = %d \\n', NewtonIter);\n",
    "    fprintf('Elapsed time of tt = %.2f seconds \\n', tt_time)\n",
    "    % fprintf('Compression Ratio of ttsol = %.2e \\n', compress_ratio_tt(fgsol));\n",
    "    %% collect results\n",
    "    c.sol = fgsol;\n",
    "    c.err = Err;\n",
    "    c.time = tt_time;\n",
    "    c.NewtonIter = NewtonIter;\n",
    "    % c.amensolvedata = amensolvedata;\n",
    "    R{i,j} = c;\n",
    "\n",
    "    save(savefilename,'Ns','R','tol','testcase');\n",
    "  end\n",
    "end\n",
    "\n",
    "\n"
   ]
  },
  {
   "cell_type": "code",
   "execution_count": null,
   "id": "e1a074af-61f5-44d3-bcc4-684abe558a98",
   "metadata": {},
   "outputs": [],
   "source": []
  }
 ],
 "metadata": {
  "kernelspec": {
   "display_name": "MATLAB Kernel",
   "language": "matlab",
   "name": "jupyter_matlab_kernel"
  },
  "language_info": {
   "file_extension": ".m",
   "mimetype": "text/x-matlab",
   "name": "matlab"
  }
 },
 "nbformat": 4,
 "nbformat_minor": 5
}
