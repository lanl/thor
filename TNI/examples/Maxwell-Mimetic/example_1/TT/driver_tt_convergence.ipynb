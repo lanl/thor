{
 "cells": [
  {
   "cell_type": "markdown",
   "id": "b89b14f8-44c6-4333-9866-591bfebb4380",
   "metadata": {},
   "source": [
    "<h1> The tensor-train mimetic finite difference method for three-dimensional Maxwell’s wave propagation equations\n",
    "</h1>"
   ]
  },
  {
   "cell_type": "markdown",
   "id": "add2741b-59b4-4e00-8e84-347f8b4af8e3",
   "metadata": {},
   "source": [
    "G. Manzini, P.M.D. Truong, R. Vuchkov, B. Alexandrov"
   ]
  },
  {
   "cell_type": "markdown",
   "id": "9fa3a6c2-452d-45a9-8d14-b32d259b52aa",
   "metadata": {},
   "source": [
    "https://doi.org/10.1016/j.matcom.2023.03.026"
   ]
  },
  {
   "cell_type": "code",
   "execution_count": 1,
   "id": "7184f2ec-992e-41a5-a74e-1f46bf451521",
   "metadata": {},
   "outputs": [
    {
     "name": "stdout",
     "output_type": "stream",
     "text": [
      "\n",
      "------------tt scheme-------------\n",
      "tol = 1.00e-05\n",
      "nlev = 1 ---- tol = 1.00e-05 \n",
      "number of cells      = 4 x 4 x 4\n",
      "number of time loops = 8\n",
      "time step  = 1.250000e-01\n",
      "Expected error = 2.99000e-02 \n",
      "-- 0.09 seconds --- it = 8---> Elapsed time = 0.11s \n",
      "E_err + H_err = 2.99760e-02 \n",
      "tt Ez numel = 1.40e+01 \n",
      "full Ez numel = 1.00e+02 \n",
      "results of nlev = 1 is saved \n",
      "\n",
      "\n",
      "------------tt scheme-------------\n",
      "tol = 1.00e-05\n",
      "nlev = 2 ---- tol = 1.00e-05 \n",
      "number of cells      = 8 x 8 x 8\n",
      "number of time loops = 16\n",
      "time step  = 6.250000e-02\n",
      "Expected error = 7.47500e-03 \n",
      "-- 0.08 seconds --- it = 16---> Elapsed time = 0.09s \n",
      "E_err + H_err = 7.65436e-03 \n",
      "tt Ez numel = 2.60e+01 \n",
      "full Ez numel = 6.48e+02 \n",
      "results of nlev = 2 is saved \n",
      "\n",
      "\n",
      "------------tt scheme-------------\n",
      "tol = 1.00e-05\n",
      "nlev = 3 ---- tol = 1.00e-05 \n",
      "number of cells      = 16 x 16 x 16\n",
      "number of time loops = 32\n",
      "time step  = 3.125000e-02\n",
      "Expected error = 1.86875e-03 \n",
      "-- 0.20 seconds --- it = 32---> Elapsed time = 0.21s \n",
      "E_err + H_err = 1.95344e-03 \n",
      "tt Ez numel = 5.00e+01 \n",
      "full Ez numel = 4.62e+03 \n",
      "results of nlev = 3 is saved \n",
      "\n",
      "\n",
      "------------tt scheme-------------\n",
      "tol = 1.00e-05\n",
      "nlev = 4 ---- tol = 1.00e-05 \n",
      "number of cells      = 32 x 32 x 32\n",
      "number of time loops = 64\n",
      "time step  = 1.562500e-02\n",
      "Expected error = 4.67187e-04 \n",
      "-- 0.37 seconds --- it = 64---> Elapsed time = 0.39s \n",
      "E_err + H_err = 4.94609e-04 \n",
      "tt Ez numel = 9.80e+01 \n",
      "full Ez numel = 3.48e+04 \n",
      "results of nlev = 4 is saved \n",
      "\n",
      "\n",
      "------------tt scheme-------------\n",
      "tol = 1.00e-05\n",
      "nlev = 5 ---- tol = 1.00e-05 \n",
      "number of cells      = 64 x 64 x 64\n",
      "number of time loops = 128\n",
      "time step  = 7.812500e-03\n",
      "Expected error = 1.16797e-04 \n",
      "-- 1.37 seconds --- it = 128---> Elapsed time = 1.41s \n",
      "E_err + H_err = 1.24515e-04 \n",
      "tt Ez numel = 1.94e+02 \n",
      "full Ez numel = 2.70e+05 \n",
      "results of nlev = 5 is saved \n",
      "\n"
     ]
    }
   ],
   "source": [
    "addpath(genpath('../../../../matlab/Maxwell-Mimetic/src/'))\n",
    "addpath(genpath('../../../../matlab/utils/chebfun/'))\n",
    "addpath(genpath('../../../../matlab/utils/tt-toolbox/'))\n",
    "addpath(genpath('../../../../matlab/utils/ttfunc/'))\n",
    "\n",
    "\n",
    "close all; clear; clc;\n",
    "%% test the convergence of fullgrid\n",
    "\n",
    "Tols = [1e-5];\n",
    "for jj = 1: numel(Tols)\n",
    "  Ns = [1:5];\n",
    "  Err = zeros(numel(Ns),4);\n",
    "  Time = zeros(numel(Ns,1));\n",
    "  MemEz = zeros(numel(Ns),2);\n",
    "  final_sols = cell(numel(Ns),1);\n",
    "  tol = Tols(jj);\n",
    "  for i = 1: numel(Ns)\n",
    "    fprintf('\\n------------tt scheme-------------\\n')\n",
    "    fprintf('tol = %.2e\\n', tol)\n",
    "    nlev = Ns(i);\n",
    "    [temperr,t, tm, fm, tEx, tEy, tEz, tHx, tHy, tHz] = tt_test1_k1_fn(nlev, tol);\n",
    "\n",
    "    %store results\n",
    "    Err(i,:) = temperr;\n",
    "    Time(i,1) = t;\n",
    "    MemEz(i,1) = tm;\n",
    "    MemEz(i,2) = fm;\n",
    "\n",
    "    final_sols{i,1}.tEx = tEx;\n",
    "    final_sols{i,1}.tEy = tEy;\n",
    "    final_sols{i,1}.tEz = tEz;\n",
    "    final_sols{i,1}.tHx = tHx;\n",
    "    final_sols{i,1}.tHy = tHy;\n",
    "    final_sols{i,1}.tHz = tHz;\n",
    "\n",
    "    filename = sprintf('../plot_data/tt_test1_k1_tol_%s.mat',num2str(tol));\n",
    "    save(filename,'Ns','Err','Time','MemEz','final_sols','tol');\n",
    "    fprintf('results of nlev = %d is saved \\n\\n', nlev);\n",
    "  end\n",
    "end"
   ]
  },
  {
   "cell_type": "code",
   "execution_count": null,
   "id": "bc3957d6-1339-4344-8f5d-d3873b6aad92",
   "metadata": {},
   "outputs": [],
   "source": []
  }
 ],
 "metadata": {
  "kernelspec": {
   "display_name": "MATLAB Kernel",
   "language": "matlab",
   "name": "jupyter_matlab_kernel"
  },
  "language_info": {
   "file_extension": ".m",
   "mimetype": "text/x-matlab",
   "name": "matlab"
  }
 },
 "nbformat": 4,
 "nbformat_minor": 5
}
