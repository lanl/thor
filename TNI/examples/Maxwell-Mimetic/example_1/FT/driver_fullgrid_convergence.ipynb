{
 "cells": [
  {
   "cell_type": "markdown",
   "id": "8ecda682-5ddc-44cb-bd25-826de0a6c643",
   "metadata": {},
   "source": [
    "<h1> The tensor-train mimetic finite difference method for three-dimensional Maxwell’s wave propagation equations\n",
    "</h1>"
   ]
  },
  {
   "cell_type": "markdown",
   "id": "aa0fa215-6393-401a-82f8-618965638631",
   "metadata": {},
   "source": [
    "G. Manzini, P.M.D. Truong, R. Vuchkov, B. Alexandrov"
   ]
  },
  {
   "cell_type": "markdown",
   "id": "7fa7e6da-b786-47e4-a491-37251d2cc6c9",
   "metadata": {},
   "source": [
    "https://doi.org/10.1016/j.matcom.2023.03.026"
   ]
  },
  {
   "cell_type": "code",
   "execution_count": 2,
   "id": "1aef24b6-61c8-44ae-a661-89ba9fe87d62",
   "metadata": {},
   "outputs": [
    {
     "name": "stdout",
     "output_type": "stream",
     "text": [
      "\n",
      "-------------------------\n",
      "nlev = 1 \n",
      "number of cells      = 4 x 4 x 4\n",
      "number of time loops = 8\n",
      "time step  = 1.250000e-01\n",
      "Expected error = 2.99000e-02 \n",
      "-- 0.04 seconds --- it = 8---> Elapsed time = 0.04s \n",
      "E_err + H_err = 2.99760e-02 \n",
      "results of nlev = 1 is saved \n",
      "\n",
      "nlev = 2 \n",
      "number of cells      = 8 x 8 x 8\n",
      "number of time loops = 16\n",
      "time step  = 6.250000e-02\n",
      "Expected error = 7.47500e-03 \n",
      "-- 0.01 seconds --- it = 16---> Elapsed time = 0.01s \n",
      "E_err + H_err = 7.65436e-03 \n",
      "results of nlev = 2 is saved \n",
      "\n",
      "nlev = 3 \n",
      "number of cells      = 16 x 16 x 16\n",
      "number of time loops = 32\n",
      "time step  = 3.125000e-02\n",
      "Expected error = 1.86875e-03 \n",
      "-- 0.13 seconds --- it = 32---> Elapsed time = 0.13s \n",
      "E_err + H_err = 1.95344e-03 \n",
      "results of nlev = 3 is saved \n",
      "\n"
     ]
    }
   ],
   "source": [
    "addpath(genpath('../../../../matlab/Maxwell-Mimetic/src/'))\n",
    "addpath(genpath('../../../../matlab/utils/chebfun/'))\n",
    "addpath(genpath('../../../../matlab/utils/tt-toolbox/'))\n",
    "addpath(genpath('../../../../matlab/utils/ttfunc/'))\n",
    "\n",
    "close all; clear; clc;\n",
    "\n",
    "% test the convergence of fullgrid\n",
    "\n",
    "Ns = 1:3;\n",
    "Err = zeros(numel(Ns),4);\n",
    "Time = zeros(numel(Ns,1));\n",
    "final_sols = cell(numel(Ns,1));\n",
    "fprintf('\\n-------------------------\\n')\n",
    "for i = 1: numel(Ns)\n",
    "  nlev = Ns(i);\n",
    "  [temperr,t, Ex, Ey, Ez, Hx, Hy, Hz] = fullgrid_test1_k1_fn(nlev);\n",
    "  %save variables\n",
    "  Err(i,:) = temperr;\n",
    "  Time(i,1) = t;\n",
    "  final_sols{i,1}.Ex = Ex;\n",
    "  final_sols{i,1}.Ey = Ey;\n",
    "  final_sols{i,1}.Ez = Ez;\n",
    "  final_sols{i,1}.Hx = Hx;\n",
    "  final_sols{i,1}.Hy = Hy;\n",
    "  final_sols{i,1}.Hz = Hz;\n",
    "\n",
    "  save('../plot_data/fullgrid_test1_k1.mat');\n",
    "  fprintf('results of nlev = %d is saved \\n\\n', nlev);\n",
    "end\n"
   ]
  },
  {
   "cell_type": "code",
   "execution_count": null,
   "id": "00e02602-1c44-43c3-bdf2-56ce3c496f8d",
   "metadata": {},
   "outputs": [],
   "source": []
  }
 ],
 "metadata": {
  "kernelspec": {
   "display_name": "MATLAB Kernel",
   "language": "matlab",
   "name": "jupyter_matlab_kernel"
  },
  "language_info": {
   "file_extension": ".m",
   "mimetype": "text/x-matlab",
   "name": "matlab"
  }
 },
 "nbformat": 4,
 "nbformat_minor": 5
}
