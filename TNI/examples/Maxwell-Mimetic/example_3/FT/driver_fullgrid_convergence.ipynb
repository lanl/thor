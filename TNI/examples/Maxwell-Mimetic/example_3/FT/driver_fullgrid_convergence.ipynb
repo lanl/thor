{
 "cells": [
  {
   "cell_type": "markdown",
   "id": "9cdbec6f-0f9a-40af-8229-0f3e75700672",
   "metadata": {},
   "source": [
    "<h1> The tensor-train mimetic finite difference method for three-dimensional Maxwell’s wave propagation equations\n",
    "</h1>"
   ]
  },
  {
   "cell_type": "markdown",
   "id": "cde6f9c8-3332-4df7-a3a6-32cd90734742",
   "metadata": {},
   "source": [
    "G. Manzini, P.M.D. Truong, R. Vuchkov, B. Alexandrov"
   ]
  },
  {
   "cell_type": "markdown",
   "id": "9b517f51-3dc6-48ec-9fa8-82af584b68b6",
   "metadata": {},
   "source": [
    "https://doi.org/10.1016/j.matcom.2023.03.026"
   ]
  },
  {
   "cell_type": "code",
   "execution_count": 1,
   "id": "bffc5382-2561-4a55-b0d1-2bbc3e454e67",
   "metadata": {},
   "outputs": [
    {
     "name": "stdout",
     "output_type": "stream",
     "text": [
      "\n",
      "-------------------------\n",
      "nlev = 3 \n",
      "number of cells      = 16 x 16 x 16\n",
      "number of time loops = 32\n",
      "time step  = 3.125000e-02\n",
      "Expected error = 4.74277e-01 \n",
      "-- 0.40 seconds --- it = 32---> Elapsed time = 0.40s \n",
      "E_err + H_err = 3.44462e-02 \n",
      "results of nlev = 3 is saved \n",
      "\n",
      "nlev = 4 \n",
      "number of cells      = 32 x 32 x 32\n",
      "number of time loops = 64\n",
      "time step  = 1.562500e-02\n",
      "Expected error = 1.18569e-01 \n",
      "-- 2.28 seconds --- it = 64---> Elapsed time = 2.31s \n",
      "E_err + H_err = 8.28157e-03 \n",
      "results of nlev = 4 is saved \n",
      "\n",
      "nlev = 5 \n",
      "number of cells      = 64 x 64 x 64\n",
      "number of time loops = 128\n",
      "time step  = 7.812500e-03\n",
      "Expected error = 2.96423e-02 \n",
      "-- 34.43 seconds --- it = 128---> Elapsed time = 34.70s \n",
      "E_err + H_err = 2.09756e-03 \n",
      "results of nlev = 5 is saved \n",
      "\n"
     ]
    }
   ],
   "source": [
    "addpath(genpath('../../../../matlab/Maxwell-Mimetic/src/'))\n",
    "addpath(genpath('../../../../matlab/utils/chebfun/'))\n",
    "addpath(genpath('../../../../matlab/utils/tt-toolbox/'))\n",
    "addpath(genpath('../../../../matlab/utils/ttfunc/'))\n",
    "\n",
    "close all; clear; clc;\n",
    "%%\n",
    "% test the convergence of fullgrid\n",
    "\n",
    "Ns = 3:5;\n",
    "Err = zeros(numel(Ns),4);\n",
    "Time = zeros(numel(Ns,1));\n",
    "fprintf('\\n-------------------------\\n')\n",
    "for i = 1: numel(Ns)\n",
    "  nlev = Ns(i);\n",
    "  [temperr,t] = fullgrid_test3_fn(nlev);\n",
    "  Err(i,:) = temperr;\n",
    "  Time(i,1) = t;\n",
    "  save('../plot_data/fullgrid_example_3.mat');\n",
    "  fprintf('results of nlev = %d is saved \\n\\n', nlev);\n",
    "end\n"
   ]
  },
  {
   "cell_type": "code",
   "execution_count": null,
   "id": "158bf5e2-98b9-40c8-9bc1-510e2e1ecb04",
   "metadata": {},
   "outputs": [],
   "source": []
  }
 ],
 "metadata": {
  "kernelspec": {
   "display_name": "MATLAB Kernel",
   "language": "matlab",
   "name": "jupyter_matlab_kernel"
  },
  "language_info": {
   "file_extension": ".m",
   "mimetype": "text/x-matlab",
   "name": "matlab"
  }
 },
 "nbformat": 4,
 "nbformat_minor": 5
}
