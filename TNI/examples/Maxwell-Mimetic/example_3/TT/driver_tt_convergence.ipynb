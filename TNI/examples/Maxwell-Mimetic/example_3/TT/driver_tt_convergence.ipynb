{
 "cells": [
  {
   "cell_type": "markdown",
   "id": "246ea5cc-b8d0-4105-95d7-a1cf8e0163e6",
   "metadata": {},
   "source": [
    "<h1> The tensor-train mimetic finite difference method for three-dimensional Maxwell’s wave propagation equations\n",
    "</h1>"
   ]
  },
  {
   "cell_type": "markdown",
   "id": "db3a8f35-9750-4e17-96d4-c34846236aa2",
   "metadata": {},
   "source": [
    "G. Manzini, P.M.D. Truong, R. Vuchkov, B. Alexandrov"
   ]
  },
  {
   "cell_type": "markdown",
   "id": "5d3d61f7-0478-461e-a106-02d596c1840e",
   "metadata": {},
   "source": [
    "https://doi.org/10.1016/j.matcom.2023.03.026"
   ]
  },
  {
   "cell_type": "code",
   "execution_count": 1,
   "id": "64759c80-d668-480e-afff-f6b26c7ce10c",
   "metadata": {},
   "outputs": [
    {
     "name": "stdout",
     "output_type": "stream",
     "text": [
      "\n",
      "------------tt scheme-------------\n",
      "nlev = 3 ---- tol = 1.00e-03 \n",
      "number of cells      = 16 x 16 x 16\n",
      "number of time loops = 32\n",
      "time step  = 3.125000e-02\n",
      "Expected error = 4.68750e-01 \n",
      "-- 0.68 seconds --- it = 32---> Elapsed time = 0.73s \n",
      "E_err + H_err = 3.44044e-02 \n",
      "tt Ez numel = 1.86e+02 \n",
      "full Ez numel = 4.62e+03 \n",
      "results of nlev = 3 is saved \n",
      "\n",
      "\n",
      "------------tt scheme-------------\n",
      "nlev = 4 ---- tol = 1.00e-03 \n",
      "number of cells      = 32 x 32 x 32\n",
      "number of time loops = 64\n",
      "time step  = 1.562500e-02\n",
      "Expected error = 1.17188e-01 \n",
      "-- 0.97 seconds --- it = 64---> Elapsed time = 1.03s \n",
      "E_err + H_err = 8.30111e-03 \n",
      "tt Ez numel = 3.62e+02 \n",
      "full Ez numel = 3.48e+04 \n",
      "results of nlev = 4 is saved \n",
      "\n",
      "\n",
      "------------tt scheme-------------\n",
      "nlev = 5 ---- tol = 1.00e-03 \n",
      "number of cells      = 64 x 64 x 64\n",
      "number of time loops = 128\n",
      "time step  = 7.812500e-03\n",
      "Expected error = 2.92969e-02 \n",
      "-- 3.68 seconds --- it = 128---> Elapsed time = 4.94s \n",
      "E_err + H_err = 2.10245e-03 \n",
      "tt Ez numel = 7.14e+02 \n",
      "full Ez numel = 2.70e+05 \n",
      "results of nlev = 5 is saved \n",
      "\n",
      "\n",
      "------------tt scheme-------------\n",
      "nlev = 6 ---- tol = 1.00e-03 \n",
      "number of cells      = 128 x 128 x 128\n",
      "number of time loops = 256\n",
      "time step  = 3.906250e-03\n",
      "Expected error = 7.32422e-03 \n",
      "-- 6.57 seconds --- it = 256---> Elapsed time = 6.80s \n",
      "E_err + H_err = 6.42162e-04 \n",
      "tt Ez numel = 1.42e+03 \n",
      "full Ez numel = 2.13e+06 \n",
      "results of nlev = 6 is saved \n",
      "\n",
      "\n",
      "------------tt scheme-------------\n",
      "nlev = 7 ---- tol = 1.00e-03 \n",
      "number of cells      = 256 x 256 x 256\n",
      "number of time loops = 512\n",
      "time step  = 1.953125e-03\n",
      "Expected error = 1.83105e-03 \n",
      "-- 37.90 seconds --- it = 512---> Elapsed time = 54.71s \n",
      "E_err + H_err = 1.32310e-04 \n",
      "tt Ez numel = 2.83e+03 \n",
      "full Ez numel = 1.69e+07 \n",
      "results of nlev = 7 is saved \n",
      "\n"
     ]
    }
   ],
   "source": [
    "addpath(genpath('../../../../matlab/Maxwell-Mimetic/src/'))\n",
    "addpath(genpath('../../../../matlab/utils/chebfun/'))\n",
    "addpath(genpath('../../../../matlab/utils/tt-toolbox/'))\n",
    "addpath(genpath('../../../../matlab/utils/ttfunc/'))\n",
    "\n",
    "close all; clear; clc;\n",
    "%% test the convergence of TT\n",
    "\n",
    "Ns = [3:7];\n",
    "Err = zeros(numel(Ns),4);\n",
    "Time = zeros(numel(Ns,1));\n",
    "MemEz = zeros(numel(Ns),2);\n",
    "tol = 1e-3;\n",
    "for i = 1: numel(Ns)\n",
    "  fprintf('\\n------------tt scheme-------------\\n')\n",
    "  nlev = Ns(i);\n",
    "  [temperr,t, tm, fm] = tt_test3_fn(nlev, tol);\n",
    "  %store results\n",
    "  Err(i,:) = temperr;\n",
    "  Time(i,1) = t;\n",
    "  MemEz(i,1) = tm;\n",
    "  MemEz(i,2) = fm;\n",
    "  save(['../plot_data/tt_example_3.mat']);\n",
    "  fprintf('results of nlev = %d is saved \\n\\n', nlev);\n",
    "end\n"
   ]
  },
  {
   "cell_type": "code",
   "execution_count": null,
   "id": "80aca712-e624-43ab-aa2e-7a8826f242ec",
   "metadata": {},
   "outputs": [],
   "source": []
  }
 ],
 "metadata": {
  "kernelspec": {
   "display_name": "MATLAB Kernel",
   "language": "matlab",
   "name": "jupyter_matlab_kernel"
  },
  "language_info": {
   "file_extension": ".m",
   "mimetype": "text/x-matlab",
   "name": "matlab"
  }
 },
 "nbformat": 4,
 "nbformat_minor": 5
}
