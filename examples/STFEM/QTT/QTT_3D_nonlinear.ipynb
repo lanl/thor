{
 "cells": [
  {
   "cell_type": "code",
   "execution_count": 3,
   "id": "e5aca84d-c7eb-4976-99d9-51fe2a3ecd70",
   "metadata": {},
   "outputs": [],
   "source": [
    "addpath(genpath('../../../matlab/STFEM/src/'))\n",
    "addpath(genpath('../../../matlab/utils/chebfun/'))\n",
    "addpath(genpath('../../../matlab/utils/tt-toolbox/'))\n",
    "addpath(genpath('../../../matlab/utils/ttfunc/'))"
   ]
  },
  {
   "cell_type": "code",
   "execution_count": 5,
   "id": "c7c28c1b-81ac-4264-a396-73031fc71aaa",
   "metadata": {},
   "outputs": [
    {
     "name": "stdout",
     "output_type": "stream",
     "text": [
      "\n",
      "******** Newton iter = 1 ************\n",
      "\n",
      "epsk = 1.00000e-02 \n"
     ]
    },
    {
     "name": "stderr",
     "output_type": "stream",
     "text": [
      "Warning: MEX local solver is not found, disabled"
     ]
    },
    {
     "name": "stdout",
     "output_type": "stream",
     "text": [
      "apha = 1.00e+00 \n",
      "u_err = Inf,  Fu_ratio = 6.97073e-03 \n",
      "iter time = 0.06 \n",
      "\n",
      "******** Newton iter = 2 ************\n",
      "\n",
      "epsk = 4.64715e-03 \n"
     ]
    },
    {
     "name": "stderr",
     "output_type": "stream",
     "text": [
      "Warning: MEX local solver is not found, disabled"
     ]
    },
    {
     "name": "stdout",
     "output_type": "stream",
     "text": [
      "apha = 1.00e+00 \n",
      "u_err = 1.30806e-02,  Fu_ratio = 1.74764e-04 \n",
      "iter time = 0.06 \n",
      "\n",
      "******** Newton iter = 3 ************\n",
      "\n",
      "epsk = 1.16509e-04 \n"
     ]
    },
    {
     "name": "stderr",
     "output_type": "stream",
     "text": [
      "Warning: MEX local solver is not found, disabled"
     ]
    },
    {
     "name": "stdout",
     "output_type": "stream",
     "text": [
      "apha = 1.00e+00 \n",
      "u_err = 1.86468e-04,  Fu_ratio = 9.43817e-05 \n",
      "iter time = 0.25 \n",
      "Ex = 9, qtt error = 2.87e-02 \n",
      "hx = 1.11e-01 - tt tol = 1.23e-04 \n",
      "Elapsed Time = 0.53145 seconds \n",
      "Ag compress = 4.10e-05 \n",
      "u compress = 7.52e-02 \n",
      "truncated u compress = 4.69e-02 \n",
      "Result is saved for Nx = 10  in file plot_data/QTT_3D_nonlinear.mat \n",
      "\n",
      "******** Newton iter = 1 ************\n",
      "\n",
      "epsk = 1.00000e-02 \n"
     ]
    },
    {
     "name": "stderr",
     "output_type": "stream",
     "text": [
      "Warning: MEX local solver is not found, disabled"
     ]
    },
    {
     "name": "stdout",
     "output_type": "stream",
     "text": [
      "apha = 1.00e+00 \n",
      "u_err = Inf,  Fu_ratio = 6.68179e-03 \n",
      "iter time = 0.07 \n",
      "\n",
      "******** Newton iter = 2 ************\n",
      "\n",
      "epsk = 4.45452e-03 \n"
     ]
    },
    {
     "name": "stderr",
     "output_type": "stream",
     "text": [
      "Warning: MEX local solver is not found, disabled"
     ]
    },
    {
     "name": "stdout",
     "output_type": "stream",
     "text": [
      "apha = 1.00e+00 \n",
      "u_err = 1.28702e-02,  Fu_ratio = 1.38909e-04 \n",
      "iter time = 0.18 \n",
      "\n",
      "******** Newton iter = 3 ************\n",
      "\n",
      "epsk = 9.26059e-05 \n"
     ]
    },
    {
     "name": "stderr",
     "output_type": "stream",
     "text": [
      "Warning: MEX local solver is not found, disabled"
     ]
    },
    {
     "name": "stdout",
     "output_type": "stream",
     "text": [
      "apha = 1.00e+00 \n",
      "u_err = 1.70580e-04,  Fu_ratio = 5.71738e-05 \n",
      "iter time = 0.29 \n",
      "\n",
      "******** Newton iter = 4 ************\n",
      "\n",
      "epsk = 3.81158e-05 \n"
     ]
    },
    {
     "name": "stderr",
     "output_type": "stream",
     "text": [
      "Warning: MEX local solver is not found, disabled"
     ]
    },
    {
     "name": "stdout",
     "output_type": "stream",
     "text": [
      "apha = 5.00e-01 \n",
      "u_err = 1.73806e-06,  Fu_ratio = 5.71430e-05 \n",
      "iter time = 0.43 \n",
      "Ex = 17, tt Err = 8.18925e-03 , convrate = 1.80884\n",
      "hx = 5.88e-02 - tt tol = 3.46e-05 \n",
      "Elapsed Time = 1.12444 seconds \n",
      "Ag compress = 2.59e-07 \n",
      "u compress = 4.82e-03 \n",
      "truncated u compress = 4.67e-03 \n",
      "Result is saved for Nx = 18  in file plot_data/QTT_3D_nonlinear.mat \n",
      "\n",
      "******** Newton iter = 1 ************\n",
      "\n",
      "epsk = 1.00000e-02 \n"
     ]
    },
    {
     "name": "stderr",
     "output_type": "stream",
     "text": [
      "Warning: MEX local solver is not found, disabled"
     ]
    },
    {
     "name": "stdout",
     "output_type": "stream",
     "text": [
      "apha = 1.00e+00 \n",
      "u_err = Inf,  Fu_ratio = 8.86730e-03 \n",
      "iter time = 0.14 \n",
      "\n",
      "******** Newton iter = 2 ************\n",
      "\n",
      "epsk = 5.91153e-03 \n"
     ]
    },
    {
     "name": "stderr",
     "output_type": "stream",
     "text": [
      "Warning: MEX local solver is not found, disabled"
     ]
    },
    {
     "name": "stdout",
     "output_type": "stream",
     "text": [
      "apha = 1.00e+00 \n",
      "u_err = 1.30047e-02,  Fu_ratio = 2.40172e-04 \n",
      "iter time = 0.32 \n",
      "\n",
      "******** Newton iter = 3 ************\n",
      "\n",
      "epsk = 1.60114e-04 \n"
     ]
    },
    {
     "name": "stderr",
     "output_type": "stream",
     "text": [
      "Warning: MEX local solver is not found, disabled"
     ]
    },
    {
     "name": "stdout",
     "output_type": "stream",
     "text": [
      "apha = 1.00e+00 \n",
      "u_err = 2.65700e-04,  Fu_ratio = 2.45980e-05 \n",
      "iter time = 0.78 \n",
      "\n",
      "******** Newton iter = 4 ************\n",
      "\n",
      "epsk = 1.63986e-05 \n"
     ]
    },
    {
     "name": "stderr",
     "output_type": "stream",
     "text": [
      "Warning: MEX local solver is not found, disabled"
     ]
    },
    {
     "name": "stdout",
     "output_type": "stream",
     "text": [
      "apha = 5.00e-01 \n",
      "u_err = 2.57115e-06,  Fu_ratio = 2.44240e-05 \n",
      "iter time = 1.61 \n",
      "Ex = 33, tt Err = 2.18443e-03 , convrate = 1.90647\n",
      "hx = 3.03e-02 - tt tol = 9.18e-06 \n",
      "Elapsed Time = 2.96494 seconds \n",
      "Ag compress = 1.40e-09 \n",
      "u compress = 4.23e-04 \n",
      "truncated u compress = 4.12e-04 \n",
      "Result is saved for Nx = 34  in file plot_data/QTT_3D_nonlinear.mat \n",
      "\n",
      "******** Newton iter = 1 ************\n",
      "\n",
      "epsk = 1.00000e-02 \n"
     ]
    },
    {
     "name": "stderr",
     "output_type": "stream",
     "text": [
      "Warning: MEX local solver is not found, disabled"
     ]
    },
    {
     "name": "stdout",
     "output_type": "stream",
     "text": [
      "apha = 1.00e+00 \n",
      "u_err = Inf,  Fu_ratio = 1.51652e-02 \n",
      "iter time = 0.29 \n",
      "\n",
      "******** Newton iter = 2 ************\n",
      "\n",
      "epsk = 6.66667e-03 \n"
     ]
    },
    {
     "name": "stderr",
     "output_type": "stream",
     "text": [
      "Warning: MEX local solver is not found, disabled"
     ]
    },
    {
     "name": "stdout",
     "output_type": "stream",
     "text": [
      "apha = 1.00e+00 \n",
      "u_err = 1.35467e-02,  Fu_ratio = 5.96599e-04 \n",
      "iter time = 0.71 \n",
      "\n",
      "******** Newton iter = 3 ************\n",
      "\n",
      "epsk = 3.97733e-04 \n"
     ]
    },
    {
     "name": "stderr",
     "output_type": "stream",
     "text": [
      "Warning: MEX local solver is not found, disabled"
     ]
    },
    {
     "name": "stdout",
     "output_type": "stream",
     "text": [
      "apha = 1.00e+00 \n",
      "u_err = 3.63622e-04,  Fu_ratio = 1.65366e-05 \n",
      "iter time = 0.85 \n",
      "\n",
      "******** Newton iter = 4 ************\n",
      "\n",
      "epsk = 1.10244e-05 \n"
     ]
    },
    {
     "name": "stderr",
     "output_type": "stream",
     "text": [
      "Warning: MEX local solver is not found, disabled"
     ]
    },
    {
     "name": "stdout",
     "output_type": "stream",
     "text": [
      "apha = 1.00e+00 \n",
      "u_err = 2.52476e-05,  Fu_ratio = 1.46570e-05 \n",
      "iter time = 5.25 \n",
      "\n",
      "******** Newton iter = 5 ************\n",
      "\n",
      "epsk = 7.34960e-06 \n"
     ]
    },
    {
     "name": "stderr",
     "output_type": "stream",
     "text": [
      "Warning: MEX local solver is not found, disabled"
     ]
    },
    {
     "name": "stdout",
     "output_type": "stream",
     "text": [
      "apha = 1.00e+00 \n",
      "u_err = 2.84770e-07,  Fu_ratio = 1.45450e-05 \n",
      "iter time = 3.64 \n",
      "Ex = 65, tt Err = 5.63647e-04 , convrate = 1.95439\n",
      "hx = 1.54e-02 - tt tol = 2.37e-06 \n",
      "Elapsed Time = 10.90801 seconds \n",
      "Ag compress = 6.96e-12 \n",
      "u compress = 3.41e-05 \n",
      "truncated u compress = 3.34e-05 \n",
      "Result is saved for Nx = 66  in file plot_data/QTT_3D_nonlinear.mat \n",
      "\n",
      "******** Newton iter = 1 ************\n",
      "\n",
      "epsk = 1.00000e-02 \n"
     ]
    },
    {
     "name": "stderr",
     "output_type": "stream",
     "text": [
      "Warning: MEX local solver is not found, disabled"
     ]
    },
    {
     "name": "stdout",
     "output_type": "stream",
     "text": [
      "apha = 1.00e+00 \n",
      "u_err = Inf,  Fu_ratio = 4.38814e-02 \n",
      "iter time = 0.30 \n",
      "\n",
      "******** Newton iter = 2 ************\n",
      "\n",
      "epsk = 6.66667e-03 \n"
     ]
    },
    {
     "name": "stderr",
     "output_type": "stream",
     "text": [
      "Warning: MEX local solver is not found, disabled"
     ]
    },
    {
     "name": "stdout",
     "output_type": "stream",
     "text": [
      "apha = 1.00e+00 \n",
      "u_err = 1.28943e-02,  Fu_ratio = 1.68635e-03 \n",
      "iter time = 0.79 \n",
      "\n",
      "******** Newton iter = 3 ************\n",
      "\n",
      "epsk = 1.12424e-03 \n"
     ]
    },
    {
     "name": "stderr",
     "output_type": "stream",
     "text": [
      "Warning: MEX local solver is not found, disabled"
     ]
    },
    {
     "name": "stdout",
     "output_type": "stream",
     "text": [
      "apha = 1.00e+00 \n",
      "u_err = 5.91793e-04,  Fu_ratio = 5.14086e-05 \n",
      "iter time = 1.19 \n",
      "\n",
      "******** Newton iter = 4 ************\n",
      "\n",
      "epsk = 3.42724e-05 \n"
     ]
    },
    {
     "name": "stderr",
     "output_type": "stream",
     "text": [
      "Warning: MEX local solver is not found, disabled"
     ]
    },
    {
     "name": "stdout",
     "output_type": "stream",
     "text": [
      "apha = 1.00e+00 \n",
      "u_err = 4.03324e-05,  Fu_ratio = 1.05816e-05 \n",
      "iter time = 6.45 \n",
      "\n",
      "******** Newton iter = 5 ************\n",
      "\n",
      "epsk = 7.05442e-06 \n"
     ]
    },
    {
     "name": "stderr",
     "output_type": "stream",
     "text": [
      "Warning: MEX local solver is not found, disabled"
     ]
    },
    {
     "name": "stdout",
     "output_type": "stream",
     "text": [
      "apha = 1.00e+00 \n",
      "u_err = 3.10946e-06,  Fu_ratio = 1.00879e-05 \n",
      "iter time = 16.32 \n",
      "\n",
      "******** Newton iter = 6 ************\n",
      "\n",
      "epsk = 2.07297e-06 \n"
     ]
    },
    {
     "name": "stderr",
     "output_type": "stream",
     "text": [
      "Warning: MEX local solver is not found, disabled"
     ]
    },
    {
     "name": "stdout",
     "output_type": "stream",
     "text": [
      "apha = 1.00e+00 \n",
      "u_err = 3.59060e-08,  Fu_ratio = 1.00881e-05 \n",
      "iter time = 20.48 \n",
      "Ex = 129, tt Err = 1.43151e-04 , convrate = 1.97725\n",
      "hx = 7.75e-03 - tt tol = 6.01e-07 \n",
      "Elapsed Time = 45.86763 seconds \n",
      "Ag compress = 3.31e-14 \n",
      "u compress = 2.61e-06 \n",
      "truncated u compress = 2.56e-06 \n",
      "Result is saved for Nx = 130  in file plot_data/QTT_3D_nonlinear.mat \n"
     ]
    }
   ],
   "source": [
    "%% problem definitions\n",
    "% du/dt + DiffU = u - u.^3\n",
    "\n",
    "uexactfn = @(t,x,y,z) sin(pi*x).*sin(pi*y).*sin(pi*z).*sin(pi*t) ...\n",
    "  + sin(2*pi*x).*sin(2*pi*y).*sin(2*pi*z).*sin(2*pi*t);\n",
    "\n",
    "afn = @(x,y,z) 1.0;\n",
    "\n",
    "% compute terms\n",
    "dudt = compute_dudt_fn(uexactfn);\n",
    "Dfn = compute_3D_diffusion_fn(uexactfn,afn);\n",
    "gfn = @(t,x,y,z) dudt(t,x,y,z) + Dfn(t,x,y,z)...\n",
    "- uexactfn(t,x,y,z) + uexactfn(t,x,y,z).^3;\n",
    "%%\n",
    "d = 3;\n",
    "NEs = 1 + 2.^[3:7];%[3:9]\n",
    "\n",
    "R = cell(numel(NEs),1);\n",
    "fname='../plot_data/QTT_3D_nonlinear.mat';\n",
    "\n",
    "for jjns = [1:numel(NEs)]\n",
    "  %% parameters\n",
    "  ts = datetime;\n",
    "  Lx = 1; % Length of the domain in x-direction\n",
    "  Ly = 1; % Length of the domain in y-direction\n",
    "  Lz = 1;\n",
    "  Lt = 1;\n",
    "\n",
    "  Ex = NEs(jjns); % Number of elements in x-direction\n",
    "  hx = Lx / Ex; % Element size in x-direction\n",
    "  Nx = Ex + 1; % Number of nodes in x-direction\n",
    "\n",
    "  Et = Ex-1;\n",
    "  ht = Lt/Et;\n",
    "  Nt = Et + 1;\n",
    "\n",
    "  tt_tol = 0.01*hx^2;\n",
    "  % tt_tol = 1e-8;\n",
    "  %% Create mesh\n",
    "  X = 0:hx:1;\n",
    "  T = 0:ht:1;\n",
    "\n",
    "  %% create grid in tt\n",
    "  Itt = [ones(1,Nt),repmat({ones(1, Nx)}, 1, d)];\n",
    "  Ctt = cell(1, d+1);\n",
    "  temp = Itt;\n",
    "  temp{1} = T;\n",
    "  Ctt{1} = cell2core(tt_tensor,temp);\n",
    "\n",
    "  for ic = 2:d+1\n",
    "    temp = Itt;\n",
    "    temp{ic} = X;\n",
    "    Ctt{ic} = cell2core(tt_tensor,temp);\n",
    "  end\n",
    "\n",
    "  %% create spatial grid in tt\n",
    "  Itt = repmat({ones(1, Nx)}, 1, d);\n",
    "  Cxtt = cell(1, d);\n",
    "  for ic = 1:d\n",
    "    temp = Itt;\n",
    "    temp{ic} = X;\n",
    "    Cxtt{ic} = cell2core(tt_tensor,temp);\n",
    "  end\n",
    "  %% %%%%%%%%%%% Construction of the left hand side matrix\n",
    "  % Initialize NNL with zeros\n",
    "  NNL = sparse(Ex, 2*Ex);  % for space dimension\n",
    "  % Populate NNL matrix\n",
    "  for ii=2:Ex\n",
    "    NNL(ii,ii+(ii-2))=1; NNL(ii,ii+(ii-2)+1)=1;\n",
    "  end\n",
    "  NNL(1,1)=1; NNL(Nx, 2*Ex)=1;\n",
    "\n",
    "  NNR=NNL';\n",
    "\n",
    "  NNLt = sparse(Et, 2*Et);  % for time dimension\n",
    "  % Populate NNLt matrix\n",
    "  for ii=2:Et\n",
    "    NNLt(ii,ii+(ii-2))=1; NNLt(ii,ii+(ii-2)+1)=1;\n",
    "  end\n",
    "  NNLt(1,1)=1; NNLt(Nt, 2*Et)=1;\n",
    "\n",
    "  NNRt=NNLt';\n",
    "\n",
    "\n",
    "  % Assemble stiffness matrix and load vector\n",
    "  [A1,A2,M1,M2,B1,B2] = nonlinear_Mat(X(1:2));\n",
    "\n",
    "\n",
    "  AA = {kron(eye(Ex),A1),kron(eye(Ex),A2)};\n",
    "  MM = {kron(eye(Ex),M1),kron(eye(Ex),M2)};\n",
    "  BB = {kron(eye(Ex),B1),kron(eye(Ex),B2)};\n",
    "  % Element stiffness matrix for a Q1 element in 2D\n",
    "  Bs=(hx)*(1/6)*[2 1;1 2];\n",
    "  ML = NNL*kron(eye(Ex),Bs)*NNR;\n",
    "\n",
    "\n",
    "  % matrix for time dimension\n",
    "  [A1t,A2t,M1t,M2t,B1t,B2t] = nonlinear_Mat(T(1:2));\n",
    "  Bt=(ht)*(1/6)*[2 1;1 2];\n",
    "  MT = Mat_Time(T(1:2));\n",
    "  ZT = NNLt*kron(eye(Et),MT)*NNRt;\n",
    "  MLt = NNLt*kron(eye(Et),Bt)*NNRt;\n",
    "  MX1t = NNLt*kron(eye(Et),M1t)*NNRt;\n",
    "  MX2t = NNLt*kron(eye(Et),M2t)*NNRt;\n",
    "\n",
    "  %% Build global operator for time\n",
    "  Ix = [2:Ex]; % interior system\n",
    "  It = [2:Et+1];\n",
    "\n",
    "  %%convert MX1 and MX2 to qtt\n",
    "  ltemp = int8(log2(size(MX1t(It,It),1)));\n",
    "  MX1qtt = tt_matrix(reshape(MX1t(It,It),2*ones(1,2*ltemp)));\n",
    "  MX2qtt = tt_matrix(reshape(MX2t(It,It),2*ones(1,2*ltemp)));\n",
    "  \n",
    "  %\n",
    "  AT = matrices_to_qtt_matrix_fn({ZT(It,It),ML(Ix,Ix),ML(Ix,Ix),ML(Ix,Ix)},tt_tol);\n",
    "  %%  Build Laplace Operator\n",
    "  % nterm = 2; %number of rank-1 term in the decomposition of funciton a\n",
    "  att= amen_cross_zero(Cxtt, @(x) cross_fun_nD(x,afn),tt_tol,'verb',0);\n",
    "  %\n",
    "  G = core2cell(att);\n",
    "  nt1 = att.r(2);\n",
    "  nt2 = att.r(3);\n",
    "\n",
    "  Agtt = [];\n",
    "  for j1 = 1:nt1\n",
    "    for j2 = 1:nt2\n",
    "      % Build 1D matrix operator\n",
    "      CC = {kron(G{1}(1,:,j1)', [1;1]), kron(G{2}(j1,:,j2)', [1;1]), kron(G{3}(j2,:,1)', [1;1])};\n",
    "\n",
    "      % Calculate diagonal matrices only once\n",
    "      diag_CC = cell(d,2);\n",
    "      for idim = 1:d\n",
    "        diag_CC{idim,1} = diag(CC{idim}(1:end-2));\n",
    "        diag_CC{idim,2} = diag(CC{idim}(3:end));\n",
    "      end\n",
    "\n",
    "      % Compute AG and MG matrices with diag multiplications\n",
    "      for idim = 1:d\n",
    "        for ipt = 1:2\n",
    "          AG{idim,ipt} = NNL * (AA{ipt} * diag_CC{idim,ipt}) * NNR;\n",
    "          MG{idim,ipt} = NNL * (MM{ipt} * diag_CC{idim,ipt}) * NNR;\n",
    "        end\n",
    "      end\n",
    "\n",
    "      % Calculate the current TT matrix\n",
    "      Agttcur =[];\n",
    "      for ipt = 1:2\n",
    "        for ipt2 = 1:2\n",
    "          for ipt3 = 1:2\n",
    "            curterm = round(...\n",
    "              matrices_to_qtt_matrix_fn({AG{1,ipt}(Ix, Ix), ...\n",
    "              MG{2,ipt2}(Ix, Ix), MG{3,ipt3}(Ix, Ix)},tt_tol) ...\n",
    "              + matrices_to_qtt_matrix_fn({MG{1,ipt}(Ix, Ix), ...\n",
    "              AG{2,ipt2}(Ix, Ix),MG{3,ipt3}(Ix, Ix)},tt_tol) ...\n",
    "              + matrices_to_qtt_matrix_fn({MG{1,ipt}(Ix, Ix), ...\n",
    "              MG{2,ipt2}(Ix, Ix),AG{3,ipt3}(Ix, Ix)},tt_tol), tt_tol);\n",
    "            if isempty(Agttcur)\n",
    "              Agttcur=curterm;\n",
    "            else\n",
    "              Agttcur = round(Agttcur + curterm, tt_tol);\n",
    "            end\n",
    "          end\n",
    "        end\n",
    "      end\n",
    "\n",
    "      % Add the current TT matrix to the total\n",
    "      if isempty(Agtt)\n",
    "        Agtt = round(Agttcur, tt_tol);\n",
    "      else\n",
    "        Agtt = round(Agtt + Agttcur, tt_tol);\n",
    "      end\n",
    "    end\n",
    "  end\n",
    "  % add time operator\n",
    "  AD = round(tkron(MX1qtt,Agtt) + tkron(MX2qtt,Agtt),tt_tol);\n",
    "\n",
    "  %% Build global operator\n",
    "  Att = round(AT + AD, 0.01*tt_tol);\n",
    "\n",
    "  %% Get the rhs term\n",
    "  LLtt= amen_cross_zero(Ctt, @(x) cross_fun_nD(x,gfn),tt_tol,'verb',0);\n",
    "  MMxtt = matrices_to_tt_matrix_fn(repmat({ML(Ix,:)}, 1, d));\n",
    "  MMtt = tkron(tt_matrix(MLt(It,:)),MMxtt);\n",
    "  gtt = amen_mv(MMtt,LLtt,tt_tol,'verb',0);\n",
    "  \n",
    "  %% QTT\n",
    "  l = int8(log2(Ex-1));\n",
    "  dimvec = 2*ones(1,(d+1)*l);\n",
    "  gtt = tt_reshape(gtt,dimvec',0.01*tt_tol);\n",
    "  %% Forming root finding problem\n",
    "\n",
    "  MMxtt = matrices_to_qtt_matrix_fn(repmat({ML(Ix,Ix)}, 1, d),0.01*tt_tol);\n",
    "  \n",
    "  MMtt2 = tkron(tt_matrix(reshape(MLt(It,It),2*ones(1,2*l)), 0.01*tt_tol),MMxtt);\n",
    "\n",
    "  F = @(y) round(amen_mv(Att,y,tt_tol,'verb',0) ...\n",
    "    - amen_mv(MMtt2, round(y - y.^3,tt_tol),tt_tol,'verb',0) - gtt, tt_tol);\n",
    "  JF = @(y) round(Att - 2*round(MMtt2.*make_tt_to_operator(y - y.^3),tt_tol),tt_tol);\n",
    "\n",
    "  %% Newton\n",
    "  epsk = 1e-2;\n",
    "  U0 = tt_zeros(size(gtt));\n",
    "  Newton_eps = max(tt_tol,1e-6);\n",
    "  %%\n",
    "  nrmFU0 = norm(F(U0));\n",
    "  maxiter = 100;\n",
    "  du = U0;\n",
    "  for k = 1:maxiter\n",
    "    tsiter = datetime;\n",
    "    % epsk = epsk*epsfactor;\n",
    "    if 1\n",
    "      fprintf('\\n******** Newton iter = %d ************\\n\\n', k);\n",
    "      fprintf('epsk = %.5e \\n', epsk);\n",
    "    end\n",
    "\n",
    "    % compute Jacobian with JFbc\n",
    "    Jmatk = JF(U0);\n",
    "\n",
    "    % use GMRES to solve for du\n",
    "    b = -F(U0);\n",
    "\n",
    "    du = amen_solve2(Jmatk,b,epsk,'resid_damp',1,'verb',0);\n",
    "\n",
    "    % tegmres = datetime;\n",
    "    % fprintf('Linear Solve Time = %.2f\\n', seconds(tegmres-tsiter));\n",
    "\n",
    "    %update U1\n",
    "    for alpha = [1,1/2,1/4,1/8,1/16]\n",
    "      U1 = round(U0 + alpha*du, max(epsk,tt_tol));\n",
    "      if norm(F(U1))<norm(F(U0))\n",
    "        break;\n",
    "      end\n",
    "    end\n",
    "\n",
    "    %compute local error\n",
    "    local_err=norm(U1-U0)/norm(U0);\n",
    "    res_norm = norm(F(U1))/nrmFU0;\n",
    "\n",
    "    % #* set epsk\n",
    "    epsk = min(min([local_err,res_norm]),epsk)/1.5;\n",
    "    % epsk = min([local_err,res_norm]);\n",
    "\n",
    "    fprintf('apha = %.2e \\n', alpha);\n",
    "    fprintf('u_err = %.5e,  Fu_ratio = %.5e \\n', local_err, res_norm)\n",
    "    fprintf('iter time = %.2f \\n', seconds(datetime-tsiter));\n",
    "    if (local_err<Newton_eps) || (res_norm<Newton_eps)\n",
    "      break;\n",
    "    end\n",
    "    U0 = U1;\n",
    "  end\n",
    "  utt = U1;\n",
    "\n",
    "  %%\n",
    "  tt_time = seconds(datetime-ts);\n",
    "  Agcomp = compress_ratio_tt(Att);\n",
    "  ucomp = compress_ratio_tt(utt);\n",
    "  %% compute error\n",
    "  uexacttt= amen_cross_zero(Ctt, @(x) cross_fun_nD(x,uexactfn),tt_tol,'verb',0);\n",
    "  uexacttt = tt_get_inner(uexacttt,{2:Nt,2:Nx-1,2:Nx-1,2:Nx-1});\n",
    "  uexacttt = tt_reshape(uexacttt, size(utt),tt_tol);\n",
    "\n",
    "  Errtt(jjns)=norm(utt-uexacttt)/norm(uexacttt);\n",
    "  utrunccomp = compress_ratio_tt(round(utt,Errtt(jjns)));\n",
    "  \n",
    "  %% store the results\n",
    "  c.NewtonIter = k;\n",
    "  c.hx = hx;\n",
    "  c.ht = ht;\n",
    "  c.tt_tol = tt_tol;\n",
    "  c.error = Errtt(jjns);\n",
    "  c.Agttcomp = Agcomp;\n",
    "  c.Agttrank = Agtt.r;\n",
    "  c.time = tt_time;\n",
    "\n",
    "  R{jjns,1} = c;\n",
    "  %% print out errors\n",
    "  if jjns==1\n",
    "    fprintf('Ex = %d, ',Ex);\n",
    "    fprintf('qtt error = %.2e \\n',Errtt(jjns));\n",
    "  else\n",
    "    fprintf('Ex = %d, tt Err = %.5e , convrate = %.5f\\n',Ex,Errtt(jjns),...\n",
    "      ( log(Errtt(jjns)) - log(Errtt(jjns-1)) )...\n",
    "      /log((NEs(jjns-1)-1)/(NEs(jjns)-1)));\n",
    "  end\n",
    "  fprintf('hx = %.2e - tt tol = %.2e \\n', hx, tt_tol);\n",
    "  fprintf('Elapsed Time = %.5f seconds \\n',tt_time)\n",
    "  fprintf('Ag compress = %.2e \\n', Agcomp);\n",
    "  fprintf('u compress = %.2e \\n', ucomp);\n",
    "  fprintf('truncated u compress = %.2e \\n', utrunccomp);\n",
    "\n",
    "  %% save\n",
    "  save(fname,'NEs','uexactfn','gfn','R');\n",
    "  fprintf('Result is saved for Nx = %d  in file %s \\n', Nx, fname);\n",
    "end\n",
    "\n"
   ]
  },
  {
   "cell_type": "code",
   "execution_count": null,
   "id": "8c35c8fc-ff7e-4e42-ac5d-cf10865ce215",
   "metadata": {},
   "outputs": [],
   "source": []
  }
 ],
 "metadata": {
  "kernelspec": {
   "display_name": "MATLAB Kernel",
   "language": "matlab",
   "name": "jupyter_matlab_kernel"
  },
  "language_info": {
   "file_extension": ".m",
   "mimetype": "text/x-matlab",
   "name": "matlab"
  }
 },
 "nbformat": 4,
 "nbformat_minor": 5
}
