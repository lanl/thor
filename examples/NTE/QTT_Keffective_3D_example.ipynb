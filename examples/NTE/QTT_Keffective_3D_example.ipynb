{
 "cells": [
  {
   "cell_type": "markdown",
   "id": "7dd38077-3a0c-4702-bb63-eb020b41f476",
   "metadata": {},
   "source": [
    "<h1>Tensor networks for solving the time-independent Boltzmann\n",
    "neutron transport equation</h1>"
   ]
  },
  {
   "cell_type": "markdown",
   "id": "8431befa-d1ff-4083-9137-137c115e7efe",
   "metadata": {},
   "source": [
    "Duc P. Truong, Mario I. Ortega, Ismael Boureima, Gianmarco Manzini, Kim Ø. Rasmussen, Boian S. Alexandrov"
   ]
  },
  {
   "cell_type": "markdown",
   "id": "7d181e22-52d8-4b79-a894-b0f435f25037",
   "metadata": {},
   "source": [
    "https://www.sciencedirect.com/science/article/pii/S002199912400192X"
   ]
  },
  {
   "cell_type": "code",
   "execution_count": 2,
   "id": "75d605a1-f93b-47ba-ba91-32dae777324b",
   "metadata": {},
   "outputs": [],
   "source": [
    "addpath(genpath('../../matlab/NTE/src/'))\n",
    "addpath(genpath('../../matlab/utils/chebfun/'))\n",
    "addpath(genpath('../../matlab/utils/tt-toolbox/'))\n",
    "addpath(genpath('../../matlab/utils/ttfunc/'))\n",
    "\n",
    "close all; clear; clc;"
   ]
  },
  {
   "cell_type": "code",
   "execution_count": 3,
   "id": "4bc9303e-f666-4aec-80b2-54047ec7561a",
   "metadata": {},
   "outputs": [
    {
     "name": "stdout",
     "output_type": "stream",
     "text": [
      "Problem grid size = 128 \n",
      "Iteration = 1/100 \n",
      "convrate = NaN \n",
      "|1-lambda| = NaN \n",
      " k = 1.00000e+00 \n",
      "elapsed time = 0.00 s \n"
     ]
    },
    {
     "name": "stderr",
     "output_type": "stream",
     "text": [
      "Warning: MEX local solver is not found, disabled"
     ]
    },
    {
     "name": "stdout",
     "output_type": "stream",
     "text": [
      "Iteration = 2/100 \n",
      "convrate = 5.67672e+01 \n",
      "|1-lambda| = 5.24188e-01 \n",
      " k = 4.75812e-01 \n",
      "elapsed time = 1.36 s \n"
     ]
    },
    {
     "name": "stderr",
     "output_type": "stream",
     "text": [
      "Warning: MEX local solver is not found, disabled"
     ]
    },
    {
     "name": "stdout",
     "output_type": "stream",
     "text": [
      "Iteration = 3/100 \n",
      "convrate = 5.98200e-01 \n",
      "|1-lambda| = 4.72917e-01 \n",
      " k = 7.00832e-01 \n",
      "elapsed time = 6.82 s \n"
     ]
    },
    {
     "name": "stderr",
     "output_type": "stream",
     "text": [
      "Warning: MEX local solver is not found, disabled"
     ]
    },
    {
     "name": "stdout",
     "output_type": "stream",
     "text": [
      "Iteration = 4/100 \n",
      "convrate = 2.40820e-01 \n",
      "|1-lambda| = 1.83057e-01 \n",
      " k = 8.29124e-01 \n",
      "elapsed time = 15.67 s \n"
     ]
    },
    {
     "name": "stderr",
     "output_type": "stream",
     "text": [
      "Warning: MEX local solver is not found, disabled"
     ]
    },
    {
     "name": "stdout",
     "output_type": "stream",
     "text": [
      "Iteration = 5/100 \n",
      "convrate = 1.26705e-01 \n",
      "|1-lambda| = 8.98900e-02 \n",
      " k = 9.03654e-01 \n",
      "elapsed time = 25.24 s \n"
     ]
    },
    {
     "name": "stderr",
     "output_type": "stream",
     "text": [
      "Warning: MEX local solver is not found, disabled"
     ]
    },
    {
     "name": "stdout",
     "output_type": "stream",
     "text": [
      "Iteration = 6/100 \n",
      "convrate = 7.37641e-02 \n",
      "|1-lambda| = 4.98509e-02 \n",
      " k = 9.48703e-01 \n",
      "elapsed time = 36.81 s \n"
     ]
    },
    {
     "name": "stderr",
     "output_type": "stream",
     "text": [
      "Warning: MEX local solver is not found, disabled"
     ]
    },
    {
     "name": "stdout",
     "output_type": "stream",
     "text": [
      "Iteration = 7/100 \n",
      "convrate = 4.53322e-02 \n",
      "|1-lambda| = 2.93493e-02 \n",
      " k = 9.76546e-01 \n",
      "elapsed time = 51.56 s \n"
     ]
    },
    {
     "name": "stderr",
     "output_type": "stream",
     "text": [
      "Warning: MEX local solver is not found, disabled"
     ]
    },
    {
     "name": "stdout",
     "output_type": "stream",
     "text": [
      "Iteration = 8/100 \n",
      "convrate = 2.84134e-02 \n",
      "|1-lambda| = 1.80455e-02 \n",
      " k = 9.94169e-01 \n",
      "elapsed time = 58.31 s \n"
     ]
    },
    {
     "name": "stderr",
     "output_type": "stream",
     "text": [
      "Warning: MEX local solver is not found, disabled"
     ]
    },
    {
     "name": "stdout",
     "output_type": "stream",
     "text": [
      "Iteration = 9/100 \n",
      "convrate = 1.82677e-02 \n",
      "|1-lambda| = 1.14017e-02 \n",
      " k = 1.00550e+00 \n",
      "elapsed time = 64.38 s \n"
     ]
    },
    {
     "name": "stderr",
     "output_type": "stream",
     "text": [
      "Warning: MEX local solver is not found, disabled"
     ]
    },
    {
     "name": "stdout",
     "output_type": "stream",
     "text": [
      "Iteration = 10/100 \n",
      "convrate = 1.19465e-02 \n",
      "|1-lambda| = 7.34111e-03 \n",
      " k = 1.01289e+00 \n",
      "elapsed time = 70.56 s \n"
     ]
    },
    {
     "name": "stderr",
     "output_type": "stream",
     "text": [
      "Warning: MEX local solver is not found, disabled"
     ]
    },
    {
     "name": "stdout",
     "output_type": "stream",
     "text": [
      "Iteration = 11/100 \n",
      "convrate = 7.92526e-03 \n",
      "|1-lambda| = 4.79577e-03 \n",
      " k = 1.01774e+00 \n",
      "elapsed time = 77.57 s \n"
     ]
    },
    {
     "name": "stderr",
     "output_type": "stream",
     "text": [
      "Warning: MEX local solver is not found, disabled"
     ]
    },
    {
     "name": "stdout",
     "output_type": "stream",
     "text": [
      "Iteration = 12/100 \n",
      "convrate = 5.36978e-03 \n",
      "|1-lambda| = 3.15906e-03 \n",
      " k = 1.02096e+00 \n",
      "elapsed time = 83.67 s \n"
     ]
    },
    {
     "name": "stderr",
     "output_type": "stream",
     "text": [
      "Warning: MEX local solver is not found, disabled"
     ]
    },
    {
     "name": "stdout",
     "output_type": "stream",
     "text": [
      "Iteration = 13/100 \n",
      "convrate = 3.73991e-03 \n",
      "|1-lambda| = 2.09264e-03 \n",
      " k = 1.02309e+00 \n",
      "elapsed time = 89.06 s \n"
     ]
    },
    {
     "name": "stderr",
     "output_type": "stream",
     "text": [
      "Warning: MEX local solver is not found, disabled"
     ]
    },
    {
     "name": "stdout",
     "output_type": "stream",
     "text": [
      "Iteration = 14/100 \n",
      "convrate = 2.72552e-03 \n",
      "|1-lambda| = 1.41176e-03 \n",
      " k = 1.02454e+00 \n",
      "elapsed time = 95.20 s \n"
     ]
    },
    {
     "name": "stderr",
     "output_type": "stream",
     "text": [
      "Warning: MEX local solver is not found, disabled"
     ]
    },
    {
     "name": "stdout",
     "output_type": "stream",
     "text": [
      "Iteration = 15/100 \n",
      "convrate = 2.04060e-03 \n",
      "|1-lambda| = 9.56444e-04 \n",
      " k = 1.02552e+00 \n",
      "elapsed time = 100.78 s \n"
     ]
    },
    {
     "name": "stderr",
     "output_type": "stream",
     "text": [
      "Warning: MEX local solver is not found, disabled"
     ]
    },
    {
     "name": "stdout",
     "output_type": "stream",
     "text": [
      "Iteration = 16/100 \n",
      "convrate = 1.69310e-03 \n",
      "|1-lambda| = 6.42907e-04 \n",
      " k = 1.02618e+00 \n",
      "elapsed time = 106.76 s \n"
     ]
    },
    {
     "name": "stderr",
     "output_type": "stream",
     "text": [
      "Warning: MEX local solver is not found, disabled"
     ]
    },
    {
     "name": "stdout",
     "output_type": "stream",
     "text": [
      "Iteration = 17/100 \n",
      "convrate = 1.10017e-03 \n",
      "|1-lambda| = 4.37954e-04 \n",
      " k = 1.02663e+00 \n",
      "elapsed time = 110.38 s \n"
     ]
    },
    {
     "name": "stderr",
     "output_type": "stream",
     "text": [
      "Warning: MEX local solver is not found, disabled"
     ]
    },
    {
     "name": "stdout",
     "output_type": "stream",
     "text": [
      "The fixed point scheme converged at iter = 17 \n",
      "eigenvalue k = 1.0269307802 \n",
      "eigenvalue errors = 6.51950e-04 \n",
      "compression ratio of H = 8.91587e-18 \n",
      "compression ratio of S = 9.31990e-18 \n",
      "compression ratio of F = 1.01068e-17 \n",
      "Elapsed time = 110.38 seconds \n"
     ]
    }
   ],
   "source": [
    "% if ~isdeployed\n",
    "%   run setup2DSlab.m\n",
    "% end\n",
    "% addpath(genpath('./Data/'));\n",
    "%% Slab Dimensions\n",
    "x0 = 0.0; x1 = 10;\n",
    "y0 = 0.0; y1 = 10;\n",
    "z0 = 0.0; z1 = 10;\n",
    "Param = load('./Data/NTE_3D.mat');\n",
    "\n",
    "%%\n",
    "chi = Param.chi;\n",
    "nusigf = Param.nusigf;\n",
    "sigt = Param.sigt;\n",
    "sigs = Param.sigs;\n",
    "\n",
    "nusigf = chi.*nusigf';\n",
    "nE = length( sigt );\n",
    "fixed_point_tol = 1e-3;\n",
    "tt_tol = fixed_point_tol*0.01;\n",
    "\n",
    "%% ASSUME Nx=Ny, dx=dy\n",
    "n = 128;\n",
    "nx = n; %x\n",
    "ny = n; %y\n",
    "nz = n; %z\n",
    "L = 8;\n",
    "\n",
    "dx = (x1-x0)/(nx-1); %spacial step\n",
    "dy = (y1-y0)/(ny-1); %spacial step\n",
    "dz = (z1-z0)/(nz-1); %spacial step\n",
    "\n",
    "% % regenerate mu and weight\n",
    "idimen = 3;\n",
    "octs   = 2^idimen;\n",
    "nords = octs*(L/2)^2;\n",
    "[ mu, eta, xi, wgt ] = GetChebyLegendre ( L, idimen );\n",
    "\n",
    "fprintf('Problem grid size = %d \\n',n)\n",
    "\n",
    "%% forming components\n",
    "%positive mu and eta\n",
    "difmatp = 1/dx*(diag(ones(nx,1)) - diag(ones(nx-1,1),-1));\n",
    "% angp = diag([zeros(1,nmu/2), mu(nmu/2+1:nmu)]);\n",
    "intpmatp = 1/2*(diag(ones(nx,1)) + diag(ones(nx-1,1),-1));\n",
    "intgmat = ones(numel(mu),1)*wgt;\n",
    "\n",
    "intpmatp_noBC = intpmatp;\n",
    "intpmatp_noBC(1,:) = 0;\n",
    "\n",
    "%negative mu and eta\n",
    "difmatm = 1/dx*(-diag(ones(nx,1)) + diag(ones(nx-1,1),1));\n",
    "% angm = diag([mu(1:nmu/2), zeros(1,nmu/2)]);\n",
    "intpmatm = 1/2*(diag(ones(nx,1)) + diag(ones(nx-1,1),1));\n",
    "% intgm = flipud(intgp);\n",
    "\n",
    "intpmatm_noBC = intpmatm;\n",
    "intpmatm_noBC(end,:) = 0;\n",
    "\n",
    "% collect\n",
    "difmat ={difmatm,difmatp};\n",
    "% ang = {angm, angp};\n",
    "intp = {intpmatm,intpmatp};\n",
    "% intg = {intgm,intgp};\n",
    "\n",
    "intp_noBC = {intpmatm_noBC, intpmatp_noBC};\n",
    "\n",
    "%% Now build the tensor\n",
    "ttH = 0; %LHS operator\n",
    "ttS = 0; %RHS scattering operator\n",
    "ttF = 0; % RHS fission operator\n",
    "\n",
    "for kxi = 1:2 % 1-minus, 2-plus\n",
    "  for jeta = 1:2\n",
    "    for imu = 1:2\n",
    "\n",
    "      Itemp = zeros(octs,octs);\n",
    "      octidx = 4*(kxi-1) + 2*(jeta-1) + imu;\n",
    "      % fprintf('octant %d \\n',octidx)\n",
    "      Itemp(octidx,octidx) = 1 ; %map imu from [1,2] to [-1,1]\n",
    "\n",
    "      %d/dx term\n",
    "      angmat = kron(Itemp,(imu-1.5)*2*diag(mu));\n",
    "      Ldx = matrices_to_qtt_matrix_fn({difmat{imu}, intp{jeta}, intp{kxi}, ...\n",
    "        angmat, eye(nE)},tt_tol);\n",
    "      \n",
    "      % %d/dy term\n",
    "      angmat = kron(Itemp,(jeta-1.5)*2*diag(eta));\n",
    "      Ldy = matrices_to_qtt_matrix_fn({intp{imu}, difmat{jeta},intp{kxi},...\n",
    "        angmat, eye(nE)},tt_tol);\n",
    "      %d/dz term\n",
    "      angmat = kron(Itemp,(kxi-1.5)*2*diag(xi));\n",
    "      Ldz = matrices_to_qtt_matrix_fn({intp{imu}, intp{jeta}, difmat{kxi},...\n",
    "        angmat, eye(nE)},tt_tol);\n",
    "\n",
    "      %interpolation term\n",
    "      angmat = kron(Itemp, eye(numel(mu)));\n",
    "      Lintp = matrices_to_qtt_matrix_fn({intp{imu}, intp{jeta}, intp{kxi},...\n",
    "        angmat, diag(sigt)},tt_tol);\n",
    "\n",
    "      Htemp = Ldx + Ldy + Ldz + Lintp;\n",
    "      \n",
    "      %scattering\n",
    "      %construct the operator for the integral\n",
    "      Itemp(octidx,:) = 1;\n",
    "      Stemp = matrices_to_qtt_matrix_fn({intp_noBC{imu}, intp_noBC{jeta}, intp_noBC{kxi},...\n",
    "        kron(Itemp,intgmat), sigs},tt_tol);\n",
    "\n",
    "      %fission\n",
    "      Ftemp = matrices_to_qtt_matrix_fn({intp_noBC{imu}, intp_noBC{jeta}, intp_noBC{kxi},...\n",
    "        kron(Itemp,intgmat), nusigf},tt_tol);\n",
    "\n",
    "      %accumulate\n",
    "      if ~isa(ttH,'tt_matrix')\n",
    "        ttH = Htemp;\n",
    "        ttS = Stemp;\n",
    "        ttF = Ftemp;\n",
    "      else\n",
    "        ttH = ttH + Htemp;\n",
    "        ttS = ttS + Stemp;\n",
    "        ttF = ttF + Ftemp;\n",
    "      end\n",
    "    end\n",
    "  end\n",
    "end\n",
    "\n",
    "%% Rounding operators\n",
    "ttH = round(ttH, tt_tol);\n",
    "ttS = round(ttS, tt_tol);\n",
    "ttF = round(ttF, tt_tol);\n",
    "%% solve eigenvalue in tt\n",
    "niter = 100;\n",
    "mv_nswp = 20;\n",
    "amen_solve_nswp = 10;\n",
    "kickrank = 2;\n",
    "params = struct('niter',niter,'epsi',fixed_point_tol,'tt_tol',tt_tol);\n",
    "mv_opts = {'verb',0,'nswp',mv_nswp};\n",
    "amen_solve_opts = {'verb',0,'nswp', amen_solve_nswp,'kickrank',kickrank,...\n",
    "  'trunc_norm','fro','rmax', 120, 'x0',0};\n",
    "\n",
    "[ktt, ttPsi1, Itertime, convrate,lambda] = ...\n",
    "  tt_fixed_point_eig_solve(ttH, ttS, ttF, params, mv_opts, amen_solve_opts); \n",
    "%% PRINT THE RESULTS\n",
    "true_k = 1.02758273;\n",
    "fprintf('eigenvalue k = %.10f \\n', ktt)\n",
    "fprintf('eigenvalue errors = %.5e \\n', norm(ktt-true_k));\n",
    "fprintf('compression ratio of H = %.5e \\n', compress_ratio_tt(ttH));\n",
    "fprintf('compression ratio of S = %.5e \\n', compress_ratio_tt(ttS));\n",
    "fprintf('compression ratio of F = %.5e \\n', compress_ratio_tt(ttF));\n",
    "fprintf('Elapsed time = %.2f seconds \\n',sum(Itertime))\n",
    "\n",
    "%%\n",
    "% filename = sprintf('./Results/keffective_darwin_%d.mat',n);\n",
    "% save(filename, ...\n",
    "%   'ktt','ttPsi1','ttH','ttS','ttF','Itertime','true_k','params','mv_opts',...\n",
    "%   'amen_solve_opts','convrate','lambda');"
   ]
  },
  {
   "cell_type": "code",
   "execution_count": null,
   "id": "765a697b-368b-4554-a6f6-3e41a5547ce4",
   "metadata": {},
   "outputs": [],
   "source": []
  }
 ],
 "metadata": {
  "kernelspec": {
   "display_name": "MATLAB Kernel",
   "language": "matlab",
   "name": "jupyter_matlab_kernel"
  },
  "language_info": {
   "file_extension": ".m",
   "mimetype": "text/x-matlab",
   "name": "matlab"
  }
 },
 "nbformat": 4,
 "nbformat_minor": 5
}
