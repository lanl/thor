{
 "cells": [
  {
   "cell_type": "code",
   "execution_count": 1,
   "metadata": {},
   "outputs": [],
   "source": [
    "NEW_VERSION_NUMBER = \"0.0.39\"\n",
    "\n",
    "update_locations = {\n",
    "    \"CITATION.cff\": {'match':'version: ', 'type':'float'},\n",
    "    \"setup.py\": {'match':'__version__ = ', 'type':'str'},\n",
    "    \"pyproject.toml\": {'match':'version = ', 'type':'str'},\n",
    "    \"TELF/version.py\": {'match':'__version__ = ', 'type':'str'},\n",
    "    \"docs/source/conf.py\": {'match':'release = ', 'type':'str'},\n",
    "    # \"docs/source/index.rst\": {'match':'release = ', 'type':'str'},\n",
    "}"
   ]
  },
  {
   "cell_type": "code",
   "execution_count": 2,
   "metadata": {},
   "outputs": [],
   "source": [
    "import os\n",
    "\n",
    "def update_version_in_files(root_dir, update_locations, new_version_number):\n",
    "    \"\"\"\n",
    "    Update the version number in the specified files.\n",
    "\n",
    "    Parameters:\n",
    "        root_dir (str): Root directory to start looking for files.\n",
    "        update_locations (dict): Dictionary containing file paths, match strings, and type specifiers.\n",
    "        new_version_number (str): New version number to update to.\n",
    "    \"\"\"\n",
    "    for file_path, settings in update_locations.items():\n",
    "        full_path = os.path.join(root_dir, file_path)\n",
    "\n",
    "        if not os.path.exists(full_path):\n",
    "            print(f\"File not found: {full_path}\")\n",
    "            continue\n",
    "\n",
    "        match_string = settings['match']\n",
    "        type_specifier = settings['type']\n",
    "\n",
    "        try:\n",
    "            with open(full_path, 'r') as file:\n",
    "                lines = file.readlines()\n",
    "\n",
    "            updated_lines = []\n",
    "            for line in lines:\n",
    "                if match_string in line:\n",
    "                    if type_specifier == 'str':\n",
    "                        updated_line = f\"{match_string}\\\"{new_version_number}\\\"\\n\"\n",
    "                    elif type_specifier == 'float':\n",
    "                        updated_line = f\"{match_string}{new_version_number}\\n\"\n",
    "                    else:\n",
    "                        raise ValueError(f\"Unsupported type specifier: {type_specifier}\")\n",
    "\n",
    "                    updated_lines.append(updated_line)\n",
    "                else:\n",
    "                    updated_lines.append(line)\n",
    "\n",
    "            with open(full_path, 'w') as file:\n",
    "                file.writelines(updated_lines)\n",
    "\n",
    "            print(f\"Updated version in: {full_path}\")\n",
    "\n",
    "        except Exception as e:\n",
    "            print(f\"Error updating file {full_path}: {e}\")"
   ]
  },
  {
   "cell_type": "code",
   "execution_count": 3,
   "metadata": {},
   "outputs": [
    {
     "name": "stdout",
     "output_type": "stream",
     "text": [
      "Updated version in: ../CITATION.cff\n",
      "Updated version in: ../setup.py\n",
      "Updated version in: ../pyproject.toml\n",
      "Updated version in: ../TELF/version.py\n",
      "Updated version in: ../docs/source/conf.py\n"
     ]
    }
   ],
   "source": [
    "root_directory = \"..\"   \n",
    "update_version_in_files(root_directory, update_locations, NEW_VERSION_NUMBER)"
   ]
  },
  {
   "cell_type": "code",
   "execution_count": null,
   "metadata": {},
   "outputs": [],
   "source": []
  }
 ],
 "metadata": {
  "kernelspec": {
   "display_name": "oct2024",
   "language": "python",
   "name": "python3"
  },
  "language_info": {
   "codemirror_mode": {
    "name": "ipython",
    "version": 3
   },
   "file_extension": ".py",
   "mimetype": "text/x-python",
   "name": "python",
   "nbconvert_exporter": "python",
   "pygments_lexer": "ipython3",
   "version": "3.11.10"
  }
 },
 "nbformat": 4,
 "nbformat_minor": 2
}
