{
 "cells": [
  {
   "cell_type": "markdown",
   "metadata": {},
   "source": [
    "## Tutorial to Run MATLAB on Jupyter Notebooks:\n",
    "\n",
    "1. **First create a Python environment:**\n",
    "    ```shell\n",
    "    conda create --name MATLABENV python=3.11.10\n",
    "    ```\n",
    "2. **Then follow one of the tutorials below to setup a MATLAB kernel for the Jupyter Notebook:**\n",
    "   - Run MATLAB in Jupyter Notebooks Using VS Code: https://github.com/mathworks/jupyter-matlab-proxy/blob/main/install_guides/vscode/README.md\n",
    "   - Jupyer and Jupyter Lab: https://github.com/mathworks/jupyter-matlab-proxy?tab=readme-ov-file#run-matlab-code-in-a-jupyter-notebook"
   ]
  },
  {
   "cell_type": "markdown",
   "metadata": {},
   "source": [
    "# H-Convergence Example"
   ]
  },
  {
   "cell_type": "code",
   "execution_count": 1,
   "metadata": {},
   "outputs": [
    {
     "name": "stderr",
     "output_type": "stream",
     "text": [
      "Error connecting to MATLAB. Check the status of MATLAB by clicking the \"Open MATLAB\" button. Retry after ensuring MATLAB is running successfully"
     ]
    }
   ],
   "source": [
    "ver"
   ]
  },
  {
   "cell_type": "code",
   "execution_count": 1,
   "metadata": {},
   "outputs": [],
   "source": [
    "addpath('../../matlab/NeutronTransport2D/')"
   ]
  },
  {
   "cell_type": "code",
   "execution_count": 2,
   "metadata": {},
   "outputs": [
    {
     "name": "stdout",
     "output_type": "stream",
     "text": [
      "    26\n",
      "\n"
     ]
    }
   ],
   "source": [
    "result = test_notebook(5);\n",
    "disp(result)"
   ]
  },
  {
   "cell_type": "code",
   "execution_count": 3,
   "metadata": {},
   "outputs": [
    {
     "name": "stdout",
     "output_type": "stream",
     "text": [
      "/Users/rsomasundaram/Desktop/thor/matlab/NeutronTransport2D/test_notebook.m\n"
     ]
    }
   ],
   "source": [
    "which test_notebook"
   ]
  },
  {
   "cell_type": "code",
   "execution_count": 4,
   "metadata": {},
   "outputs": [
    {
     "data": {
      "text/html": [
       "<html><body><pre>ans = '/Users/rsomasundaram/Desktop/thor/examples/HDI'</pre></body></html>"
      ],
      "text/plain": [
       "ans = '/Users/rsomasundaram/Desktop/thor/examples/HDI'"
      ]
     },
     "execution_count": 4,
     "metadata": {},
     "output_type": "execute_result"
    }
   ],
   "source": [
    "pwd"
   ]
  },
  {
   "cell_type": "code",
   "execution_count": null,
   "metadata": {},
   "outputs": [],
   "source": []
  },
  {
   "cell_type": "code",
   "execution_count": null,
   "metadata": {},
   "outputs": [],
   "source": []
  }
 ],
 "metadata": {
  "kernelspec": {
   "display_name": "MATLAB Kernel",
   "language": "matlab",
   "name": "jupyter_matlab_kernel"
  },
  "language_info": {
   "file_extension": ".m",
   "mimetype": "text/x-matlab",
   "name": "matlab"
  }
 },
 "nbformat": 4,
 "nbformat_minor": 4
}
