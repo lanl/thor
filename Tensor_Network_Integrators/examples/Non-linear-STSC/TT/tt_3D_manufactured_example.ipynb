{
 "cells": [
  {
   "cell_type": "markdown",
   "id": "acbb819b-fddb-448a-a4a1-4652d0b7bca7",
   "metadata": {},
   "source": [
    "<h1>Tensor Network Space-Time Spectral Collocation Method for Solving the Nonlinear Convection Diffusion Equation</h1>"
   ]
  },
  {
   "cell_type": "markdown",
   "id": "c28daeac-de07-45cb-9b70-4c5a2a5afc54",
   "metadata": {},
   "source": [
    "Dibyendu Adak, M. Engin Danis, Duc P. Truong, Kim Ø. Rasmussen & Boian S. Alexandrov "
   ]
  },
  {
   "cell_type": "markdown",
   "id": "be786903-c13d-422f-a789-268196dad0aa",
   "metadata": {},
   "source": [
    "http://link.springer.com/article/10.1007/s10915-025-02860-x"
   ]
  },
  {
   "cell_type": "markdown",
   "id": "f60ec403-512b-4696-ab03-a27c9acc5a35",
   "metadata": {},
   "source": [
    "This notebook corresponds to the Tensor-Train implementation of example 2 in the above paper: Manufactured Solution"
   ]
  },
  {
   "cell_type": "markdown",
   "id": "17191bd9-7e70-4e9b-9355-2a0ce26802bd",
   "metadata": {},
   "source": [
    "<h3>\n",
    "\\begin{aligned}\n",
    "u_{exact}(t,{\\textbf {x}}) = \\exp ({-0.1t})\\sin (\\pi x)\\sin (\\pi y) \\sin (\\pi z)\n",
    "\\end{aligned}\n",
    "</h3>"
   ]
  },
  {
   "cell_type": "code",
   "execution_count": 5,
   "id": "3bd2c3c8-90de-4187-8e65-d42993ab8c89",
   "metadata": {},
   "outputs": [],
   "source": [
    "addpath(genpath('../../../matlab/Linear-STSC/src/'))\n",
    "addpath(genpath('../../../matlab/Non-linear-STSC/src/'))\n",
    "addpath(genpath('../../../matlab/utils/chebfun/'))\n",
    "addpath(genpath('../../../matlab/utils/tt-toolbox/'))\n",
    "addpath(genpath('../../../matlab/utils/ttfunc/'))\n",
    "\n",
    "close all; clear;"
   ]
  },
  {
   "cell_type": "code",
   "execution_count": 6,
   "id": "198ca5c8-0177-4e70-b3f2-823cae4c7f31",
   "metadata": {},
   "outputs": [
    {
     "name": "stdout",
     "output_type": "stream",
     "text": [
      "Working on testcase ../testcases/3D_manufactured_example \n"
     ]
    },
    {
     "name": "stderr",
     "output_type": "stream",
     "text": [
      "Warning: Could not find appropriate function on path loading function handle /Users/dptruong/project/tt_space_time/nonlinear_spec_colloc/driver_3D_full_testcase_generator.m>@(t,x,y,z)exp(-0.1*t)*sin(pi*x)*sin(pi*y)*sin(pi*z)Warning: Could not find appropriate function on path loading function handle /Users/dptruong/project/tt_space_time/nonlinear_spec_colloc/driver_3D_full_testcase_generator.m>@(t,x,y,z)exp(-0.1*t)*sin(pi*x)*sin(pi*y)*sin(pi*z)Warning: Could not find appropriate function on path loading function handle /Users/dptruong/project/tt_space_time/nonlinear_spec_colloc/driver_3D_full_testcase_generator.m>@(u,t,x,y,z)a*(1+u.^2)Warning: Could not find appropriate function on path loading function handle /Users/dptruong/project/tt_space_time/nonlinear_spec_colloc/driver_3D_full_testcase_generator.m>@(u,t,x,y,z)a*2*uWarning: Could not find appropriate function on path loading function handle /Users/dptruong/project/tt_space_time/nonlinear_spec_colloc/driver_3D_full_testcase_generator.m>@(u,t,x,y,z)u-u.^3Warning: Could not find appropriate function on path loading function handle /Users/dptruong/project/tt_space_time/nonlinear_spec_colloc/driver_3D_full_testcase_generator.m>@(u,t,x,y,z)1-3*u.^2Warning: Could not find appropriate function on path loading function handle /Users/dptruong/project/tt_space_time/nonlinear_spec_colloc/driver_3D_full_testcase_generator.m>@(u,t,x,y,z)uWarning: Could not find appropriate function on path loading function handle /Users/dptruong/project/tt_space_time/nonlinear_spec_colloc/driver_3D_full_testcase_generator.m>@(u,t,x,y,z)1Warning: Could not find appropriate function on path loading function handle /Users/dptruong/project/tt_space_time/nonlinear_spec_colloc/driver_3D_full_testcase_generator.m>@(u,t,x,y,z)1Warning: Could not find appropriate function on path loading function handle /Users/dptruong/project/tt_space_time/nonlinear_spec_colloc/driver_3D_full_testcase_generator.m>@(u,t,x,y,z)1Warning: Could not find appropriate function on path loading function handle /Users/dptruong/project/tt_space_time/nonlinear_spec_colloc/driver_3D_full_testcase_generator.m>@(u,t,x,y,z)0Warning: Could not find appropriate function on path loading function handle /Users/dptruong/project/tt_space_time/nonlinear_spec_colloc/driver_3D_full_testcase_generator.m>@(u,t,x,y,z)0"
     ]
    },
    {
     "name": "stdout",
     "output_type": "stream",
     "text": [
      "************************************\n",
      "n = 8 \n",
      "\n",
      "******** Newton iter = 1 ************\n",
      "\n",
      "epsk = 1.00000e-02 \n"
     ]
    },
    {
     "name": "stderr",
     "output_type": "stream",
     "text": [
      "Warning: MEX local solver is not found, disabled"
     ]
    },
    {
     "name": "stdout",
     "output_type": "stream",
     "text": [
      "=amen_solve= sweep 1, max_dx: 1.426e+00, max_res: 1.462e+00, max_rank: 6\n",
      "=amen_solve= sweep 2, max_dx: 6.910e-02, max_res: 2.809e-02, max_rank: 9\n",
      "=amen_solve= sweep 3, max_dx: 1.803e-02, max_res: 4.984e-03, max_rank: 9\n",
      "=amen_solve= sweep 4, max_dx: 2.918e-03, max_res: 1.707e-03, max_rank: 5\n",
      "Linear Solve Time = 0.06\n",
      "apha = 5.00e-01 \n",
      "u_err = Inf,  Fu_ratio = 4.26774e-01 \n",
      "iter time = 0.27 \n",
      "\n",
      "******** Newton iter = 2 ************\n",
      "\n",
      "epsk = 1.00000e-02 \n"
     ]
    },
    {
     "name": "stderr",
     "output_type": "stream",
     "text": [
      "Warning: MEX local solver is not found, disabled"
     ]
    },
    {
     "name": "stdout",
     "output_type": "stream",
     "text": [
      "=amen_solve= sweep 1, max_dx: 9.944e+00, max_res: 9.855e+00, max_rank: 6\n",
      "=amen_solve= sweep 2, max_dx: 1.460e-01, max_res: 1.282e-01, max_rank: 10\n",
      "=amen_solve= sweep 3, max_dx: 5.783e-03, max_res: 7.020e-03, max_rank: 11\n",
      "=amen_solve= sweep 4, max_dx: 1.156e-03, max_res: 1.989e-03, max_rank: 7\n",
      "Linear Solve Time = 0.11\n",
      "apha = 1.00e+00 \n",
      "u_err = 6.71572e-01,  Fu_ratio = 1.90794e-01 \n",
      "iter time = 0.34 \n",
      "\n",
      "******** Newton iter = 3 ************\n",
      "\n",
      "epsk = 1.00000e-02 \n"
     ]
    },
    {
     "name": "stderr",
     "output_type": "stream",
     "text": [
      "Warning: MEX local solver is not found, disabled"
     ]
    },
    {
     "name": "stdout",
     "output_type": "stream",
     "text": [
      "=amen_solve= sweep 1, max_dx: 4.043e+00, max_res: 5.618e+00, max_rank: 6\n",
      "=amen_solve= sweep 2, max_dx: 1.798e-01, max_res: 1.324e-01, max_rank: 10\n",
      "=amen_solve= sweep 3, max_dx: 8.830e-03, max_res: 6.081e-03, max_rank: 12\n",
      "=amen_solve= sweep 4, max_dx: 1.053e-03, max_res: 1.650e-03, max_rank: 8\n",
      "Linear Solve Time = 0.18\n",
      "apha = 1.00e+00 \n",
      "u_err = 1.24028e-01,  Fu_ratio = 4.31836e-02 \n",
      "iter time = 0.30 \n",
      "\n",
      "******** Newton iter = 4 ************\n",
      "\n",
      "epsk = 1.00000e-02 \n"
     ]
    },
    {
     "name": "stderr",
     "output_type": "stream",
     "text": [
      "Warning: MEX local solver is not found, disabled"
     ]
    },
    {
     "name": "stdout",
     "output_type": "stream",
     "text": [
      "=amen_solve= sweep 1, max_dx: 1.560e+01, max_res: 1.651e+01, max_rank: 6\n",
      "=amen_solve= sweep 2, max_dx: 1.462e-01, max_res: 1.360e-01, max_rank: 10\n",
      "=amen_solve= sweep 3, max_dx: 6.868e-03, max_res: 8.351e-03, max_rank: 13\n",
      "=amen_solve= sweep 4, max_dx: 1.980e-03, max_res: 1.686e-03, max_rank: 9\n",
      "Linear Solve Time = 0.09\n",
      "apha = 1.00e+00 \n",
      "u_err = 3.47233e-02,  Fu_ratio = 1.24112e-02 \n",
      "iter time = 0.15 \n",
      "\n",
      "******** Newton iter = 5 ************\n",
      "\n",
      "epsk = 1.00000e-02 \n"
     ]
    },
    {
     "name": "stderr",
     "output_type": "stream",
     "text": [
      "Warning: MEX local solver is not found, disabled"
     ]
    },
    {
     "name": "stdout",
     "output_type": "stream",
     "text": [
      "=amen_solve= sweep 1, max_dx: 6.202e+01, max_res: 7.902e+01, max_rank: 6\n",
      "=amen_solve= sweep 2, max_dx: 1.706e-01, max_res: 1.395e-01, max_rank: 10\n",
      "=amen_solve= sweep 3, max_dx: 9.953e-03, max_res: 8.292e-03, max_rank: 13\n",
      "=amen_solve= sweep 4, max_dx: 1.509e-03, max_res: 1.853e-03, max_rank: 10\n",
      "Linear Solve Time = 0.05\n",
      "apha = 1.00e+00 \n",
      "u_err = 7.32939e-03,  Fu_ratio = 9.85332e-03 \n",
      "iter time = 0.10 \n",
      "\n",
      "******** Newton iter = 6 ************\n",
      "\n",
      "epsk = 7.32939e-03 \n"
     ]
    },
    {
     "name": "stderr",
     "output_type": "stream",
     "text": [
      "Warning: MEX local solver is not found, disabled"
     ]
    },
    {
     "name": "stdout",
     "output_type": "stream",
     "text": [
      "=amen_solve= sweep 1, max_dx: 1.436e+02, max_res: 1.347e+02, max_rank: 6\n",
      "=amen_solve= sweep 2, max_dx: 2.360e-01, max_res: 1.699e-01, max_rank: 10\n",
      "=amen_solve= sweep 3, max_dx: 1.321e-02, max_res: 1.007e-02, max_rank: 14\n",
      "=amen_solve= sweep 4, max_dx: 1.644e-03, max_res: 2.266e-03, max_rank: 15\n",
      "=amen_solve= sweep 5, max_dx: 6.683e-04, max_res: 8.462e-04, max_rank: 11\n",
      "Linear Solve Time = 0.10\n",
      "apha = 1.00e+00 \n",
      "u_err = 2.90566e-03,  Fu_ratio = 8.76210e-03 \n",
      "iter time = 0.15 \n",
      "\n",
      "******** Newton iter = 7 ************\n",
      "\n",
      "epsk = 2.90566e-03 \n"
     ]
    },
    {
     "name": "stderr",
     "output_type": "stream",
     "text": [
      "Warning: MEX local solver is not found, disabled"
     ]
    },
    {
     "name": "stdout",
     "output_type": "stream",
     "text": [
      "=amen_solve= sweep 1, max_dx: 8.243e+01, max_res: 8.712e+01, max_rank: 6\n",
      "=amen_solve= sweep 2, max_dx: 4.154e-01, max_res: 2.237e-01, max_rank: 10\n",
      "=amen_solve= sweep 3, max_dx: 2.740e-02, max_res: 1.500e-02, max_rank: 14\n",
      "=amen_solve= sweep 4, max_dx: 8.987e-04, max_res: 9.992e-04, max_rank: 17\n",
      "=amen_solve= sweep 5, max_dx: 3.233e-04, max_res: 4.307e-04, max_rank: 12\n",
      "Linear Solve Time = 0.07\n",
      "apha = 1.00e+00 \n",
      "u_err = 4.87095e-03,  Fu_ratio = 3.31638e-03 \n",
      "iter time = 0.13 \n",
      "\n",
      "******** Newton iter = 8 ************\n",
      "\n",
      "epsk = 2.90566e-03 \n"
     ]
    },
    {
     "name": "stderr",
     "output_type": "stream",
     "text": [
      "Warning: MEX local solver is not found, disabled"
     ]
    },
    {
     "name": "stdout",
     "output_type": "stream",
     "text": [
      "=amen_solve= sweep 1, max_dx: 4.380e+02, max_res: 4.225e+02, max_rank: 6\n",
      "=amen_solve= sweep 2, max_dx: 2.383e-01, max_res: 1.905e-01, max_rank: 10\n",
      "=amen_solve= sweep 3, max_dx: 5.013e-02, max_res: 3.438e-02, max_rank: 14\n",
      "=amen_solve= sweep 4, max_dx: 4.798e-03, max_res: 2.795e-03, max_rank: 18\n",
      "=amen_solve= sweep 5, max_dx: 7.677e-04, max_res: 5.771e-04, max_rank: 14\n",
      "Linear Solve Time = 0.08\n",
      "apha = 1.00e+00 \n",
      "u_err = 1.78921e-03,  Fu_ratio = 1.37089e-03 \n",
      "iter time = 0.15 \n",
      "\n",
      "******** Newton iter = 9 ************\n",
      "\n",
      "epsk = 1.37089e-03 \n"
     ]
    },
    {
     "name": "stderr",
     "output_type": "stream",
     "text": [
      "Warning: MEX local solver is not found, disabled"
     ]
    },
    {
     "name": "stdout",
     "output_type": "stream",
     "text": [
      "=amen_solve= sweep 1, max_dx: 6.289e+02, max_res: 6.405e+02, max_rank: 6\n",
      "=amen_solve= sweep 2, max_dx: 5.308e-01, max_res: 4.918e-01, max_rank: 10\n",
      "=amen_solve= sweep 3, max_dx: 1.324e-01, max_res: 1.261e-01, max_rank: 14\n",
      "=amen_solve= sweep 4, max_dx: 6.639e-03, max_res: 7.881e-03, max_rank: 18\n",
      "=amen_solve= sweep 5, max_dx: 4.964e-04, max_res: 6.342e-04, max_rank: 20\n",
      "=amen_solve= sweep 6, max_dx: 5.933e-05, max_res: 2.924e-04, max_rank: 16\n",
      "Linear Solve Time = 0.12\n",
      "apha = 1.00e+00 \n",
      "u_err = 2.35383e-04,  Fu_ratio = 1.32840e-03 \n",
      "iter time = 0.22 \n",
      "\n",
      "******** Newton iter = 10 ************\n",
      "\n",
      "epsk = 2.35383e-04 \n"
     ]
    },
    {
     "name": "stderr",
     "output_type": "stream",
     "text": [
      "Warning: MEX local solver is not found, disabled"
     ]
    },
    {
     "name": "stdout",
     "output_type": "stream",
     "text": [
      "=amen_solve= sweep 1, max_dx: 5.374e+02, max_res: 5.423e+02, max_rank: 6\n",
      "=amen_solve= sweep 2, max_dx: 4.358e-01, max_res: 3.407e-01, max_rank: 10\n",
      "=amen_solve= sweep 3, max_dx: 1.304e-01, max_res: 7.682e-02, max_rank: 14\n",
      "=amen_solve= sweep 4, max_dx: 2.117e-02, max_res: 1.913e-02, max_rank: 18\n",
      "=amen_solve= sweep 5, max_dx: 3.907e-04, max_res: 3.435e-04, max_rank: 22\n",
      "=amen_solve= sweep 6, max_dx: 5.832e-05, max_res: 9.934e-05, max_rank: 23\n",
      "=amen_solve= sweep 7, max_dx: 6.256e-06, max_res: 4.471e-05, max_rank: 19\n",
      "Linear Solve Time = 0.22\n",
      "apha = 1.00e+00 \n",
      "u_err = 8.51065e-04,  Fu_ratio = 2.48769e-04 \n",
      "iter time = 0.35 \n",
      "\n",
      "******** Newton iter = 11 ************\n",
      "\n",
      "epsk = 2.35383e-04 \n"
     ]
    },
    {
     "name": "stderr",
     "output_type": "stream",
     "text": [
      "Warning: MEX local solver is not found, disabled"
     ]
    },
    {
     "name": "stdout",
     "output_type": "stream",
     "text": [
      "=amen_solve= sweep 1, max_dx: 4.309e+03, max_res: 4.842e+03, max_rank: 6\n",
      "=amen_solve= sweep 2, max_dx: 5.005e-01, max_res: 4.395e-01, max_rank: 10\n",
      "=amen_solve= sweep 3, max_dx: 1.824e-01, max_res: 1.840e-01, max_rank: 14\n",
      "=amen_solve= sweep 4, max_dx: 3.059e-02, max_res: 3.663e-02, max_rank: 18\n",
      "=amen_solve= sweep 5, max_dx: 5.323e-03, max_res: 4.183e-03, max_rank: 22\n",
      "=amen_solve= sweep 6, max_dx: 4.709e-05, max_res: 5.244e-05, max_rank: 25\n",
      "=amen_solve= sweep 7, max_dx: 1.732e-05, max_res: 5.244e-05, max_rank: 21\n",
      "Linear Solve Time = 0.16\n",
      "apha = 1.00e+00 \n",
      "u_err = 1.23761e-04,  Fu_ratio = 1.91897e-04 \n",
      "iter time = 0.31 \n",
      "\n",
      "******** Newton iter = 12 ************\n",
      "\n",
      "epsk = 1.23761e-04 \n"
     ]
    },
    {
     "name": "stderr",
     "output_type": "stream",
     "text": [
      "Warning: MEX local solver is not found, disabled"
     ]
    },
    {
     "name": "stdout",
     "output_type": "stream",
     "text": [
      "=amen_solve= sweep 1, max_dx: 5.279e+03, max_res: 5.385e+03, max_rank: 6\n",
      "=amen_solve= sweep 2, max_dx: 2.672e-01, max_res: 2.529e-01, max_rank: 10\n",
      "=amen_solve= sweep 3, max_dx: 1.024e-01, max_res: 7.337e-02, max_rank: 14\n",
      "=amen_solve= sweep 4, max_dx: 2.264e-02, max_res: 2.398e-02, max_rank: 18\n",
      "=amen_solve= sweep 5, max_dx: 4.314e-03, max_res: 2.723e-03, max_rank: 22\n",
      "=amen_solve= sweep 6, max_dx: 1.805e-05, max_res: 2.737e-05, max_rank: 25\n",
      "=amen_solve= sweep 7, max_dx: 7.830e-06, max_res: 2.737e-05, max_rank: 21\n",
      "Linear Solve Time = 0.15\n",
      "apha = 1.00e+00 \n",
      "u_err = 1.03599e-04,  Fu_ratio = 9.78326e-05 \n",
      "iter time = 0.34 \n",
      "\n",
      "******** Newton iter = 13 ************\n",
      "\n",
      "epsk = 9.78326e-05 \n"
     ]
    },
    {
     "name": "stderr",
     "output_type": "stream",
     "text": [
      "Warning: MEX local solver is not found, disabled"
     ]
    },
    {
     "name": "stdout",
     "output_type": "stream",
     "text": [
      "=amen_solve= sweep 1, max_dx: 1.206e+04, max_res: 1.296e+04, max_rank: 6\n",
      "=amen_solve= sweep 2, max_dx: 2.516e-01, max_res: 2.511e-01, max_rank: 10\n",
      "=amen_solve= sweep 3, max_dx: 7.610e-02, max_res: 6.529e-02, max_rank: 14\n",
      "=amen_solve= sweep 4, max_dx: 3.034e-02, max_res: 2.609e-02, max_rank: 18\n",
      "=amen_solve= sweep 5, max_dx: 7.652e-03, max_res: 7.718e-03, max_rank: 22\n",
      "=amen_solve= sweep 6, max_dx: 7.772e-06, max_res: 1.905e-05, max_rank: 25\n",
      "=amen_solve= sweep 7, max_dx: 7.532e-06, max_res: 1.862e-05, max_rank: 21\n",
      "Linear Solve Time = 0.20\n",
      "apha = 1.00e+00 \n",
      "u_err = 2.01504e-05,  Fu_ratio = 9.45765e-05 \n",
      "iter time = 0.38 \n",
      "\n",
      "******** Newton iter = 14 ************\n",
      "\n",
      "epsk = 2.01504e-05 \n"
     ]
    },
    {
     "name": "stderr",
     "output_type": "stream",
     "text": [
      "Warning: MEX local solver is not found, disabled"
     ]
    },
    {
     "name": "stdout",
     "output_type": "stream",
     "text": [
      "=amen_solve= sweep 1, max_dx: 1.544e+04, max_res: 1.639e+04, max_rank: 6\n",
      "=amen_solve= sweep 2, max_dx: 3.495e-01, max_res: 3.090e-01, max_rank: 10\n",
      "=amen_solve= sweep 3, max_dx: 5.560e-02, max_res: 4.037e-02, max_rank: 14\n",
      "=amen_solve= sweep 4, max_dx: 8.773e-03, max_res: 7.040e-03, max_rank: 18\n",
      "=amen_solve= sweep 5, max_dx: 2.223e-03, max_res: 2.154e-03, max_rank: 22\n",
      "=amen_solve= sweep 6, max_dx: 1.342e-06, max_res: 4.874e-06, max_rank: 25\n",
      "=amen_solve= sweep 7, max_dx: 1.541e-06, max_res: 4.701e-06, max_rank: 21\n",
      "Linear Solve Time = 0.20\n",
      "apha = 1.00e+00 \n",
      "u_err = 5.90065e-05,  Fu_ratio = 1.98418e-05 \n",
      "iter time = 0.44 \n",
      "\n",
      "******** Newton iter = 15 ************\n",
      "\n",
      "epsk = 1.98418e-05 \n"
     ]
    },
    {
     "name": "stderr",
     "output_type": "stream",
     "text": [
      "Warning: MEX local solver is not found, disabled"
     ]
    },
    {
     "name": "stdout",
     "output_type": "stream",
     "text": [
      "=amen_solve= sweep 1, max_dx: 3.735e+04, max_res: 3.297e+04, max_rank: 6\n",
      "=amen_solve= sweep 2, max_dx: 3.499e-01, max_res: 2.759e-01, max_rank: 10\n",
      "=amen_solve= sweep 3, max_dx: 1.136e-01, max_res: 1.041e-01, max_rank: 14\n",
      "=amen_solve= sweep 4, max_dx: 5.590e-02, max_res: 5.281e-02, max_rank: 18\n",
      "=amen_solve= sweep 5, max_dx: 1.045e-02, max_res: 1.066e-02, max_rank: 22\n",
      "=amen_solve= sweep 6, max_dx: 2.340e-06, max_res: 4.736e-06, max_rank: 25\n",
      "=amen_solve= sweep 7, max_dx: 1.585e-06, max_res: 4.579e-06, max_rank: 21\n",
      "Linear Solve Time = 0.23\n",
      "apha = 1.00e+00 \n",
      "u_err = 9.40630e-06,  Fu_ratio = 1.60239e-05 \n",
      "iter time = 0.54 \n",
      "\n",
      "******** Newton iter = 16 ************\n",
      "\n",
      "epsk = 9.40630e-06 \n"
     ]
    },
    {
     "name": "stderr",
     "output_type": "stream",
     "text": [
      "Warning: MEX local solver is not found, disabled"
     ]
    },
    {
     "name": "stdout",
     "output_type": "stream",
     "text": [
      "=amen_solve= sweep 1, max_dx: 1.548e+05, max_res: 1.638e+05, max_rank: 6\n",
      "=amen_solve= sweep 2, max_dx: 4.655e-01, max_res: 2.981e-01, max_rank: 10\n",
      "=amen_solve= sweep 3, max_dx: 1.029e-01, max_res: 6.813e-02, max_rank: 14\n",
      "=amen_solve= sweep 4, max_dx: 2.297e-02, max_res: 1.765e-02, max_rank: 18\n",
      "=amen_solve= sweep 5, max_dx: 5.606e-03, max_res: 4.073e-03, max_rank: 22\n",
      "=amen_solve= sweep 6, max_dx: 1.095e-06, max_res: 2.136e-06, max_rank: 25\n",
      "=amen_solve= sweep 7, max_dx: 6.670e-07, max_res: 2.058e-06, max_rank: 21\n",
      "Linear Solve Time = 0.40\n",
      "apha = 1.00e+00 \n",
      "u_err = 6.50703e-06,  Fu_ratio = 8.20542e-06 \n",
      "iter time = 0.69 \n",
      "\n",
      "******** Newton iter = 17 ************\n",
      "\n",
      "epsk = 6.50703e-06 \n"
     ]
    },
    {
     "name": "stderr",
     "output_type": "stream",
     "text": [
      "Warning: MEX local solver is not found, disabled"
     ]
    },
    {
     "name": "stdout",
     "output_type": "stream",
     "text": [
      "=amen_solve= sweep 1, max_dx: 1.216e+05, max_res: 1.138e+05, max_rank: 6\n",
      "=amen_solve= sweep 2, max_dx: 3.828e-01, max_res: 2.829e-01, max_rank: 10\n",
      "=amen_solve= sweep 3, max_dx: 7.703e-02, max_res: 5.456e-02, max_rank: 14\n",
      "=amen_solve= sweep 4, max_dx: 1.351e-02, max_res: 9.739e-03, max_rank: 18\n",
      "=amen_solve= sweep 5, max_dx: 1.852e-03, max_res: 1.403e-03, max_rank: 22\n",
      "=amen_solve= sweep 6, max_dx: 1.075e-06, max_res: 1.524e-06, max_rank: 25\n",
      "=amen_solve= sweep 7, max_dx: 7.739e-07, max_res: 1.524e-06, max_rank: 21\n",
      "Linear Solve Time = 0.25\n",
      "apha = 1.00e+00 \n",
      "u_err = 4.02603e-06,  Fu_ratio = 4.03254e-06 \n",
      "iter time = 0.61 \n",
      "\n",
      "******** Newton iter = 18 ************\n",
      "\n",
      "epsk = 4.02603e-06 \n"
     ]
    },
    {
     "name": "stderr",
     "output_type": "stream",
     "text": [
      "Warning: MEX local solver is not found, disabled"
     ]
    },
    {
     "name": "stdout",
     "output_type": "stream",
     "text": [
      "=amen_solve= sweep 1, max_dx: 2.289e+05, max_res: 1.894e+05, max_rank: 6\n",
      "=amen_solve= sweep 2, max_dx: 4.025e-01, max_res: 3.807e-01, max_rank: 10\n",
      "=amen_solve= sweep 3, max_dx: 7.842e-02, max_res: 6.456e-02, max_rank: 14\n",
      "=amen_solve= sweep 4, max_dx: 1.102e-02, max_res: 8.433e-03, max_rank: 18\n",
      "=amen_solve= sweep 5, max_dx: 1.351e-03, max_res: 9.544e-04, max_rank: 22\n",
      "=amen_solve= sweep 6, max_dx: 5.576e-07, max_res: 7.875e-07, max_rank: 25\n",
      "=amen_solve= sweep 7, max_dx: 2.763e-07, max_res: 7.483e-07, max_rank: 21\n",
      "Linear Solve Time = 0.29\n",
      "apha = 1.00e+00 \n",
      "u_err = 5.52523e-07,  Fu_ratio = 3.99301e-06 \n",
      "iter time = 0.68 \n",
      "Solution Error between TT and matrix= 7.97e-02 \n",
      "Newton Iter = 18 \n",
      "Elapsed time of tt = 6.37 seconds \n",
      "************************************\n",
      "n = 10 \n",
      "\n",
      "******** Newton iter = 1 ************\n",
      "\n",
      "epsk = 1.00000e-02 \n"
     ]
    },
    {
     "name": "stderr",
     "output_type": "stream",
     "text": [
      "Warning: MEX local solver is not found, disabled"
     ]
    },
    {
     "name": "stdout",
     "output_type": "stream",
     "text": [
      "=amen_solve= sweep 1, max_dx: 3.690e+00, max_res: 5.788e+00, max_rank: 6\n",
      "=amen_solve= sweep 2, max_dx: 1.505e-02, max_res: 2.316e-02, max_rank: 10\n",
      "=amen_solve= sweep 3, max_dx: 2.145e-03, max_res: 4.692e-03, max_rank: 10\n",
      "=amen_solve= sweep 4, max_dx: 3.308e-03, max_res: 2.139e-03, max_rank: 6\n",
      "Linear Solve Time = 0.07\n",
      "apha = 5.00e-01 \n",
      "u_err = Inf,  Fu_ratio = 3.64011e-01 \n",
      "iter time = 0.28 \n",
      "\n",
      "******** Newton iter = 2 ************\n",
      "\n",
      "epsk = 1.00000e-02 \n"
     ]
    },
    {
     "name": "stderr",
     "output_type": "stream",
     "text": [
      "Warning: MEX local solver is not found, disabled"
     ]
    },
    {
     "name": "stdout",
     "output_type": "stream",
     "text": [
      "=amen_solve= sweep 1, max_dx: 6.295e+00, max_res: 7.779e+00, max_rank: 6\n",
      "=amen_solve= sweep 2, max_dx: 6.558e-02, max_res: 8.651e-02, max_rank: 10\n",
      "=amen_solve= sweep 3, max_dx: 3.250e-03, max_res: 5.442e-03, max_rank: 10\n",
      "=amen_solve= sweep 4, max_dx: 1.572e-03, max_res: 2.212e-03, max_rank: 6\n",
      "Linear Solve Time = 0.25\n",
      "apha = 1.00e+00 \n",
      "u_err = 3.93699e-01,  Fu_ratio = 1.10420e-01 \n",
      "iter time = 0.39 \n",
      "\n",
      "******** Newton iter = 3 ************\n",
      "\n",
      "epsk = 1.00000e-02 \n"
     ]
    },
    {
     "name": "stderr",
     "output_type": "stream",
     "text": [
      "Warning: MEX local solver is not found, disabled"
     ]
    },
    {
     "name": "stdout",
     "output_type": "stream",
     "text": [
      "=amen_solve= sweep 1, max_dx: 3.881e+01, max_res: 5.514e+01, max_rank: 6\n",
      "=amen_solve= sweep 2, max_dx: 6.668e-02, max_res: 8.488e-02, max_rank: 10\n",
      "=amen_solve= sweep 3, max_dx: 6.305e-03, max_res: 5.699e-03, max_rank: 11\n",
      "=amen_solve= sweep 4, max_dx: 0.000e+00, max_res: 1.834e-03, max_rank: 7\n",
      "Linear Solve Time = 0.21\n",
      "apha = 1.00e+00 \n",
      "u_err = 9.89016e-02,  Fu_ratio = 2.42442e-02 \n",
      "iter time = 0.28 \n",
      "\n",
      "******** Newton iter = 4 ************\n",
      "\n",
      "epsk = 1.00000e-02 \n"
     ]
    },
    {
     "name": "stderr",
     "output_type": "stream",
     "text": [
      "Warning: MEX local solver is not found, disabled"
     ]
    },
    {
     "name": "stdout",
     "output_type": "stream",
     "text": [
      "=amen_solve= sweep 1, max_dx: 1.026e+02, max_res: 1.236e+02, max_rank: 6\n",
      "=amen_solve= sweep 2, max_dx: 5.866e-02, max_res: 7.698e-02, max_rank: 10\n",
      "=amen_solve= sweep 3, max_dx: 2.890e-03, max_res: 6.215e-03, max_rank: 12\n",
      "=amen_solve= sweep 4, max_dx: 1.002e-03, max_res: 2.888e-03, max_rank: 8\n",
      "Linear Solve Time = 0.07\n",
      "apha = 1.00e+00 \n",
      "u_err = 2.69466e-02,  Fu_ratio = 5.92185e-03 \n",
      "iter time = 0.11 \n",
      "\n",
      "******** Newton iter = 5 ************\n",
      "\n",
      "epsk = 5.92185e-03 \n"
     ]
    },
    {
     "name": "stderr",
     "output_type": "stream",
     "text": [
      "Warning: MEX local solver is not found, disabled"
     ]
    },
    {
     "name": "stdout",
     "output_type": "stream",
     "text": [
      "=amen_solve= sweep 1, max_dx: 8.511e+02, max_res: 8.483e+02, max_rank: 6\n",
      "=amen_solve= sweep 2, max_dx: 7.989e-02, max_res: 1.208e-01, max_rank: 10\n",
      "=amen_solve= sweep 3, max_dx: 5.155e-03, max_res: 8.655e-03, max_rank: 13\n",
      "=amen_solve= sweep 4, max_dx: 6.674e-04, max_res: 2.671e-03, max_rank: 14\n",
      "=amen_solve= sweep 5, max_dx: 0.000e+00, max_res: 1.006e-03, max_rank: 10\n",
      "Linear Solve Time = 0.04\n",
      "apha = 1.00e+00 \n",
      "u_err = 8.37239e-03,  Fu_ratio = 2.22217e-03 \n",
      "iter time = 0.09 \n",
      "\n",
      "******** Newton iter = 6 ************\n",
      "\n",
      "epsk = 2.22217e-03 \n"
     ]
    },
    {
     "name": "stderr",
     "output_type": "stream",
     "text": [
      "Warning: MEX local solver is not found, disabled"
     ]
    },
    {
     "name": "stdout",
     "output_type": "stream",
     "text": [
      "=amen_solve= sweep 1, max_dx: 3.260e+03, max_res: 3.277e+03, max_rank: 6\n",
      "=amen_solve= sweep 2, max_dx: 2.915e-01, max_res: 1.961e-01, max_rank: 10\n",
      "=amen_solve= sweep 3, max_dx: 4.365e-02, max_res: 2.442e-02, max_rank: 14\n",
      "=amen_solve= sweep 4, max_dx: 4.768e-03, max_res: 2.520e-03, max_rank: 18\n",
      "=amen_solve= sweep 5, max_dx: 3.978e-04, max_res: 7.864e-04, max_rank: 19\n",
      "=amen_solve= sweep 6, max_dx: 0.000e+00, max_res: 5.239e-04, max_rank: 15\n",
      "Linear Solve Time = 0.05\n",
      "apha = 1.00e+00 \n",
      "u_err = 7.86865e-04,  Fu_ratio = 1.81860e-03 \n",
      "iter time = 0.09 \n",
      "\n",
      "******** Newton iter = 7 ************\n",
      "\n",
      "epsk = 7.86865e-04 \n"
     ]
    },
    {
     "name": "stderr",
     "output_type": "stream",
     "text": [
      "Warning: MEX local solver is not found, disabled"
     ]
    },
    {
     "name": "stdout",
     "output_type": "stream",
     "text": [
      "=amen_solve= sweep 1, max_dx: 1.212e+03, max_res: 1.229e+03, max_rank: 6\n",
      "=amen_solve= sweep 2, max_dx: 3.114e-01, max_res: 2.100e-01, max_rank: 10\n",
      "=amen_solve= sweep 3, max_dx: 3.879e-02, max_res: 2.353e-02, max_rank: 14\n",
      "=amen_solve= sweep 4, max_dx: 3.465e-03, max_res: 2.137e-03, max_rank: 18\n",
      "=amen_solve= sweep 5, max_dx: 5.625e-04, max_res: 5.339e-04, max_rank: 21\n",
      "=amen_solve= sweep 6, max_dx: 1.026e-04, max_res: 2.057e-04, max_rank: 18\n",
      "Linear Solve Time = 0.06\n",
      "apha = 1.00e+00 \n",
      "u_err = 1.04248e-03,  Fu_ratio = 1.19430e-03 \n",
      "iter time = 0.11 \n",
      "\n",
      "******** Newton iter = 8 ************\n",
      "\n",
      "epsk = 7.86865e-04 \n"
     ]
    },
    {
     "name": "stderr",
     "output_type": "stream",
     "text": [
      "Warning: MEX local solver is not found, disabled"
     ]
    },
    {
     "name": "stdout",
     "output_type": "stream",
     "text": [
      "=amen_solve= sweep 1, max_dx: 2.678e+03, max_res: 4.143e+03, max_rank: 6\n",
      "=amen_solve= sweep 2, max_dx: 2.961e-01, max_res: 1.886e-01, max_rank: 10\n",
      "=amen_solve= sweep 3, max_dx: 8.122e-02, max_res: 4.197e-02, max_rank: 14\n",
      "=amen_solve= sweep 4, max_dx: 1.120e-02, max_res: 5.561e-03, max_rank: 18\n",
      "=amen_solve= sweep 5, max_dx: 2.466e-03, max_res: 9.767e-04, max_rank: 22\n",
      "=amen_solve= sweep 6, max_dx: 4.238e-04, max_res: 3.780e-04, max_rank: 24\n",
      "=amen_solve= sweep 7, max_dx: 0.000e+00, max_res: 1.916e-04, max_rank: 20\n",
      "Linear Solve Time = 0.10\n",
      "apha = 1.00e+00 \n",
      "u_err = 1.71146e-04,  Fu_ratio = 1.18500e-03 \n",
      "iter time = 0.17 \n",
      "\n",
      "******** Newton iter = 9 ************\n",
      "\n",
      "epsk = 1.71146e-04 \n"
     ]
    },
    {
     "name": "stderr",
     "output_type": "stream",
     "text": [
      "Warning: MEX local solver is not found, disabled"
     ]
    },
    {
     "name": "stdout",
     "output_type": "stream",
     "text": [
      "=amen_solve= sweep 1, max_dx: 2.269e+03, max_res: 3.447e+03, max_rank: 6\n",
      "=amen_solve= sweep 2, max_dx: 3.074e-01, max_res: 1.775e-01, max_rank: 10\n",
      "=amen_solve= sweep 3, max_dx: 7.568e-02, max_res: 3.178e-02, max_rank: 14\n",
      "=amen_solve= sweep 4, max_dx: 1.188e-02, max_res: 4.627e-03, max_rank: 18\n",
      "=amen_solve= sweep 5, max_dx: 2.551e-03, max_res: 8.469e-04, max_rank: 22\n",
      "=amen_solve= sweep 6, max_dx: 4.981e-04, max_res: 2.270e-04, max_rank: 26\n",
      "=amen_solve= sweep 7, max_dx: 1.507e-04, max_res: 1.066e-04, max_rank: 28\n",
      "=amen_solve= sweep 8, max_dx: 0.000e+00, max_res: 4.158e-05, max_rank: 24\n",
      "Linear Solve Time = 0.14\n",
      "apha = 1.00e+00 \n",
      "u_err = 4.85012e-04,  Fu_ratio = 2.77127e-04 \n",
      "iter time = 0.26 \n",
      "\n",
      "******** Newton iter = 10 ************\n",
      "\n",
      "epsk = 1.71146e-04 \n"
     ]
    },
    {
     "name": "stderr",
     "output_type": "stream",
     "text": [
      "Warning: MEX local solver is not found, disabled"
     ]
    },
    {
     "name": "stdout",
     "output_type": "stream",
     "text": [
      "=amen_solve= sweep 1, max_dx: 5.335e+03, max_res: 5.888e+03, max_rank: 6\n",
      "=amen_solve= sweep 2, max_dx: 5.282e-01, max_res: 3.868e-01, max_rank: 10\n",
      "=amen_solve= sweep 3, max_dx: 2.221e-01, max_res: 8.920e-02, max_rank: 14\n",
      "=amen_solve= sweep 4, max_dx: 7.667e-02, max_res: 3.234e-02, max_rank: 18\n",
      "=amen_solve= sweep 5, max_dx: 1.553e-02, max_res: 5.711e-03, max_rank: 22\n",
      "=amen_solve= sweep 6, max_dx: 6.401e-03, max_res: 2.045e-03, max_rank: 26\n",
      "=amen_solve= sweep 7, max_dx: 1.068e-03, max_res: 3.463e-04, max_rank: 30\n",
      "=amen_solve= sweep 8, max_dx: 9.156e-05, max_res: 8.939e-05, max_rank: 33\n",
      "=amen_solve= sweep 9, max_dx: 0.000e+00, max_res: 4.119e-05, max_rank: 29\n",
      "Linear Solve Time = 0.27\n",
      "apha = 1.00e+00 \n",
      "u_err = 6.60703e-05,  Fu_ratio = 2.40738e-04 \n",
      "iter time = 0.41 \n",
      "\n",
      "******** Newton iter = 11 ************\n",
      "\n",
      "epsk = 6.60703e-05 \n"
     ]
    },
    {
     "name": "stderr",
     "output_type": "stream",
     "text": [
      "Warning: MEX local solver is not found, disabled"
     ]
    },
    {
     "name": "stdout",
     "output_type": "stream",
     "text": [
      "=amen_solve= sweep 1, max_dx: 5.607e+03, max_res: 6.421e+03, max_rank: 6\n",
      "=amen_solve= sweep 2, max_dx: 4.178e-01, max_res: 3.198e-01, max_rank: 10\n",
      "=amen_solve= sweep 3, max_dx: 2.558e-01, max_res: 1.015e-01, max_rank: 14\n",
      "=amen_solve= sweep 4, max_dx: 7.356e-02, max_res: 4.433e-02, max_rank: 18\n",
      "=amen_solve= sweep 5, max_dx: 1.530e-02, max_res: 5.591e-03, max_rank: 22\n",
      "=amen_solve= sweep 6, max_dx: 4.080e-03, max_res: 1.390e-03, max_rank: 26\n",
      "=amen_solve= sweep 7, max_dx: 8.563e-04, max_res: 4.007e-04, max_rank: 30\n",
      "=amen_solve= sweep 8, max_dx: 1.041e-04, max_res: 6.585e-05, max_rank: 34\n",
      "=amen_solve= sweep 9, max_dx: 4.678e-05, max_res: 2.728e-05, max_rank: 32\n",
      "Linear Solve Time = 0.38\n",
      "apha = 1.00e+00 \n",
      "u_err = 1.08126e-04,  Fu_ratio = 1.04432e-04 \n",
      "iter time = 0.57 \n",
      "\n",
      "******** Newton iter = 12 ************\n",
      "\n",
      "epsk = 6.60703e-05 \n"
     ]
    },
    {
     "name": "stderr",
     "output_type": "stream",
     "text": [
      "Warning: MEX local solver is not found, disabled"
     ]
    },
    {
     "name": "stdout",
     "output_type": "stream",
     "text": [
      "=amen_solve= sweep 1, max_dx: 1.233e+04, max_res: 1.513e+04, max_rank: 6\n",
      "=amen_solve= sweep 2, max_dx: 4.115e-01, max_res: 2.748e-01, max_rank: 10\n",
      "=amen_solve= sweep 3, max_dx: 2.612e-01, max_res: 1.482e-01, max_rank: 14\n",
      "=amen_solve= sweep 4, max_dx: 8.377e-02, max_res: 5.631e-02, max_rank: 18\n",
      "=amen_solve= sweep 5, max_dx: 3.761e-02, max_res: 1.701e-02, max_rank: 22\n",
      "=amen_solve= sweep 6, max_dx: 1.784e-02, max_res: 6.408e-03, max_rank: 26\n",
      "=amen_solve= sweep 7, max_dx: 1.888e-03, max_res: 1.250e-03, max_rank: 30\n",
      "=amen_solve= sweep 8, max_dx: 4.419e-04, max_res: 1.546e-04, max_rank: 34\n",
      "=amen_solve= sweep 9, max_dx: 3.329e-05, max_res: 2.898e-05, max_rank: 37\n",
      "=amen_solve= sweep 10, max_dx: 0.000e+00, max_res: 1.539e-05, max_rank: 33\n",
      "Linear Solve Time = 0.39\n",
      "apha = 1.00e+00 \n",
      "u_err = 1.99896e-05,  Fu_ratio = 1.01864e-04 \n",
      "iter time = 0.63 \n",
      "\n",
      "******** Newton iter = 13 ************\n",
      "\n",
      "epsk = 1.99896e-05 \n"
     ]
    },
    {
     "name": "stderr",
     "output_type": "stream",
     "text": [
      "Warning: MEX local solver is not found, disabled"
     ]
    },
    {
     "name": "stdout",
     "output_type": "stream",
     "text": [
      "=amen_solve= sweep 1, max_dx: 1.343e+04, max_res: 1.434e+04, max_rank: 6\n",
      "=amen_solve= sweep 2, max_dx: 4.002e-01, max_res: 3.019e-01, max_rank: 10\n",
      "=amen_solve= sweep 3, max_dx: 2.680e-01, max_res: 1.097e-01, max_rank: 14\n",
      "=amen_solve= sweep 4, max_dx: 1.029e-01, max_res: 4.916e-02, max_rank: 18\n",
      "=amen_solve= sweep 5, max_dx: 3.341e-02, max_res: 1.578e-02, max_rank: 22\n",
      "=amen_solve= sweep 6, max_dx: 2.050e-02, max_res: 4.709e-03, max_rank: 26\n",
      "=amen_solve= sweep 7, max_dx: 1.606e-03, max_res: 9.316e-04, max_rank: 30\n",
      "=amen_solve= sweep 8, max_dx: 4.186e-04, max_res: 1.209e-04, max_rank: 34\n",
      "=amen_solve= sweep 9, max_dx: 2.425e-05, max_res: 1.732e-05, max_rank: 38\n",
      "=amen_solve= sweep 10, max_dx: 0.000e+00, max_res: 4.711e-06, max_rank: 35\n",
      "Linear Solve Time = 0.52\n",
      "apha = 1.00e+00 \n",
      "u_err = 4.79857e-05,  Fu_ratio = 2.40957e-05 \n",
      "iter time = 0.89 \n",
      "\n",
      "******** Newton iter = 14 ************\n",
      "\n",
      "epsk = 1.99896e-05 \n"
     ]
    },
    {
     "name": "stderr",
     "output_type": "stream",
     "text": [
      "Warning: MEX local solver is not found, disabled"
     ]
    },
    {
     "name": "stdout",
     "output_type": "stream",
     "text": [
      "=amen_solve= sweep 1, max_dx: 7.122e+04, max_res: 7.858e+04, max_rank: 6\n",
      "=amen_solve= sweep 2, max_dx: 5.304e-01, max_res: 3.895e-01, max_rank: 10\n",
      "=amen_solve= sweep 3, max_dx: 3.089e-01, max_res: 2.127e-01, max_rank: 14\n",
      "=amen_solve= sweep 4, max_dx: 1.880e-01, max_res: 1.163e-01, max_rank: 18\n",
      "=amen_solve= sweep 5, max_dx: 9.144e-02, max_res: 5.294e-02, max_rank: 22\n",
      "=amen_solve= sweep 6, max_dx: 4.438e-02, max_res: 2.075e-02, max_rank: 26\n",
      "=amen_solve= sweep 7, max_dx: 8.243e-03, max_res: 4.687e-03, max_rank: 30\n",
      "=amen_solve= sweep 8, max_dx: 1.455e-03, max_res: 8.220e-04, max_rank: 34\n",
      "=amen_solve= sweep 9, max_dx: 8.071e-04, max_res: 2.392e-04, max_rank: 38\n",
      "=amen_solve= sweep 10, max_dx: 3.145e-06, max_res: 5.019e-06, max_rank: 40\n",
      "=amen_solve= sweep 11, max_dx: 0.000e+00, max_res: 4.225e-06, max_rank: 36\n",
      "Linear Solve Time = 0.80\n",
      "apha = 1.00e+00 \n",
      "u_err = 9.66522e-06,  Fu_ratio = 2.16665e-05 \n",
      "iter time = 1.23 \n",
      "\n",
      "******** Newton iter = 15 ************\n",
      "\n",
      "epsk = 9.66522e-06 \n"
     ]
    },
    {
     "name": "stderr",
     "output_type": "stream",
     "text": [
      "Warning: MEX local solver is not found, disabled"
     ]
    },
    {
     "name": "stdout",
     "output_type": "stream",
     "text": [
      "=amen_solve= sweep 1, max_dx: 8.388e+04, max_res: 8.227e+04, max_rank: 6\n",
      "=amen_solve= sweep 2, max_dx: 5.160e-01, max_res: 3.051e-01, max_rank: 10\n",
      "=amen_solve= sweep 3, max_dx: 2.821e-01, max_res: 1.449e-01, max_rank: 14\n",
      "=amen_solve= sweep 4, max_dx: 1.135e-01, max_res: 6.355e-02, max_rank: 18\n",
      "=amen_solve= sweep 5, max_dx: 4.657e-02, max_res: 2.411e-02, max_rank: 22\n",
      "=amen_solve= sweep 6, max_dx: 3.381e-02, max_res: 1.452e-02, max_rank: 26\n",
      "=amen_solve= sweep 7, max_dx: 7.084e-03, max_res: 3.993e-03, max_rank: 30\n",
      "=amen_solve= sweep 8, max_dx: 1.926e-03, max_res: 9.029e-04, max_rank: 34\n",
      "=amen_solve= sweep 9, max_dx: 7.778e-04, max_res: 3.159e-04, max_rank: 38\n",
      "=amen_solve= sweep 10, max_dx: 0.000e+00, max_res: 2.213e-06, max_rank: 40\n",
      "=amen_solve= sweep 11, max_dx: 0.000e+00, max_res: 2.077e-06, max_rank: 36\n",
      "Linear Solve Time = 0.81\n",
      "apha = 1.00e+00 \n",
      "u_err = 1.08943e-05,  Fu_ratio = 8.45767e-06 \n",
      "iter time = 1.27 \n",
      "\n",
      "******** Newton iter = 16 ************\n",
      "\n",
      "epsk = 8.45767e-06 \n"
     ]
    },
    {
     "name": "stderr",
     "output_type": "stream",
     "text": [
      "Warning: MEX local solver is not found, disabled"
     ]
    },
    {
     "name": "stdout",
     "output_type": "stream",
     "text": [
      "=amen_solve= sweep 1, max_dx: 1.965e+05, max_res: 1.726e+05, max_rank: 6\n",
      "=amen_solve= sweep 2, max_dx: 4.261e-01, max_res: 3.470e-01, max_rank: 10\n",
      "=amen_solve= sweep 3, max_dx: 4.508e-01, max_res: 2.026e-01, max_rank: 14\n",
      "=amen_solve= sweep 4, max_dx: 1.815e-01, max_res: 1.231e-01, max_rank: 18\n",
      "=amen_solve= sweep 5, max_dx: 1.028e-01, max_res: 3.685e-02, max_rank: 22\n",
      "=amen_solve= sweep 6, max_dx: 2.889e-02, max_res: 1.760e-02, max_rank: 26\n",
      "=amen_solve= sweep 7, max_dx: 1.201e-02, max_res: 9.515e-03, max_rank: 30\n",
      "=amen_solve= sweep 8, max_dx: 4.182e-03, max_res: 2.124e-03, max_rank: 34\n",
      "=amen_solve= sweep 9, max_dx: 2.524e-03, max_res: 5.910e-04, max_rank: 38\n",
      "=amen_solve= sweep 10, max_dx: 1.709e-06, max_res: 2.157e-06, max_rank: 40\n",
      "=amen_solve= sweep 11, max_dx: 0.000e+00, max_res: 1.751e-06, max_rank: 36\n",
      "Linear Solve Time = 0.98\n",
      "apha = 1.00e+00 \n",
      "u_err = 1.92477e-06,  Fu_ratio = 8.33196e-06 \n",
      "iter time = 1.52 \n",
      "\n",
      "******** Newton iter = 17 ************\n",
      "\n",
      "epsk = 1.92477e-06 \n"
     ]
    },
    {
     "name": "stderr",
     "output_type": "stream",
     "text": [
      "Warning: MEX local solver is not found, disabled"
     ]
    },
    {
     "name": "stdout",
     "output_type": "stream",
     "text": [
      "=amen_solve= sweep 1, max_dx: 2.477e+05, max_res: 3.030e+05, max_rank: 6\n",
      "=amen_solve= sweep 2, max_dx: 4.808e-01, max_res: 4.300e-01, max_rank: 10\n",
      "=amen_solve= sweep 3, max_dx: 3.172e-01, max_res: 1.887e-01, max_rank: 14\n",
      "=amen_solve= sweep 4, max_dx: 1.292e-01, max_res: 6.465e-02, max_rank: 18\n",
      "=amen_solve= sweep 5, max_dx: 6.146e-02, max_res: 2.421e-02, max_rank: 22\n",
      "=amen_solve= sweep 6, max_dx: 2.055e-02, max_res: 1.133e-02, max_rank: 26\n",
      "=amen_solve= sweep 7, max_dx: 6.931e-03, max_res: 4.117e-03, max_rank: 30\n",
      "=amen_solve= sweep 8, max_dx: 2.582e-03, max_res: 1.427e-03, max_rank: 34\n",
      "=amen_solve= sweep 9, max_dx: 6.177e-04, max_res: 4.045e-04, max_rank: 38\n",
      "=amen_solve= sweep 10, max_dx: 0.000e+00, max_res: 4.483e-07, max_rank: 40\n",
      "=amen_solve= sweep 11, max_dx: 0.000e+00, max_res: 4.233e-07, max_rank: 36\n",
      "Linear Solve Time = 1.12\n",
      "apha = 1.00e+00 \n",
      "u_err = 3.95754e-06,  Fu_ratio = 2.96666e-06 \n",
      "iter time = 1.95 \n",
      "\n",
      "******** Newton iter = 18 ************\n",
      "\n",
      "epsk = 1.92477e-06 \n"
     ]
    },
    {
     "name": "stderr",
     "output_type": "stream",
     "text": [
      "Warning: MEX local solver is not found, disabled"
     ]
    },
    {
     "name": "stdout",
     "output_type": "stream",
     "text": [
      "=amen_solve= sweep 1, max_dx: 4.427e+05, max_res: 3.322e+05, max_rank: 6\n",
      "=amen_solve= sweep 2, max_dx: 5.126e-01, max_res: 3.369e-01, max_rank: 10\n",
      "=amen_solve= sweep 3, max_dx: 3.898e-01, max_res: 1.753e-01, max_rank: 14\n",
      "=amen_solve= sweep 4, max_dx: 1.529e-01, max_res: 8.433e-02, max_rank: 18\n",
      "=amen_solve= sweep 5, max_dx: 8.209e-02, max_res: 4.592e-02, max_rank: 22\n",
      "=amen_solve= sweep 6, max_dx: 5.620e-02, max_res: 2.786e-02, max_rank: 26\n",
      "=amen_solve= sweep 7, max_dx: 2.549e-02, max_res: 1.124e-02, max_rank: 30\n",
      "=amen_solve= sweep 8, max_dx: 9.228e-03, max_res: 4.178e-03, max_rank: 34\n",
      "=amen_solve= sweep 9, max_dx: 1.815e-03, max_res: 8.805e-04, max_rank: 38\n",
      "=amen_solve= sweep 10, max_dx: 0.000e+00, max_res: 4.687e-07, max_rank: 40\n",
      "=amen_solve= sweep 11, max_dx: 0.000e+00, max_res: 4.249e-07, max_rank: 36\n",
      "Linear Solve Time = 2.13\n",
      "apha = 5.00e-01 \n",
      "u_err = 4.26451e-07,  Fu_ratio = 2.94856e-06 \n",
      "iter time = 4.03 \n",
      "Solution Error between TT and matrix= 6.66e-03 \n",
      "Newton Iter = 18 \n",
      "Elapsed time of tt = "
     ]
    },
    {
     "name": "stderr",
     "output_type": "stream",
     "text": [
      "IOPub message rate exceeded.\n",
      "The Jupyter server will temporarily stop sending output\n",
      "to the client in order to avoid crashing it.\n",
      "To change this limit, set the config variable\n",
      "`--ServerApp.iopub_msg_rate_limit`.\n",
      "\n",
      "Current values:\n",
      "ServerApp.iopub_msg_rate_limit=1000.0 (msgs/sec)\n",
      "ServerApp.rate_limit_window=3.0 (secs)\n",
      "\n"
     ]
    }
   ],
   "source": [
    "testname = \"../testcases/3D_manufactured_example\";\n",
    "\n",
    "fprintf('Working on testcase %s \\n',testname);\n",
    "load(sprintf('./%s.mat',testname));\n",
    "%%\n",
    "a = -2;\n",
    "b = 2;\n",
    "tol = 1e-8;\n",
    "Newtoneps = 1e-6;\n",
    "tempname = split(testname,'/');\n",
    "savefilename = sprintf('../plot_data/tt_%s.mat', tempname(end));\n",
    "%% now the time step is the same as space step\n",
    "Ns = [8:2:10];\n",
    "R = cell(numel(Ns),1);\n",
    "for i = [1:numel(Ns)]\n",
    "  tic\n",
    "  n = Ns(i);\n",
    "  SN = n-1;\n",
    "  N1 = SN+1;\n",
    "  %%\n",
    "  fprintf('************************************\\n')\n",
    "  fprintf('n = %d \\n',n);\n",
    "  %%\n",
    "  [fgsol, NewtonIter, Ctt] = ...\n",
    "    tt_3D_full_Solver(testcase,SN,tol,Newtoneps,a,b);\n",
    "  tt_time = toc;\n",
    "  %% check the error\n",
    "  exacttt = amen_cross(Ctt, @(x) cross_fun_nD(x,testcase.exactfn),...\n",
    "    tol,'verb',0);\n",
    "  exacttt = tt_get_inner(exacttt,{2:N1,2:N1-1,2:N1-1,2:N1-1});\n",
    "\n",
    "  Err = norm(fgsol-exacttt)/norm(exacttt);\n",
    "  fprintf('Solution Error between TT and matrix= %.2e \\n',...\n",
    "    Err);\n",
    "  fprintf('Newton Iter = %d \\n', NewtonIter);\n",
    "  fprintf('Elapsed time of tt = %.2f seconds \\n', tt_time)\n",
    "\n",
    "  %% collect results\n",
    "  c.sol = fgsol;\n",
    "  c.err = Err;\n",
    "  c.time = tt_time;\n",
    "  c.NewtonIter = NewtonIter;\n",
    "  R{i,1} = c;\n",
    "\n",
    "  save(savefilename,'Ns','R','tol','testcase','Newtoneps');\n",
    "end\n",
    "\n",
    "\n"
   ]
  },
  {
   "cell_type": "code",
   "execution_count": null,
   "id": "3de80c43-a729-4d79-9c35-5e5384385580",
   "metadata": {},
   "outputs": [],
   "source": []
  }
 ],
 "metadata": {
  "kernelspec": {
   "display_name": "MATLAB Kernel",
   "language": "matlab",
   "name": "jupyter_matlab_kernel"
  },
  "language_info": {
   "file_extension": ".m",
   "mimetype": "text/x-matlab",
   "name": "matlab"
  }
 },
 "nbformat": 4,
 "nbformat_minor": 5
}
