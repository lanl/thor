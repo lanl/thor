{
 "cells": [
  {
   "cell_type": "markdown",
   "id": "8a9af6d4-5de1-4bad-a4f7-67490575b67b",
   "metadata": {},
   "source": [
    "<h1> Tensor-Train TENO Scheme for Compressible Flows\n",
    "</h1>"
   ]
  },
  {
   "cell_type": "markdown",
   "id": "cc4b3c2f-3ad3-47f3-b55a-659f7d89228f",
   "metadata": {},
   "source": [
    "Engin Danis;Duc Truong;Ismael Boureima;Oleg Korobkin;Kim Rasmussen;Boian Alexandrov"
   ]
  },
  {
   "cell_type": "markdown",
   "id": "dc87ebef-9341-4435-a091-12f9252d6bc7",
   "metadata": {},
   "source": [
    "https://doi.org/10.2514/6.2025-0304"
   ]
  },
  {
   "cell_type": "code",
   "execution_count": 1,
   "id": "5f610c3a-6fb1-40f6-8f21-ed1fdad9b95b",
   "metadata": {},
   "outputs": [],
   "source": [
    "%% Info\n",
    "% Example C   : 2D Riemann problem (Configuration 15) in full-tensor format\n",
    "% Developer   : M. Engin Danis\n",
    "% Notes       :\n",
    "% It is recommended to run this script on terminal:\n",
    "% (1) do: export TTTENOLIB=/path/of/TENO-paper\n",
    "% (2) do: matlab -nodesktop -nojvm -nosplash -nodisplay -singleCompThread -r \"try, run('ExC_config_15_FT.m'); catch err, disp(getReport(err)); end;exit;\"\n",
    "% This script writes 2d results (x, y, rho_ft, rhou_ft, rhov_ft, rhoE_ft) for each grid level under \"results\" directory, which can be used for postprocessing if needed.\n",
    "addpath(genpath('../../../../../matlab/TENO/src/ft/'))\n",
    "addpath(genpath('../../../../../matlab/TENO/src/misc/'))\n",
    "addpath(genpath('../../../../../matlab/utils/tt-toolbox/'))\n",
    "addpath(genpath('../../../../../matlab/utils/ttfunc/'))\n"
   ]
  },
  {
   "cell_type": "code",
   "execution_count": 2,
   "id": "c61edc24-b5c6-4e48-870d-4f957641e649",
   "metadata": {},
   "outputs": [
    {
     "name": "stdout",
     "output_type": "stream",
     "text": [
      "Using 1 threads\n",
      "----------------------------------------------------------------------\n",
      "Starting to solve grid level=1 with Nx=400 Ny=400 Nz=1\n",
      "----------------------------------------------------------------------\n",
      "Time Step= 0\t Time=0.00000\t dt=6.85572e-04\t max_eig=1.73e+00\n",
      "Time Step= 1\t Time=0.00069\t dt=6.85572e-04\t max_eig=1.73e+00\n",
      "Time Step= 2\t Time=0.00137\t dt=6.28857e-04\t max_eig=1.73e+00\n",
      "Time Step= 3\t Time=0.00200\t dt=0.00000e+00\t max_eig=1.73e+00\n",
      "\n",
      "\n",
      " ------ ------------\n",
      " level | CPUtime (s)\n",
      " ------ ------------\n",
      "     1 | 5.2841e+01\n",
      "\n"
     ]
    }
   ],
   "source": [
    "%% set number of grid levels \n",
    "num_lvls = 1;\n",
    " \n",
    "%% Input parameters to ftFDTenoSolver.m (Nx, Ny, Nz will be set later)\n",
    "Tfinal    = 0.2;                                   % Final Time of the simulation   \n",
    "dtOption  = 1;                                     % Time Stepping Option           \n",
    "CFL       = 0.475;                                 % CFL Number for adaptive time-stepping\n",
    "Neq       = 5;                                     % Number of equations \n",
    "N1d       = 200*(2.^linspace(1,num_lvls,num_lvls));% Number of cells in each direction\n",
    "Lx        = 1;                                     % Domain length in the x-direction \n",
    "Ly        = 1;                                     % Domain length in the y-direction \n",
    "Lz        = 1;                                     % Domain length in the z-direction \n",
    "funFlux   = @F_euler3d;                            % Function handle for flux vector computation in each direction \n",
    "funEig    = @Eig_euler3d;                          % Function handle for computing eigenvalues of flux jacobian    \n",
    "funInit   = @Q0;                                   % Function handle for initial conditions                        \n",
    "funBC     = @BC;                                   % Function handle for boundary conditions                       \n",
    "ReconChar = true;                                  % Flag to use characteristic decomposition (true or false) \n",
    "isSource  = false;                                 % Flag to use user-defined \"sourceTerm.m\" to handle source terms    \n",
    "gam       = 1.4;                                   % Ratio of specific heats (not used here, so it is left empty)\n",
    "isConsErr = false;                                 % Flag to calculate the local conservation error\n",
    "\n",
    "%% For spead measurements, make sure to use only a single thread\n",
    "maxNumCompThreads(1); \n",
    "fprintf(\"Using %d threads\\n\",maxNumCompThreads);\n",
    "\n",
    "%% Setup arrays for speed measurement reporting\n",
    "CPUtime   = zeros(num_lvls,1);\n",
    "\n",
    "%% Set the path where results will be written. This directory will be created if needed\n",
    "resultPath = \"results\";\n",
    "if exist(resultPath, 'dir')\n",
    "    cmd = \"rm -rf \"+resultPath;\n",
    "    system(cmd);\n",
    "end\n",
    "mkdir(resultPath);\n",
    "\n",
    "%% Run simulations for all grid levels\n",
    "for lvl=1:length(N1d)\n",
    "    %\n",
    "    Nx = N1d(lvl);\n",
    "    Ny = Nx; \n",
    "    Nz = 1;  % change this to Nx for a full 3d simulation\n",
    "    %\n",
    "    fprintf(\"%s\",repelem(\"-\",70));fprintf(\"\\n\");\n",
    "    fprintf(\"Starting to solve grid level=%d with Nx=%d Ny=%d Nz=%d\\n\",lvl,Nx,Ny,Nz);\n",
    "    fprintf(\"%s\",repelem(\"-\",70));fprintf(\"\\n\");\n",
    "    %\n",
    "    data = ftFDTenoSolver(Tfinal, dtOption, CFL, Neq, Nx, Ny, Nz, Lx, Ly, Lz,...\n",
    "                          funFlux, funEig, funInit, funBC, ReconChar, isSource, gam, isConsErr);\n",
    "    % Set time spent by the solver\n",
    "    CPUtime(lvl) = data.CPUtime;\n",
    "    % Write data to file\n",
    "    fileID = fopen(sprintf(\"%s/Q-lvl=%d.txt\",resultPath,lvl),'w');\n",
    "    %\n",
    "    for j=1:Ny\n",
    "        for i=1:Nx\n",
    "            %\n",
    "            fprintf(fileID,'%.15e\\t%.15e\\t%.15e\\t%.15e\\t%.15e\\t%.15e\\n',data.X(i,j,1),data.Y(i,j,1),data.Q(1,i,j,1),data.Q(2,i,j,1),data.Q(3,i,j,1),data.Q(5,i,j,1));\n",
    "            %\n",
    "        end\n",
    "    end\n",
    "    fclose(fileID);\n",
    "    %\n",
    "    save_errors(resultPath+\"/time.txt\",CPUtime(1:lvl));\n",
    "    %\n",
    "    fprintf(\"\\n\");\n",
    "end\n",
    "%\n",
    "fprintf(\"\\n ------ ------------\\n\");\n",
    "fprintf(\" level | CPUtime (s)\\n\");\n",
    "fprintf(\" ------ ------------\\n\");\n",
    "fprintf(\" %5d | %10.4e\\n\",[(1:length(CPUtime))' CPUtime]');\n",
    "fprintf(\"\\n\");"
   ]
  },
  {
   "cell_type": "code",
   "execution_count": null,
   "id": "cd6de3ee-4c86-4632-8988-968045fc6aea",
   "metadata": {},
   "outputs": [],
   "source": []
  }
 ],
 "metadata": {
  "kernelspec": {
   "display_name": "MATLAB Kernel",
   "language": "matlab",
   "name": "jupyter_matlab_kernel"
  },
  "language_info": {
   "file_extension": ".m",
   "mimetype": "text/x-matlab",
   "name": "matlab"
  }
 },
 "nbformat": 4,
 "nbformat_minor": 5
}
